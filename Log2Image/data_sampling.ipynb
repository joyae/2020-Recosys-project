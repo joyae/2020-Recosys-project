{
 "cells": [
  {
   "cell_type": "code",
   "execution_count": 1,
   "metadata": {},
   "outputs": [],
   "source": [
    "import pandas as pd"
   ]
  },
  {
   "cell_type": "markdown",
   "metadata": {},
   "source": [
    "## Load data"
   ]
  },
  {
   "cell_type": "markdown",
   "metadata": {},
   "source": [
    "#### Mobile Log data"
   ]
  },
  {
   "cell_type": "code",
   "execution_count": 2,
   "metadata": {},
   "outputs": [],
   "source": [
    "# Mobile\n",
    "mobile = pd.read_csv(\"./data(다운로드금지)/PCMB공통수집패널로그_MB_201406.csv\", low_memory=False, header=None)"
   ]
  },
  {
   "cell_type": "code",
   "execution_count": 3,
   "metadata": {},
   "outputs": [],
   "source": [
    "mobile.columns = [\"UID\",\"Full_URL\",\"Site\",\"Domain\",\"Time\", \"Title\",\n",
    "              \"keyword_p\",\"keyword_t\",\n",
    "              \"category_1\",\"category_2\",\"category_3\",\"category_4\",\"category_5\",\"category_6\",\n",
    "              \"ownership_1\",\"ownership_2\"]"
   ]
  },
  {
   "cell_type": "code",
   "execution_count": 4,
   "metadata": {},
   "outputs": [],
   "source": [
    "mobile.UID = mobile.UID.map(lambda x: x.replace(\" \",\"\"))"
   ]
  },
  {
   "cell_type": "markdown",
   "metadata": {},
   "source": [
    "#### PC Log data"
   ]
  },
  {
   "cell_type": "code",
   "execution_count": 5,
   "metadata": {},
   "outputs": [],
   "source": [
    "# PC\n",
    "pc1 = pd.read_csv(\"/home/da/jupyter/김현준/PCMB공통수집패널로그_PC_20140601_10.csv\", header=None, low_memory=False)\n",
    "pc2 = pd.read_csv(\"/home/da/jupyter/김현준/PCMB공통수집패널로그_PC_20140611_20.csv\", header=None, low_memory=False)\n",
    "pc3 = pd.read_csv(\"/home/da/jupyter/김현준/PCMB공통수집패널로그_PC_20140621_30.csv\", header=None, low_memory=False)"
   ]
  },
  {
   "cell_type": "code",
   "execution_count": 6,
   "metadata": {},
   "outputs": [],
   "source": [
    "pc1.columns = [\"UID\",\"Full_URL\",\"Site\",\"Domain\",\"Time\", \"Title\",\n",
    "              \"keyword_p\",\"keyword_t\",\n",
    "              \"category_1\",\"category_2\",\"category_3\",\"category_4\",\"category_5\",\"category_6\",\n",
    "              \"ownership_1\",\"ownership_2\"]\n",
    "pc2.columns = [\"UID\",\"Full_URL\",\"Site\",\"Domain\",\"Time\", \"Title\",\n",
    "              \"keyword_p\",\"keyword_t\",\n",
    "              \"category_1\",\"category_2\",\"category_3\",\"category_4\",\"category_5\",\"category_6\",\n",
    "              \"ownership_1\",\"ownership_2\"]\n",
    "pc3.columns = [\"UID\",\"Full_URL\",\"Site\",\"Domain\",\"Time\", \"Title\",\n",
    "              \"keyword_p\",\"keyword_t\",\n",
    "              \"category_1\",\"category_2\",\"category_3\",\"category_4\",\"category_5\",\"category_6\",\n",
    "              \"ownership_1\",\"ownership_2\"]"
   ]
  },
  {
   "cell_type": "code",
   "execution_count": 8,
   "metadata": {},
   "outputs": [],
   "source": [
    "pc1.UID = pc1.UID.map(lambda x: x.replace(\" \",\"\"))\n",
    "pc2.UID = pc2.UID.map(lambda x: x.replace(\" \",\"\"))\n",
    "pc3.UID = pc3.UID.map(lambda x: x.replace(\" \",\"\"))"
   ]
  },
  {
   "cell_type": "markdown",
   "metadata": {},
   "source": [
    "#### Survey data"
   ]
  },
  {
   "cell_type": "code",
   "execution_count": 9,
   "metadata": {},
   "outputs": [
    {
     "name": "stdout",
     "output_type": "stream",
     "text": [
      "서베이의 총 UID 개수: 1066\n"
     ]
    }
   ],
   "source": [
    "# 패널 서베이\n",
    "survey = pd.read_excel(\"./data(다운로드금지)/140716_SSK 구매행태 조사 Raw Data_F.xlsx\")\n",
    "survey.UID = survey.UID.map(lambda x: x.replace(\" \",\"\"))\n",
    "print(\"서베이의 총 UID 개수:\", survey.UID.nunique())"
   ]
  },
  {
   "cell_type": "markdown",
   "metadata": {},
   "source": [
    "## 서베이 응답 기준으로 UID 추출"
   ]
  },
  {
   "cell_type": "markdown",
   "metadata": {},
   "source": [
    "* 가전제품 구매\n",
    "* 6월 기준, 구매 이력이 있음\n",
    "* 인터넷에서 제품 정보를 얻은 경우"
   ]
  },
  {
   "cell_type": "code",
   "execution_count": 10,
   "metadata": {},
   "outputs": [
    {
     "name": "stdout",
     "output_type": "stream",
     "text": [
      "538\n"
     ]
    }
   ],
   "source": [
    "가전구매 = survey[(survey[\"A3_1\"]==1)].copy()\n",
    "print(len(가전구매))"
   ]
  },
  {
   "cell_type": "code",
   "execution_count": 11,
   "metadata": {},
   "outputs": [
    {
     "name": "stdout",
     "output_type": "stream",
     "text": [
      "186\n"
     ]
    }
   ],
   "source": [
    "가전구매_6월 = 가전구매[가전구매[\"A4_2_1\"]==3].copy()\n",
    "print(len(가전구매_6월))"
   ]
  },
  {
   "cell_type": "code",
   "execution_count": 12,
   "metadata": {},
   "outputs": [
    {
     "name": "stdout",
     "output_type": "stream",
     "text": [
      "120\n"
     ]
    }
   ],
   "source": [
    "가전구매_6월_제품정보 = 가전구매_6월[가전구매_6월[\"A4_5\"].isin([3,4,5,6])].copy()\n",
    "print(len(가전구매_6월_제품정보))"
   ]
  },
  {
   "cell_type": "code",
   "execution_count": 13,
   "metadata": {},
   "outputs": [],
   "source": [
    "sample_uid = 가전구매_6월_제품정보[\"UID\"].unique().tolist()"
   ]
  },
  {
   "cell_type": "markdown",
   "metadata": {},
   "source": [
    "## Mobile/PC 로그에서 해당 UID 로그만 추출"
   ]
  },
  {
   "cell_type": "code",
   "execution_count": 14,
   "metadata": {},
   "outputs": [],
   "source": [
    "mob_sample = mobile[mobile[\"UID\"].isin(sample_uid)].copy()"
   ]
  },
  {
   "cell_type": "code",
   "execution_count": 15,
   "metadata": {},
   "outputs": [],
   "source": [
    "pc1_sample = pc1[pc1[\"UID\"].isin(sample_uid)].copy()\n",
    "pc2_sample = pc2[pc2[\"UID\"].isin(sample_uid)].copy()\n",
    "pc3_sample = pc3[pc3[\"UID\"].isin(sample_uid)].copy()\n",
    "\n",
    "pc_sample = pd.concat([pc1_sample, pc2_sample, pc3_sample], axis=0)"
   ]
  },
  {
   "cell_type": "code",
   "execution_count": 16,
   "metadata": {},
   "outputs": [],
   "source": [
    "# Mobile/PC 여부 컬럼 추가\n",
    "# 1 = PC\n",
    "# 0 = Mobile\n",
    "mob_sample[\"PC\"] = 0\n",
    "pc_sample[\"PC\"] = 1"
   ]
  },
  {
   "cell_type": "markdown",
   "metadata": {},
   "source": [
    "## Mobile/PC to one dataframe"
   ]
  },
  {
   "cell_type": "code",
   "execution_count": 17,
   "metadata": {},
   "outputs": [],
   "source": [
    "sample = pd.concat([pc_sample, mob_sample], axis=0)"
   ]
  },
  {
   "cell_type": "code",
   "execution_count": 23,
   "metadata": {},
   "outputs": [],
   "source": [
    "# 데이터프레임 인덱스 재정리\n",
    "sample.reset_index(drop=True, inplace=True)"
   ]
  },
  {
   "cell_type": "code",
   "execution_count": 18,
   "metadata": {},
   "outputs": [],
   "source": [
    "# Time 데이터 속성 변경\n",
    "sample[\"Time\"] = sample[\"Time\"].astype(\"datetime64\")"
   ]
  },
  {
   "cell_type": "code",
   "execution_count": 19,
   "metadata": {},
   "outputs": [],
   "source": [
    "# 안쓰는 컬럼 삭제\n",
    "sample.drop([\"Site\",\"Domain\",\"Title\",\"keyword_p\",\"keyword_t\",\n",
    "             \"category_1\", \"category_2\", \"category_3\", \"category_4\", \"category_5\", \"category_6\",\n",
    "             \"ownership_1\", \"ownership_2\"], axis=1, inplace=True)"
   ]
  },
  {
   "cell_type": "code",
   "execution_count": 20,
   "metadata": {},
   "outputs": [
    {
     "name": "stdout",
     "output_type": "stream",
     "text": [
      "# of rows: 3519992\n"
     ]
    }
   ],
   "source": [
    "print(\"# of rows:\", len(sample))"
   ]
  },
  {
   "cell_type": "code",
   "execution_count": 21,
   "metadata": {
    "scrolled": true
   },
   "outputs": [
    {
     "name": "stdout",
     "output_type": "stream",
     "text": [
      "# of unique UIDs: 120\n"
     ]
    }
   ],
   "source": [
    "print(\"# of unique UIDs:\", sample.UID.nunique())"
   ]
  },
  {
   "cell_type": "code",
   "execution_count": 24,
   "metadata": {
    "scrolled": true
   },
   "outputs": [
    {
     "data": {
      "text/html": [
       "<div>\n",
       "<style scoped>\n",
       "    .dataframe tbody tr th:only-of-type {\n",
       "        vertical-align: middle;\n",
       "    }\n",
       "\n",
       "    .dataframe tbody tr th {\n",
       "        vertical-align: top;\n",
       "    }\n",
       "\n",
       "    .dataframe thead th {\n",
       "        text-align: right;\n",
       "    }\n",
       "</style>\n",
       "<table border=\"1\" class=\"dataframe\">\n",
       "  <thead>\n",
       "    <tr style=\"text-align: right;\">\n",
       "      <th></th>\n",
       "      <th>UID</th>\n",
       "      <th>Full_URL</th>\n",
       "      <th>Time</th>\n",
       "      <th>PC</th>\n",
       "    </tr>\n",
       "  </thead>\n",
       "  <tbody>\n",
       "    <tr>\n",
       "      <th>0</th>\n",
       "      <td>20130603169E3A2A5EA7</td>\n",
       "      <td>http://pluszone.gmarket.co.kr/</td>\n",
       "      <td>2014-06-01 00:33:26</td>\n",
       "      <td>1</td>\n",
       "    </tr>\n",
       "    <tr>\n",
       "      <th>1</th>\n",
       "      <td>20130603169E3A2A5EA7</td>\n",
       "      <td>http://pluszone.gmarket.co.kr/eventzone/PopChe...</td>\n",
       "      <td>2014-06-01 00:33:28</td>\n",
       "      <td>1</td>\n",
       "    </tr>\n",
       "    <tr>\n",
       "      <th>2</th>\n",
       "      <td>20130603169E3A2A5EA7</td>\n",
       "      <td>http://pluszone.gmarket.co.kr/favicon.ico</td>\n",
       "      <td>2014-06-01 00:33:28</td>\n",
       "      <td>1</td>\n",
       "    </tr>\n",
       "    <tr>\n",
       "      <th>3</th>\n",
       "      <td>20130603169E3A2A5EA7</td>\n",
       "      <td>http://promotion.gmarket.co.kr/eventzone/GStam...</td>\n",
       "      <td>2014-06-01 00:33:16</td>\n",
       "      <td>1</td>\n",
       "    </tr>\n",
       "    <tr>\n",
       "      <th>4</th>\n",
       "      <td>20130603169E3A2A5EA7</td>\n",
       "      <td>http://promotion.gmarket.co.kr/eventzone/GStam...</td>\n",
       "      <td>2014-06-01 00:33:22</td>\n",
       "      <td>1</td>\n",
       "    </tr>\n",
       "  </tbody>\n",
       "</table>\n",
       "</div>"
      ],
      "text/plain": [
       "                    UID                                           Full_URL  \\\n",
       "0  20130603169E3A2A5EA7                     http://pluszone.gmarket.co.kr/   \n",
       "1  20130603169E3A2A5EA7  http://pluszone.gmarket.co.kr/eventzone/PopChe...   \n",
       "2  20130603169E3A2A5EA7          http://pluszone.gmarket.co.kr/favicon.ico   \n",
       "3  20130603169E3A2A5EA7  http://promotion.gmarket.co.kr/eventzone/GStam...   \n",
       "4  20130603169E3A2A5EA7  http://promotion.gmarket.co.kr/eventzone/GStam...   \n",
       "\n",
       "                 Time  PC  \n",
       "0 2014-06-01 00:33:26   1  \n",
       "1 2014-06-01 00:33:28   1  \n",
       "2 2014-06-01 00:33:28   1  \n",
       "3 2014-06-01 00:33:16   1  \n",
       "4 2014-06-01 00:33:22   1  "
      ]
     },
     "execution_count": 24,
     "metadata": {},
     "output_type": "execute_result"
    }
   ],
   "source": [
    "sample.head()"
   ]
  },
  {
   "cell_type": "code",
   "execution_count": null,
   "metadata": {},
   "outputs": [],
   "source": [
    "# 데이터프레임 저장\n",
    "sample.to_csv(\"./data(다운로드금지)/0109_PC&Mob_06_가전제품구매.csv\", index=False)"
   ]
  }
 ],
 "metadata": {
  "kernelspec": {
   "display_name": "Python 3",
   "language": "python",
   "name": "python3"
  },
  "language_info": {
   "codemirror_mode": {
    "name": "ipython",
    "version": 3
   },
   "file_extension": ".py",
   "mimetype": "text/x-python",
   "name": "python",
   "nbconvert_exporter": "python",
   "pygments_lexer": "ipython3",
   "version": "3.6.8"
  }
 },
 "nbformat": 4,
 "nbformat_minor": 2
}
