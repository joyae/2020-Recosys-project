{
 "cells": [
  {
   "cell_type": "markdown",
   "metadata": {},
   "source": [
    "#### Yaelin's Note"
   ]
  },
  {
   "cell_type": "markdown",
   "metadata": {},
   "source": [
    "* UID 별 로그 데이터 수를 기준으로 threshold를 줘야할까?\n",
    "* 속도 향상 필요 - 정말 이게 의미가 있으려면, 실제 업에서 활용될 수 있으려면"
   ]
  },
  {
   "cell_type": "code",
   "execution_count": 1,
   "metadata": {},
   "outputs": [],
   "source": [
    "import pandas as pd\n",
    "import re\n",
    "import numpy as np\n",
    "from tqdm import tqdm, tqdm_notebook\n",
    "import matplotlib.pyplot as plt\n",
    "%matplotlib inline"
   ]
  },
  {
   "cell_type": "markdown",
   "metadata": {},
   "source": [
    "## load data"
   ]
  },
  {
   "cell_type": "code",
   "execution_count": 2,
   "metadata": {},
   "outputs": [
    {
     "name": "stdout",
     "output_type": "stream",
     "text": [
      "/home/da/jupyter/조예린/Recosys\n"
     ]
    }
   ],
   "source": [
    "import os\n",
    "print(os.getcwd()) # 현재 디렉토리 확인"
   ]
  },
  {
   "cell_type": "code",
   "execution_count": 3,
   "metadata": {},
   "outputs": [],
   "source": [
    "sample = pd.read_csv(\"/home/da/jupyter/조예린/Recosys/data(다운로드금지)/0109_PC&Mob_06_가전제품구매.csv\", low_memory=False)"
   ]
  },
  {
   "cell_type": "code",
   "execution_count": null,
   "metadata": {},
   "outputs": [],
   "source": [
    "sample_uid = sample.UID.unique().tolist()"
   ]
  },
  {
   "cell_type": "markdown",
   "metadata": {},
   "source": [
    "## url data preprocessing"
   ]
  },
  {
   "cell_type": "code",
   "execution_count": 4,
   "metadata": {},
   "outputs": [],
   "source": [
    "url_list = sample.Full_URL.tolist()"
   ]
  },
  {
   "cell_type": "code",
   "execution_count": 5,
   "metadata": {},
   "outputs": [],
   "source": [
    "def prep_url(url):\n",
    "    prep_url = re.sub(\"[-=+,#/\\?:^$.@*\\\"*~&!\\\\'|\\(\\)\\[\\]\\<\\>...]\",\" \",url)\n",
    "    prep_url = re.sub(\"[%]\",\"\",prep_url)\n",
    "    prep_url = prep_url.split(\" \")\n",
    "    prep_url = list(filter(lambda x: x != '', prep_url))\n",
    "    return prep_url"
   ]
  },
  {
   "cell_type": "code",
   "execution_count": 6,
   "metadata": {},
   "outputs": [],
   "source": [
    "prep_url_list = list(map(prep_url, url_list))"
   ]
  },
  {
   "cell_type": "markdown",
   "metadata": {},
   "source": [
    "## Word embedding by Word2Vec"
   ]
  },
  {
   "cell_type": "code",
   "execution_count": null,
   "metadata": {},
   "outputs": [],
   "source": [
    "from gensim.models import Word2Vec, KeyedVectors"
   ]
  },
  {
   "cell_type": "code",
   "execution_count": null,
   "metadata": {},
   "outputs": [],
   "source": [
    "# size=3인 이유는 RGB 색상으로 나타내야 하기 때문\n",
    "model = Word2Vec(sentences=prep_url_list, size=3, window=5, workers=4, sg=1)"
   ]
  },
  {
   "cell_type": "code",
   "execution_count": null,
   "metadata": {},
   "outputs": [],
   "source": [
    "model.wv.save_word2vec_format(\"./model/word2vec_model\") # 모델 저장\n",
    "loaded_model=KeyedVectors.load_word2vec_format(\"./model/word2vec_model\") # 모델 로드"
   ]
  },
  {
   "cell_type": "code",
   "execution_count": null,
   "metadata": {},
   "outputs": [],
   "source": [
    "!python -m gensim.scripts.word2vec2tensor --input ./model/0112_word2vec_model --output ./model/0112_word2vec_model"
   ]
  },
  {
   "cell_type": "markdown",
   "metadata": {},
   "source": [
    "## Word embedding by Sent2Vec"
   ]
  },
  {
   "cell_type": "code",
   "execution_count": null,
   "metadata": {},
   "outputs": [],
   "source": [
    "from nltk import word_tokenize\n",
    "import numpy as np"
   ]
  },
  {
   "cell_type": "code",
   "execution_count": null,
   "metadata": {},
   "outputs": [],
   "source": [
    "url_vectorized = []\n",
    "for i in prep_url_list:\n",
    "    vectors = [loaded_model[w] for w in i if w in loaded_model]\n",
    "    v = np.zeros(loaded_model.vector_size)\n",
    "    if (len(vectors)>0):\n",
    "        v = (np.array([sum(x) for x in zip(*vectors)])) / v.size\n",
    "    url_vectorized.append(v)"
   ]
  },
  {
   "cell_type": "markdown",
   "metadata": {},
   "source": [
    "## 시각화를 위한 데이터 정리"
   ]
  },
  {
   "cell_type": "code",
   "execution_count": null,
   "metadata": {},
   "outputs": [],
   "source": [
    "url_vct_tup = list(map(tuple, url_vectorized))"
   ]
  },
  {
   "cell_type": "code",
   "execution_count": null,
   "metadata": {},
   "outputs": [],
   "source": [
    "# RGB 벡터 데이터프레임 만들기\n",
    "vis_sample = pd.DataFrame(url_vct_tup, columns=[\"color_R\",\"color_G\",\"color_B\"])"
   ]
  },
  {
   "cell_type": "code",
   "execution_count": null,
   "metadata": {},
   "outputs": [],
   "source": [
    "# 기존 sample 데이터프레임 + RGB 벡터 테이터프레임\n",
    "vis_sample = pd.concat([sample[[\"UID\",\"Full_URL\",\"Time\",\"PC\"]],vis_sample], axis=1)"
   ]
  },
  {
   "cell_type": "code",
   "execution_count": null,
   "metadata": {},
   "outputs": [],
   "source": [
    "# 로그 찍힌 시간 데이터타입 datetime64로 지정\n",
    "vis_sample[\"Time\"] = vis_sample[\"Time\"].astype(\"datetime64\")"
   ]
  },
  {
   "cell_type": "code",
   "execution_count": null,
   "metadata": {},
   "outputs": [],
   "source": [
    "# Time -> date, time 나누기\n",
    "vis_sample[\"date\"] = vis_sample[\"Time\"].dt.strftime(\"%d\")\n",
    "vis_sample[\"time\"] = vis_sample[\"Time\"].dt.time"
   ]
  },
  {
   "cell_type": "code",
   "execution_count": null,
   "metadata": {},
   "outputs": [],
   "source": [
    "# date 컬럼, int로 type 변경\n",
    "vis_sample[\"date\"] = vis_sample[\"date\"].astype(\"int\")"
   ]
  },
  {
   "cell_type": "code",
   "execution_count": null,
   "metadata": {},
   "outputs": [],
   "source": [
    "# 데이터프레임 저장 및 불러오기\n",
    "vis_sample.to_csv(\"./data(다운로드금지)/0114_PC&Mob_06_가전제품구매_withRGB.csv\", index=False)\n",
    "\n",
    "vis_sample = pd.read_csv(\"./data(다운로드금지)/0114_PC&Mob_06_가전제품구매_withRGB.csv\", low_memory=False)\n",
    "vis_sample[\"Time\"] = vis_sample[\"Time\"].astype(\"datetime64\")"
   ]
  },
  {
   "cell_type": "markdown",
   "metadata": {},
   "source": [
    "## 초단위 기준 데이터프레임 생성"
   ]
  },
  {
   "cell_type": "code",
   "execution_count": 18,
   "metadata": {},
   "outputs": [],
   "source": [
    "# 초단위 기준 데이터프레임 생성\n",
    "# 맨 마지막 행이 7월 1일이라, 이건 추후 삭제\n",
    "everysec = pd.date_range(start=pd.Timestamp('2014-06-01 00:00:00'), end=pd.Timestamp('2014-07-01 00:00:00'), freq='S')\n",
    "everysec_df = pd.DataFrame(everysec)\n",
    "everysec_df.columns = ['Time']"
   ]
  },
  {
   "cell_type": "markdown",
   "metadata": {},
   "source": [
    "## log2image function"
   ]
  },
  {
   "cell_type": "code",
   "execution_count": 19,
   "metadata": {},
   "outputs": [],
   "source": [
    "def log2image(uid):\n",
    "    file_name = \"./image/\" + str(uid) + \"_6월_가전제품\"\n",
    "    temp = vis_sample[vis_sample.UID==uid].copy()\n",
    "    temp.sort_values(by=\"Time\", inplace=True)\n",
    "    temp.reset_index(drop=True, inplace=True)\n",
    "    \n",
    "    temp_everysec = everysec_df.merge(temp[[\"Time\",\"Full_URL\",\n",
    "                                            \"color_R\",\"color_G\",\"color_B\"]], how='left')    \n",
    "    temp_everysec[\"date\"] = temp_everysec[\"Time\"].dt.strftime(\"%d\")\n",
    "    temp_everysec[\"date\"] = temp_everysec[\"date\"].astype(\"int\")\n",
    "#     print(temp_everysec[temp_everysec[\"color_R\"].notnull()].head())\n",
    "    \n",
    "    temp_everysec[\"color_R\"] = temp_everysec[\"color_R\"].apply(lambda x: 0 if np.isnan(x) else x)\n",
    "    temp_everysec[\"color_G\"] = temp_everysec[\"color_G\"].apply(lambda x: 0 if np.isnan(x) else x)\n",
    "    temp_everysec[\"color_B\"] = temp_everysec[\"color_B\"].apply(lambda x: 0 if np.isnan(x) else x)\n",
    "    \n",
    "    temp_everysec.drop(temp_everysec.tail(1).index,inplace=True)\n",
    "    print(\"시각화를 위한 데이터프레임 생성 완료\")\n",
    "    \n",
    "    limits = []\n",
    "    for i in range(1, 31):\n",
    "        limits.append(len(temp_everysec[temp_everysec[\"date\"]==i]))\n",
    "    print(max(limits))\n",
    "        \n",
    "    r = np.zeros((30,max(limits)))\n",
    "    g = np.zeros((30,max(limits)))\n",
    "    b = np.zeros((30,max(limits)))\n",
    "    \n",
    "    r_element = list()\n",
    "    g_element = list()\n",
    "    b_element = list()\n",
    "\n",
    "    for i in range(1, 31):\n",
    "        r_element.append([y for idx, y in enumerate(temp_everysec.color_R) if temp_everysec.iloc[idx,-1]==i])\n",
    "        g_element.append([y for idx, y in enumerate(temp_everysec.color_G) if temp_everysec.iloc[idx,-1]==i])\n",
    "        b_element.append([y for idx, y in enumerate(temp_everysec.color_B) if temp_everysec.iloc[idx,-1]==i])\n",
    "        \n",
    "    for i in range(0, 30):\n",
    "        for j in range(0, len(r_element[i])):\n",
    "            r[i][j] = r_element[i][j]\n",
    "            g[i][j] = g_element[i][j]\n",
    "            b[i][j] = b_element[i][j]\n",
    "    \n",
    "    print(\"시각화를 위한 RGB Array 생성 완료\")\n",
    "\n",
    "    fig = plt.figure(figsize=(20,10))\n",
    "    ny, nx = 30, max(limits)\n",
    "\n",
    "    c = np.dstack([r,g,b])\n",
    "    \n",
    "    plt.axis('off')\n",
    "    plt.imshow(c, interpolation='nearest', aspect='auto')\n",
    "    plt.savefig(file_name, bbox_inches='tight',transparent=True, pad_inches=0)\n",
    "    plt.show()\n",
    "    print(\"시각화된 이미지 저장 완료\")\n",
    "    return r,g,b"
   ]
  },
  {
   "cell_type": "code",
   "execution_count": 21,
   "metadata": {
    "scrolled": true
   },
   "outputs": [
    {
     "name": "stderr",
     "output_type": "stream",
     "text": [
      "--- Logging error ---\n",
      "Traceback (most recent call last):\n",
      "  File \"/usr/lib/python3.6/logging/__init__.py\", line 998, in emit\n",
      "    self.flush()\n",
      "  File \"/usr/lib/python3.6/logging/__init__.py\", line 978, in flush\n",
      "    self.stream.flush()\n",
      "OSError: [Errno 5] Input/output error\n",
      "Call stack:\n",
      "  File \"/usr/lib/python3.6/runpy.py\", line 193, in _run_module_as_main\n",
      "    \"__main__\", mod_spec)\n",
      "  File \"/usr/lib/python3.6/runpy.py\", line 85, in _run_code\n",
      "    exec(code, run_globals)\n",
      "  File \"/usr/lib/python3/dist-packages/ipykernel_launcher.py\", line 16, in <module>\n",
      "    app.launch_new_instance()\n",
      "  File \"/usr/lib/python3/dist-packages/traitlets/config/application.py\", line 658, in launch_instance\n",
      "    app.start()\n",
      "  File \"/usr/lib/python3/dist-packages/ipykernel/kernelapp.py\", line 486, in start\n",
      "    self.io_loop.start()\n",
      "  File \"/usr/lib/python3/dist-packages/zmq/eventloop/ioloop.py\", line 177, in start\n",
      "    super(ZMQIOLoop, self).start()\n",
      "  File \"/usr/lib/python3/dist-packages/tornado/ioloop.py\", line 888, in start\n",
      "    handler_func(fd_obj, events)\n",
      "  File \"/usr/lib/python3/dist-packages/tornado/stack_context.py\", line 277, in null_wrapper\n",
      "    return fn(*args, **kwargs)\n",
      "  File \"/usr/lib/python3/dist-packages/zmq/eventloop/zmqstream.py\", line 440, in _handle_events\n",
      "    self._handle_recv()\n",
      "  File \"/usr/lib/python3/dist-packages/zmq/eventloop/zmqstream.py\", line 472, in _handle_recv\n",
      "    self._run_callback(callback, msg)\n",
      "  File \"/usr/lib/python3/dist-packages/zmq/eventloop/zmqstream.py\", line 414, in _run_callback\n",
      "    callback(*args, **kwargs)\n",
      "  File \"/usr/lib/python3/dist-packages/tornado/stack_context.py\", line 277, in null_wrapper\n",
      "    return fn(*args, **kwargs)\n",
      "  File \"/usr/lib/python3/dist-packages/ipykernel/kernelbase.py\", line 283, in dispatcher\n",
      "    return self.dispatch_shell(stream, msg)\n",
      "  File \"/usr/lib/python3/dist-packages/ipykernel/kernelbase.py\", line 233, in dispatch_shell\n",
      "    handler(stream, idents, msg)\n",
      "  File \"/usr/lib/python3/dist-packages/ipykernel/kernelbase.py\", line 399, in execute_request\n",
      "    user_expressions, allow_stdin)\n",
      "  File \"/usr/lib/python3/dist-packages/ipykernel/ipkernel.py\", line 208, in do_execute\n",
      "    res = shell.run_cell(code, store_history=store_history, silent=silent)\n",
      "  File \"/usr/lib/python3/dist-packages/ipykernel/zmqshell.py\", line 537, in run_cell\n",
      "    return super(ZMQInteractiveShell, self).run_cell(*args, **kwargs)\n",
      "  File \"/usr/lib/python3/dist-packages/IPython/core/interactiveshell.py\", line 2718, in run_cell\n",
      "    interactivity=interactivity, compiler=compiler, result=result)\n",
      "  File \"/usr/lib/python3/dist-packages/IPython/core/interactiveshell.py\", line 2822, in run_ast_nodes\n",
      "    if self.run_code(code, result):\n",
      "  File \"/usr/lib/python3/dist-packages/IPython/core/interactiveshell.py\", line 2882, in run_code\n",
      "    exec(code_obj, self.user_global_ns, self.user_ns)\n",
      "  File \"<ipython-input-21-28de7f6cd6d6>\", line 1, in <module>\n",
      "    for uid in tqdm_notebook(sample_uid[115:]):\n",
      "  File \"/usr/local/lib/python3.6/dist-packages/tqdm/__init__.py\", line 25, in tqdm_notebook\n",
      "    return _tqdm_notebook(*args, **kwargs)\n",
      "  File \"/usr/local/lib/python3.6/dist-packages/tqdm/_tqdm_notebook.py\", line 214, in __init__\n",
      "    self.fp, total, self.desc, self.ncols)\n",
      "  File \"/usr/local/lib/python3.6/dist-packages/tqdm/_tqdm_notebook.py\", line 136, in status_printer\n",
      "    display(container)\n",
      "  File \"/usr/lib/python3/dist-packages/IPython/core/display.py\", line 306, in display\n",
      "    format_dict, md_dict = format(obj, include=include, exclude=exclude)\n",
      "  File \"/usr/lib/python3/dist-packages/IPython/core/formatters.py\", line 148, in format\n",
      "    if self.ipython_display_formatter(obj):\n",
      "  File \"<decorator-gen-11>\", line 2, in __call__\n",
      "  File \"/usr/lib/python3/dist-packages/IPython/core/formatters.py\", line 217, in catch_format_error\n",
      "    r = method(self, *args, **kwargs)\n",
      "  File \"/usr/lib/python3/dist-packages/IPython/core/formatters.py\", line 915, in __call__\n",
      "    method()\n",
      "  File \"/usr/lib/python3/dist-packages/ipywidgets/widgets/widget.py\", line 504, in _ipython_display_\n",
      "    loud_error('Widget Javascript not detected.  It may not be '\n",
      "  File \"/usr/lib/python3/dist-packages/ipywidgets/widgets/widget.py\", line 494, in loud_error\n",
      "    self.log.warn(message)\n",
      "Message: 'Widget Javascript not detected.  It may not be installed or enabled properly.'\n",
      "Arguments: ()\n",
      "Widget Javascript not detected.  It may not be installed or enabled properly.\n"
     ]
    },
    {
     "data": {
      "application/vnd.jupyter.widget-view+json": {
       "model_id": "fd61c5901a1546f8b77fd5c0362b595c"
      }
     },
     "metadata": {},
     "output_type": "display_data"
    },
    {
     "name": "stdout",
     "output_type": "stream",
     "text": [
      "                     Time                                           Full_URL  \\\n",
      "39892 2014-06-01 11:04:52                                http://m.naver.com/   \n",
      "39895 2014-06-01 11:04:55  http://m.search.naver.com/search.naver?where=m...   \n",
      "39913 2014-06-01 11:05:13                                http://m.naver.com/   \n",
      "39933 2014-06-01 11:05:33  http://m.news.naver.com/photoViewer.nhn?compon...   \n",
      "39996 2014-06-01 11:06:36                                http://m.naver.com/   \n",
      "\n",
      "        color_R   color_G   color_B  date  \n",
      "39892  2.565616 -0.929637  1.864298     1  \n",
      "39895  7.296415 -1.808982  9.808392     1  \n",
      "39913  2.565616 -0.929637  1.864298     1  \n",
      "39933  9.510301 -2.944537  9.701979     1  \n",
      "39996  2.565616 -0.929637  1.864298     1  \n",
      "시각화를 위한 데이터프레임 생성 완료\n",
      "86647\n"
     ]
    },
    {
     "name": "stderr",
     "output_type": "stream",
     "text": [
      "Clipping input data to the valid range for imshow with RGB data ([0..1] for floats or [0..255] for integers).\n"
     ]
    },
    {
     "name": "stdout",
     "output_type": "stream",
     "text": [
      "시각화를 위한 RGB Array 생성 완료\n"
     ]
    },
    {
     "data": {
      "image/png": "[encoded data removed]",
      "text/plain": [
       "<Figure size 1440x720 with 1 Axes>"
      ]
     },
     "metadata": {},
     "output_type": "display_data"
    },
    {
     "name": "stdout",
     "output_type": "stream",
     "text": [
      "시각화된 이미지 저장 완료\n",
      "(30, 86647)\n",
      "(30, 86647)\n",
      "(30, 86647)\n",
      "                  Time                                           Full_URL  \\\n",
      "86 2014-06-01 00:01:26      http://www.ppomppu.co.kr/banner/bbs_list.html   \n",
      "87 2014-06-01 00:01:26         http://www.ppomppu.co.kr/banner/right.html   \n",
      "88 2014-06-01 00:01:26       http://www.ppomppu.co.kr/banner/top_sub.html   \n",
      "89 2014-06-01 00:01:27  http://p4-cbxcyljaoqpie-ir7k3znkyo6ts5hd-if-v6...   \n",
      "90 2014-06-01 00:01:27  http://imp.sndkorea.co.kr/imp/gate.php?target=...   \n",
      "\n",
      "      color_R    color_G   color_B  date  \n",
      "86   5.972191   1.056297 -1.271554     1  \n",
      "87   5.947385   0.917914 -1.427711     1  \n",
      "88   6.227267   1.153570 -1.608918     1  \n",
      "89  12.375785   9.435825 -5.279121     1  \n",
      "90  16.686443  10.689944 -6.103130     1  \n",
      "시각화를 위한 데이터프레임 생성 완료\n",
      "88907\n"
     ]
    },
    {
     "name": "stderr",
     "output_type": "stream",
     "text": [
      "Clipping input data to the valid range for imshow with RGB data ([0..1] for floats or [0..255] for integers).\n"
     ]
    },
    {
     "name": "stdout",
     "output_type": "stream",
     "text": [
      "시각화를 위한 RGB Array 생성 완료\n"
     ]
    },
    {
     "data": {
      "image/png": "[encoded data removed]",
      "text/plain": [
       "<Figure size 1440x720 with 1 Axes>"
      ]
     },
     "metadata": {},
     "output_type": "display_data"
    },
    {
     "name": "stdout",
     "output_type": "stream",
     "text": [
      "시각화된 이미지 저장 완료\n",
      "(30, 88907)\n",
      "(30, 88907)\n",
      "(30, 88907)\n",
      "                      Time                                           Full_URL  \\\n",
      "116478 2014-06-02 08:21:18  http://nateonevent.nate.com/popup/ad_login/rol...   \n",
      "116502 2014-06-02 08:21:42               http://xo.nate.com/nateon/NtLogin.sk   \n",
      "116503 2014-06-02 08:21:42                      https://br.nate.com/index.php   \n",
      "126907 2014-06-02 11:15:06  https://wbill.samsungcard.com/ehub/rpc/LSECCom...   \n",
      "126908 2014-06-02 11:15:06                 https://wbill.samsungcard.com/ehub   \n",
      "\n",
      "         color_R   color_G   color_B  date  \n",
      "116478  6.970611 -2.274181  0.875526     2  \n",
      "116502  5.851276 -2.824512  3.190541     2  \n",
      "116503  4.680691 -1.258816  1.703937     2  \n",
      "126907  5.292863 -2.026949  0.700718     2  \n",
      "126908  4.250911 -1.669531  0.612804     2  \n",
      "시각화를 위한 데이터프레임 생성 완료\n",
      "86514\n"
     ]
    },
    {
     "name": "stderr",
     "output_type": "stream",
     "text": [
      "Clipping input data to the valid range for imshow with RGB data ([0..1] for floats or [0..255] for integers).\n"
     ]
    },
    {
     "name": "stdout",
     "output_type": "stream",
     "text": [
      "시각화를 위한 RGB Array 생성 완료\n"
     ]
    },
    {
     "data": {
      "image/png": "[encoded data removed]",
      "text/plain": [
       "<Figure size 1440x720 with 1 Axes>"
      ]
     },
     "metadata": {},
     "output_type": "display_data"
    },
    {
     "name": "stdout",
     "output_type": "stream",
     "text": [
      "시각화된 이미지 저장 완료\n",
      "(30, 86514)\n",
      "(30, 86514)\n",
      "(30, 86514)\n",
      "                       Time  \\\n",
      "1795606 2014-06-21 18:46:46   \n",
      "1795618 2014-06-21 18:46:58   \n",
      "1795630 2014-06-21 18:47:10   \n",
      "1795906 2014-06-21 18:51:46   \n",
      "1795910 2014-06-21 18:51:50   \n",
      "\n",
      "                                                  Full_URL    color_R  \\\n",
      "1795606    http://www.processclean.co.kr/ads/tads/ad5.html   5.861557   \n",
      "1795618  http://cc.naver.com/cc?a=ncy.sports&r=&i=&bw=1...  19.743734   \n",
      "1795630        http://sports.news.naver.com/main/index.nhn   6.435934   \n",
      "1795906  http://cc.naver.com/cc?a=LNB.baseball&r=&i=bas...  20.560719   \n",
      "1795910  http://sports.news.naver.com/sports/index.nhn?...   7.877873   \n",
      "\n",
      "          color_G    color_B  date  \n",
      "1795606  2.475401  -1.603876    21  \n",
      "1795618  0.085894  23.080136    21  \n",
      "1795630 -2.461602   4.089351    21  \n",
      "1795906 -1.254067  23.542948    21  \n",
      "1795910 -2.524546   5.854916    21  \n",
      "시각화를 위한 데이터프레임 생성 완료\n",
      "86537\n"
     ]
    },
    {
     "name": "stderr",
     "output_type": "stream",
     "text": [
      "Clipping input data to the valid range for imshow with RGB data ([0..1] for floats or [0..255] for integers).\n"
     ]
    },
    {
     "name": "stdout",
     "output_type": "stream",
     "text": [
      "시각화를 위한 RGB Array 생성 완료\n"
     ]
    },
    {
     "data": {
      "image/png": "[encoded data removed]",
      "text/plain": [
       "<Figure size 1440x720 with 1 Axes>"
      ]
     },
     "metadata": {},
     "output_type": "display_data"
    },
    {
     "name": "stdout",
     "output_type": "stream",
     "text": [
      "시각화된 이미지 저장 완료\n",
      "(30, 86537)\n",
      "(30, 86537)\n",
      "(30, 86537)\n",
      "                   Time                                    Full_URL   color_R  \\\n",
      "230 2014-06-01 00:03:50  http://sportstv.afreeca.com/etc/replay.php  4.444254   \n",
      "238 2014-06-01 00:03:58  http://sportstv.afreeca.com/etc/replay.php  4.444254   \n",
      "240 2014-06-01 00:04:00  http://sportstv.afreeca.com/etc/replay.php  4.444254   \n",
      "304 2014-06-01 00:05:04                     http://www.afreeca.com/  2.384815   \n",
      "312 2014-06-01 00:05:12                http://sportstv.afreeca.com/  2.314652   \n",
      "\n",
      "      color_G   color_B  date  \n",
      "230 -0.331030  0.981413     1  \n",
      "238 -0.331030  0.981413     1  \n",
      "240 -0.331030  0.981413     1  \n",
      "304 -0.602821  0.523176     1  \n",
      "312 -0.707893  0.790533     1  \n",
      "시각화를 위한 데이터프레임 생성 완료\n",
      "86762\n"
     ]
    },
    {
     "name": "stderr",
     "output_type": "stream",
     "text": [
      "Clipping input data to the valid range for imshow with RGB data ([0..1] for floats or [0..255] for integers).\n"
     ]
    },
    {
     "name": "stdout",
     "output_type": "stream",
     "text": [
      "시각화를 위한 RGB Array 생성 완료\n"
     ]
    },
    {
     "data": {
      "image/png": "[encoded data removed]",
      "text/plain": [
       "<Figure size 1440x720 with 1 Axes>"
      ]
     },
     "metadata": {},
     "output_type": "display_data"
    },
    {
     "name": "stdout",
     "output_type": "stream",
     "text": [
      "시각화된 이미지 저장 완료\n",
      "(30, 86762)\n",
      "(30, 86762)\n",
      "(30, 86762)\n",
      "\n"
     ]
    }
   ],
   "source": [
    "for uid in tqdm_notebook(sample_uid):\n",
    "    r,g,b = log2image(uid)\n",
    "    print(r.shape)\n",
    "    print(g.shape)\n",
    "    print(b.shape)\n",
    "    RGB_data.append((uid,r,g,b))"
   ]
  }
 ],
 "metadata": {
  "kernelspec": {
   "display_name": "Python 3",
   "language": "python",
   "name": "python3"
  },
  "language_info": {
   "codemirror_mode": {
    "name": "ipython",
    "version": 3
   },
   "file_extension": ".py",
   "mimetype": "text/x-python",
   "name": "python",
   "nbconvert_exporter": "python",
   "pygments_lexer": "ipython3",
   "version": "3.7.4"
  }
 },
 "nbformat": 4,
 "nbformat_minor": 2
}
