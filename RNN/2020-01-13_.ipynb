{
 "cells": [
  {
   "cell_type": "code",
   "execution_count": 1,
   "metadata": {
    "collapsed": true
   },
   "outputs": [
    {
     "name": "stderr",
     "output_type": "stream",
     "text": [
      "Using TensorFlow backend.\n"
     ]
    },
    {
     "ename": "ModuleNotFoundError",
     "evalue": "No module named 'tensorflow.python'",
     "output_type": "error",
     "traceback": [
      "\u001b[0;31m---------------------------------------------------------------------------\u001b[0m",
      "\u001b[0;31mModuleNotFoundError\u001b[0m                       Traceback (most recent call last)",
      "\u001b[0;32m<ipython-input-1-680639b85d27>\u001b[0m in \u001b[0;36m<module>\u001b[0;34m()\u001b[0m\n\u001b[1;32m      4\u001b[0m \u001b[0;32mimport\u001b[0m \u001b[0mdatetime\u001b[0m\u001b[0;34m\u001b[0m\u001b[0;34m\u001b[0m\u001b[0m\n\u001b[1;32m      5\u001b[0m \u001b[0;32mimport\u001b[0m \u001b[0mnumpy\u001b[0m \u001b[0;32mas\u001b[0m \u001b[0mnp\u001b[0m\u001b[0;34m\u001b[0m\u001b[0;34m\u001b[0m\u001b[0m\n\u001b[0;32m----> 6\u001b[0;31m \u001b[0;32mfrom\u001b[0m \u001b[0mkeras\u001b[0m\u001b[0;34m.\u001b[0m\u001b[0mmodels\u001b[0m \u001b[0;32mimport\u001b[0m \u001b[0mSequential\u001b[0m\u001b[0;34m\u001b[0m\u001b[0;34m\u001b[0m\u001b[0m\n\u001b[0m\u001b[1;32m      7\u001b[0m \u001b[0;32mfrom\u001b[0m \u001b[0mkeras\u001b[0m\u001b[0;34m.\u001b[0m\u001b[0mlayers\u001b[0m \u001b[0;32mimport\u001b[0m \u001b[0mDense\u001b[0m\u001b[0;34m\u001b[0m\u001b[0;34m\u001b[0m\u001b[0m\n\u001b[1;32m      8\u001b[0m \u001b[0;32mfrom\u001b[0m \u001b[0mkeras\u001b[0m\u001b[0;34m.\u001b[0m\u001b[0mlayers\u001b[0m \u001b[0;32mimport\u001b[0m \u001b[0mLSTM\u001b[0m\u001b[0;34m\u001b[0m\u001b[0;34m\u001b[0m\u001b[0m\n",
      "\u001b[0;32m/usr/local/lib/python3.6/dist-packages/keras/__init__.py\u001b[0m in \u001b[0;36m<module>\u001b[0;34m()\u001b[0m\n\u001b[1;32m      1\u001b[0m \u001b[0;32mfrom\u001b[0m \u001b[0m__future__\u001b[0m \u001b[0;32mimport\u001b[0m \u001b[0mabsolute_import\u001b[0m\u001b[0;34m\u001b[0m\u001b[0;34m\u001b[0m\u001b[0m\n\u001b[1;32m      2\u001b[0m \u001b[0;34m\u001b[0m\u001b[0m\n\u001b[0;32m----> 3\u001b[0;31m \u001b[0;32mfrom\u001b[0m \u001b[0;34m.\u001b[0m \u001b[0;32mimport\u001b[0m \u001b[0mutils\u001b[0m\u001b[0;34m\u001b[0m\u001b[0;34m\u001b[0m\u001b[0m\n\u001b[0m\u001b[1;32m      4\u001b[0m \u001b[0;32mfrom\u001b[0m \u001b[0;34m.\u001b[0m \u001b[0;32mimport\u001b[0m \u001b[0mactivations\u001b[0m\u001b[0;34m\u001b[0m\u001b[0;34m\u001b[0m\u001b[0m\n\u001b[1;32m      5\u001b[0m \u001b[0;32mfrom\u001b[0m \u001b[0;34m.\u001b[0m \u001b[0;32mimport\u001b[0m \u001b[0mapplications\u001b[0m\u001b[0;34m\u001b[0m\u001b[0;34m\u001b[0m\u001b[0m\n",
      "\u001b[0;32m/usr/local/lib/python3.6/dist-packages/keras/utils/__init__.py\u001b[0m in \u001b[0;36m<module>\u001b[0;34m()\u001b[0m\n\u001b[1;32m      4\u001b[0m \u001b[0;32mfrom\u001b[0m \u001b[0;34m.\u001b[0m \u001b[0;32mimport\u001b[0m \u001b[0mdata_utils\u001b[0m\u001b[0;34m\u001b[0m\u001b[0;34m\u001b[0m\u001b[0m\n\u001b[1;32m      5\u001b[0m \u001b[0;32mfrom\u001b[0m \u001b[0;34m.\u001b[0m \u001b[0;32mimport\u001b[0m \u001b[0mio_utils\u001b[0m\u001b[0;34m\u001b[0m\u001b[0;34m\u001b[0m\u001b[0m\n\u001b[0;32m----> 6\u001b[0;31m \u001b[0;32mfrom\u001b[0m \u001b[0;34m.\u001b[0m \u001b[0;32mimport\u001b[0m \u001b[0mconv_utils\u001b[0m\u001b[0;34m\u001b[0m\u001b[0;34m\u001b[0m\u001b[0m\n\u001b[0m\u001b[1;32m      7\u001b[0m \u001b[0;34m\u001b[0m\u001b[0m\n\u001b[1;32m      8\u001b[0m \u001b[0;31m# Globally-importable utils.\u001b[0m\u001b[0;34m\u001b[0m\u001b[0;34m\u001b[0m\u001b[0;34m\u001b[0m\u001b[0m\n",
      "\u001b[0;32m/usr/local/lib/python3.6/dist-packages/keras/utils/conv_utils.py\u001b[0m in \u001b[0;36m<module>\u001b[0;34m()\u001b[0m\n\u001b[1;32m      1\u001b[0m \u001b[0;32mfrom\u001b[0m \u001b[0msix\u001b[0m\u001b[0;34m.\u001b[0m\u001b[0mmoves\u001b[0m \u001b[0;32mimport\u001b[0m \u001b[0mrange\u001b[0m\u001b[0;34m\u001b[0m\u001b[0;34m\u001b[0m\u001b[0m\n\u001b[1;32m      2\u001b[0m \u001b[0;32mimport\u001b[0m \u001b[0mnumpy\u001b[0m \u001b[0;32mas\u001b[0m \u001b[0mnp\u001b[0m\u001b[0;34m\u001b[0m\u001b[0;34m\u001b[0m\u001b[0m\n\u001b[0;32m----> 3\u001b[0;31m \u001b[0;32mfrom\u001b[0m \u001b[0;34m.\u001b[0m\u001b[0;34m.\u001b[0m \u001b[0;32mimport\u001b[0m \u001b[0mbackend\u001b[0m \u001b[0;32mas\u001b[0m \u001b[0mK\u001b[0m\u001b[0;34m\u001b[0m\u001b[0;34m\u001b[0m\u001b[0m\n\u001b[0m\u001b[1;32m      4\u001b[0m \u001b[0;34m\u001b[0m\u001b[0m\n\u001b[1;32m      5\u001b[0m \u001b[0;34m\u001b[0m\u001b[0m\n",
      "\u001b[0;32m/usr/local/lib/python3.6/dist-packages/keras/backend/__init__.py\u001b[0m in \u001b[0;36m<module>\u001b[0;34m()\u001b[0m\n\u001b[1;32m     81\u001b[0m \u001b[0;32melif\u001b[0m \u001b[0m_BACKEND\u001b[0m \u001b[0;34m==\u001b[0m \u001b[0;34m'tensorflow'\u001b[0m\u001b[0;34m:\u001b[0m\u001b[0;34m\u001b[0m\u001b[0;34m\u001b[0m\u001b[0m\n\u001b[1;32m     82\u001b[0m     \u001b[0msys\u001b[0m\u001b[0;34m.\u001b[0m\u001b[0mstderr\u001b[0m\u001b[0;34m.\u001b[0m\u001b[0mwrite\u001b[0m\u001b[0;34m(\u001b[0m\u001b[0;34m'Using TensorFlow backend.\\n'\u001b[0m\u001b[0;34m)\u001b[0m\u001b[0;34m\u001b[0m\u001b[0;34m\u001b[0m\u001b[0m\n\u001b[0;32m---> 83\u001b[0;31m     \u001b[0;32mfrom\u001b[0m \u001b[0;34m.\u001b[0m\u001b[0mtensorflow_backend\u001b[0m \u001b[0;32mimport\u001b[0m \u001b[0;34m*\u001b[0m\u001b[0;34m\u001b[0m\u001b[0;34m\u001b[0m\u001b[0m\n\u001b[0m\u001b[1;32m     84\u001b[0m \u001b[0;32melse\u001b[0m\u001b[0;34m:\u001b[0m\u001b[0;34m\u001b[0m\u001b[0;34m\u001b[0m\u001b[0m\n\u001b[1;32m     85\u001b[0m     \u001b[0;32mraise\u001b[0m \u001b[0mValueError\u001b[0m\u001b[0;34m(\u001b[0m\u001b[0;34m'Unknown backend: '\u001b[0m \u001b[0;34m+\u001b[0m \u001b[0mstr\u001b[0m\u001b[0;34m(\u001b[0m\u001b[0m_BACKEND\u001b[0m\u001b[0;34m)\u001b[0m\u001b[0;34m)\u001b[0m\u001b[0;34m\u001b[0m\u001b[0;34m\u001b[0m\u001b[0m\n",
      "\u001b[0;32m/usr/local/lib/python3.6/dist-packages/keras/backend/tensorflow_backend.py\u001b[0m in \u001b[0;36m<module>\u001b[0;34m()\u001b[0m\n\u001b[1;32m      1\u001b[0m \u001b[0;32mimport\u001b[0m \u001b[0mtensorflow\u001b[0m \u001b[0;32mas\u001b[0m \u001b[0mtf\u001b[0m\u001b[0;34m\u001b[0m\u001b[0;34m\u001b[0m\u001b[0m\n\u001b[0;32m----> 2\u001b[0;31m \u001b[0;32mfrom\u001b[0m \u001b[0mtensorflow\u001b[0m\u001b[0;34m.\u001b[0m\u001b[0mpython\u001b[0m\u001b[0;34m.\u001b[0m\u001b[0mtraining\u001b[0m \u001b[0;32mimport\u001b[0m \u001b[0mmoving_averages\u001b[0m\u001b[0;34m\u001b[0m\u001b[0;34m\u001b[0m\u001b[0m\n\u001b[0m\u001b[1;32m      3\u001b[0m \u001b[0;32mfrom\u001b[0m \u001b[0mtensorflow\u001b[0m\u001b[0;34m.\u001b[0m\u001b[0mpython\u001b[0m\u001b[0;34m.\u001b[0m\u001b[0mops\u001b[0m \u001b[0;32mimport\u001b[0m \u001b[0mtensor_array_ops\u001b[0m\u001b[0;34m\u001b[0m\u001b[0;34m\u001b[0m\u001b[0m\n\u001b[1;32m      4\u001b[0m \u001b[0;32mfrom\u001b[0m \u001b[0mtensorflow\u001b[0m\u001b[0;34m.\u001b[0m\u001b[0mpython\u001b[0m\u001b[0;34m.\u001b[0m\u001b[0mops\u001b[0m \u001b[0;32mimport\u001b[0m \u001b[0mcontrol_flow_ops\u001b[0m\u001b[0;34m\u001b[0m\u001b[0;34m\u001b[0m\u001b[0m\n\u001b[1;32m      5\u001b[0m \u001b[0;32mfrom\u001b[0m \u001b[0mtensorflow\u001b[0m\u001b[0;34m.\u001b[0m\u001b[0mpython\u001b[0m\u001b[0;34m.\u001b[0m\u001b[0mops\u001b[0m \u001b[0;32mimport\u001b[0m \u001b[0mfunctional_ops\u001b[0m\u001b[0;34m\u001b[0m\u001b[0;34m\u001b[0m\u001b[0m\n",
      "\u001b[0;31mModuleNotFoundError\u001b[0m: No module named 'tensorflow.python'"
     ]
    }
   ],
   "source": [
    "import pandas as pd\n",
    "import tensorflow as tf\n",
    "from sklearn.preprocessing import LabelEncoder\n",
    "import datetime\n",
    "import numpy as np\n",
    "from keras.models import Sequential\n",
    "from keras.layers import Dense\n",
    "from keras.layers import LSTM\n",
    "from keras.optimizers import RMSprop\n",
    "from sklearn.model_selection import train_test_split\n",
    "from keras.preprocessing import sequence\n",
    "from matplotlib import pyplot as plt\n",
    "from keras.layers.embeddings import Embedding\n",
    "from keras.layers import Dropout\n",
    "from keras.layers import Masking\n",
    "from tqdm import tqdm_notebook\n",
    "from imblearn.over_sampling import SMOTE, ADASYN\n",
    "from imblearn.over_sampling import RandomOverSampler\n",
    "from keras.utils import to_categorical"
   ]
  },
  {
   "cell_type": "code",
   "execution_count": 4,
   "metadata": {},
   "outputs": [],
   "source": [
    "data= pd.read_csv('preprocessed_data_v1.csv', low_memory=False)"
   ]
  },
  {
   "cell_type": "code",
   "execution_count": 5,
   "metadata": {},
   "outputs": [],
   "source": [
    "#data = data[['UID', 'Domain','Time', 'category_1', 'category_2', 'PC', 'session_id']]"
   ]
  },
  {
   "cell_type": "code",
   "execution_count": 6,
   "metadata": {},
   "outputs": [],
   "source": [
    "#data.to_csv('preprocessed_data_v1.csv')"
   ]
  },
  {
   "cell_type": "code",
   "execution_count": 7,
   "metadata": {},
   "outputs": [],
   "source": [
    "data['Time'] = pd.to_datetime(data['Time'])"
   ]
  },
  {
   "cell_type": "code",
   "execution_count": 8,
   "metadata": {},
   "outputs": [],
   "source": [
    "data = data.dropna()"
   ]
  },
  {
   "cell_type": "code",
   "execution_count": 9,
   "metadata": {},
   "outputs": [],
   "source": [
    "#label encoding\n",
    "encoder = LabelEncoder()"
   ]
  },
  {
   "cell_type": "code",
   "execution_count": 10,
   "metadata": {},
   "outputs": [],
   "source": [
    "data['category_1'] = encoder.fit_transform(data['category_1'])\n",
    "data['category_2'] = encoder.fit_transform(data['category_2'])"
   ]
  },
  {
   "cell_type": "code",
   "execution_count": 11,
   "metadata": {},
   "outputs": [
    {
     "data": {
      "text/html": [
       "<div>\n",
       "<style scoped>\n",
       "    .dataframe tbody tr th:only-of-type {\n",
       "        vertical-align: middle;\n",
       "    }\n",
       "\n",
       "    .dataframe tbody tr th {\n",
       "        vertical-align: top;\n",
       "    }\n",
       "\n",
       "    .dataframe thead th {\n",
       "        text-align: right;\n",
       "    }\n",
       "</style>\n",
       "<table border=\"1\" class=\"dataframe\">\n",
       "  <thead>\n",
       "    <tr style=\"text-align: right;\">\n",
       "      <th></th>\n",
       "      <th>Unnamed: 0</th>\n",
       "      <th>UID</th>\n",
       "      <th>Domain</th>\n",
       "      <th>Time</th>\n",
       "      <th>category_1</th>\n",
       "      <th>category_2</th>\n",
       "      <th>PC</th>\n",
       "      <th>session_id</th>\n",
       "    </tr>\n",
       "  </thead>\n",
       "  <tbody>\n",
       "    <tr>\n",
       "      <th>0</th>\n",
       "      <td>0</td>\n",
       "      <td>20120712210FAAE99B43</td>\n",
       "      <td>cjmall.com/</td>\n",
       "      <td>2014-06-01 14:07:26</td>\n",
       "      <td>5</td>\n",
       "      <td>237</td>\n",
       "      <td>0</td>\n",
       "      <td>0</td>\n",
       "    </tr>\n",
       "    <tr>\n",
       "      <th>1</th>\n",
       "      <td>1</td>\n",
       "      <td>20120712210FAAE99B43</td>\n",
       "      <td>uplus.co.kr/</td>\n",
       "      <td>2014-06-01 14:25:31</td>\n",
       "      <td>5</td>\n",
       "      <td>270</td>\n",
       "      <td>0</td>\n",
       "      <td>1</td>\n",
       "    </tr>\n",
       "    <tr>\n",
       "      <th>2</th>\n",
       "      <td>2</td>\n",
       "      <td>20120712210FAAE99B43</td>\n",
       "      <td>uplus.co.kr/</td>\n",
       "      <td>2014-06-01 14:25:34</td>\n",
       "      <td>5</td>\n",
       "      <td>270</td>\n",
       "      <td>0</td>\n",
       "      <td>1</td>\n",
       "    </tr>\n",
       "    <tr>\n",
       "      <th>3</th>\n",
       "      <td>3</td>\n",
       "      <td>20120712210FAAE99B43</td>\n",
       "      <td>uplus.co.kr/</td>\n",
       "      <td>2014-06-01 14:25:40</td>\n",
       "      <td>5</td>\n",
       "      <td>270</td>\n",
       "      <td>0</td>\n",
       "      <td>1</td>\n",
       "    </tr>\n",
       "    <tr>\n",
       "      <th>4</th>\n",
       "      <td>4</td>\n",
       "      <td>20120712210FAAE99B43</td>\n",
       "      <td>naver.com/</td>\n",
       "      <td>2014-06-01 14:25:46</td>\n",
       "      <td>13</td>\n",
       "      <td>211</td>\n",
       "      <td>0</td>\n",
       "      <td>1</td>\n",
       "    </tr>\n",
       "  </tbody>\n",
       "</table>\n",
       "</div>"
      ],
      "text/plain": [
       "   Unnamed: 0                   UID        Domain                Time  \\\n",
       "0           0  20120712210FAAE99B43   cjmall.com/ 2014-06-01 14:07:26   \n",
       "1           1  20120712210FAAE99B43  uplus.co.kr/ 2014-06-01 14:25:31   \n",
       "2           2  20120712210FAAE99B43  uplus.co.kr/ 2014-06-01 14:25:34   \n",
       "3           3  20120712210FAAE99B43  uplus.co.kr/ 2014-06-01 14:25:40   \n",
       "4           4  20120712210FAAE99B43    naver.com/ 2014-06-01 14:25:46   \n",
       "\n",
       "   category_1  category_2  PC  session_id  \n",
       "0           5         237   0           0  \n",
       "1           5         270   0           1  \n",
       "2           5         270   0           1  \n",
       "3           5         270   0           1  \n",
       "4          13         211   0           1  "
      ]
     },
     "execution_count": 11,
     "metadata": {},
     "output_type": "execute_result"
    }
   ],
   "source": [
    "data.head()"
   ]
  },
  {
   "cell_type": "markdown",
   "metadata": {},
   "source": [
    "### 세션당 방문한 사이트 수 "
   ]
  },
  {
   "cell_type": "code",
   "execution_count": 12,
   "metadata": {},
   "outputs": [],
   "source": [
    "#session 당 방문한 사이트 수\n",
    "data = pd.merge(data,pd.DataFrame(data.groupby(['UID', 'session_id']).count()['Domain']),\n",
    "                        left_on = ['UID', 'session_id'], right_on = ['UID', 'session_id'])"
   ]
  },
  {
   "cell_type": "markdown",
   "metadata": {},
   "source": [
    "### 구매 데이터 분석"
   ]
  },
  {
   "cell_type": "code",
   "execution_count": 13,
   "metadata": {},
   "outputs": [],
   "source": [
    "purchase = pd.read_excel('140716_SSK 구매행태 조사 Raw Data_F.xlsx')"
   ]
  },
  {
   "cell_type": "code",
   "execution_count": 14,
   "metadata": {},
   "outputs": [
    {
     "data": {
      "text/html": [
       "<div>\n",
       "<style scoped>\n",
       "    .dataframe tbody tr th:only-of-type {\n",
       "        vertical-align: middle;\n",
       "    }\n",
       "\n",
       "    .dataframe tbody tr th {\n",
       "        vertical-align: top;\n",
       "    }\n",
       "\n",
       "    .dataframe thead th {\n",
       "        text-align: right;\n",
       "    }\n",
       "</style>\n",
       "<table border=\"1\" class=\"dataframe\">\n",
       "  <thead>\n",
       "    <tr style=\"text-align: right;\">\n",
       "      <th></th>\n",
       "      <th>UID</th>\n",
       "      <th>SQ1</th>\n",
       "      <th>SQ2</th>\n",
       "      <th>A1#1</th>\n",
       "      <th>A1#2</th>\n",
       "      <th>A1#ETC10</th>\n",
       "      <th>A2_1</th>\n",
       "      <th>A2_1#ETC4</th>\n",
       "      <th>A2_2</th>\n",
       "      <th>A2_2#ETC5</th>\n",
       "      <th>...</th>\n",
       "      <th>DQ2</th>\n",
       "      <th>DQ3</th>\n",
       "      <th>DQ3#ETC6</th>\n",
       "      <th>DQ4</th>\n",
       "      <th>MARRIAGE</th>\n",
       "      <th>FAMILY_SET_1</th>\n",
       "      <th>FAMILY_SET_2</th>\n",
       "      <th>FAMILY_SET_3</th>\n",
       "      <th>FAMILY_SET_4</th>\n",
       "      <th>FAMILY_SET_5</th>\n",
       "    </tr>\n",
       "  </thead>\n",
       "  <tbody>\n",
       "    <tr>\n",
       "      <th>0</th>\n",
       "      <td>2012080964C51FADA0BB</td>\n",
       "      <td>2</td>\n",
       "      <td>1</td>\n",
       "      <td>4</td>\n",
       "      <td>3</td>\n",
       "      <td>NaN</td>\n",
       "      <td>NaN</td>\n",
       "      <td>NaN</td>\n",
       "      <td>NaN</td>\n",
       "      <td>NaN</td>\n",
       "      <td>...</td>\n",
       "      <td>1</td>\n",
       "      <td>1</td>\n",
       "      <td>NaN</td>\n",
       "      <td>1</td>\n",
       "      <td>1</td>\n",
       "      <td>2</td>\n",
       "      <td>NaN</td>\n",
       "      <td>NaN</td>\n",
       "      <td>NaN</td>\n",
       "      <td>NaN</td>\n",
       "    </tr>\n",
       "    <tr>\n",
       "      <th>1</th>\n",
       "      <td>201208101CC2B1B38E1A</td>\n",
       "      <td>5</td>\n",
       "      <td>1</td>\n",
       "      <td>2</td>\n",
       "      <td>4</td>\n",
       "      <td>NaN</td>\n",
       "      <td>NaN</td>\n",
       "      <td>NaN</td>\n",
       "      <td>3.0</td>\n",
       "      <td>NaN</td>\n",
       "      <td>...</td>\n",
       "      <td>1</td>\n",
       "      <td>2</td>\n",
       "      <td>NaN</td>\n",
       "      <td>4</td>\n",
       "      <td>2</td>\n",
       "      <td>3</td>\n",
       "      <td>6.0</td>\n",
       "      <td>NaN</td>\n",
       "      <td>NaN</td>\n",
       "      <td>NaN</td>\n",
       "    </tr>\n",
       "    <tr>\n",
       "      <th>2</th>\n",
       "      <td>201208109732058C1B6F</td>\n",
       "      <td>7</td>\n",
       "      <td>2</td>\n",
       "      <td>2</td>\n",
       "      <td>5</td>\n",
       "      <td>NaN</td>\n",
       "      <td>NaN</td>\n",
       "      <td>NaN</td>\n",
       "      <td>3.0</td>\n",
       "      <td>NaN</td>\n",
       "      <td>...</td>\n",
       "      <td>3</td>\n",
       "      <td>2</td>\n",
       "      <td>NaN</td>\n",
       "      <td>2</td>\n",
       "      <td>4</td>\n",
       "      <td>6</td>\n",
       "      <td>NaN</td>\n",
       "      <td>NaN</td>\n",
       "      <td>NaN</td>\n",
       "      <td>NaN</td>\n",
       "    </tr>\n",
       "    <tr>\n",
       "      <th>3</th>\n",
       "      <td>201208111F4AD56E8439</td>\n",
       "      <td>3</td>\n",
       "      <td>1</td>\n",
       "      <td>2</td>\n",
       "      <td>4</td>\n",
       "      <td>NaN</td>\n",
       "      <td>NaN</td>\n",
       "      <td>NaN</td>\n",
       "      <td>2.0</td>\n",
       "      <td>NaN</td>\n",
       "      <td>...</td>\n",
       "      <td>6</td>\n",
       "      <td>3</td>\n",
       "      <td>NaN</td>\n",
       "      <td>2</td>\n",
       "      <td>1</td>\n",
       "      <td>2</td>\n",
       "      <td>5.0</td>\n",
       "      <td>NaN</td>\n",
       "      <td>NaN</td>\n",
       "      <td>NaN</td>\n",
       "    </tr>\n",
       "    <tr>\n",
       "      <th>4</th>\n",
       "      <td>2012081342E07944430F</td>\n",
       "      <td>5</td>\n",
       "      <td>1</td>\n",
       "      <td>2</td>\n",
       "      <td>4</td>\n",
       "      <td>NaN</td>\n",
       "      <td>NaN</td>\n",
       "      <td>NaN</td>\n",
       "      <td>3.0</td>\n",
       "      <td>NaN</td>\n",
       "      <td>...</td>\n",
       "      <td>9</td>\n",
       "      <td>3</td>\n",
       "      <td>NaN</td>\n",
       "      <td>2</td>\n",
       "      <td>2</td>\n",
       "      <td>3</td>\n",
       "      <td>6.0</td>\n",
       "      <td>NaN</td>\n",
       "      <td>NaN</td>\n",
       "      <td>NaN</td>\n",
       "    </tr>\n",
       "  </tbody>\n",
       "</table>\n",
       "<p>5 rows × 151 columns</p>\n",
       "</div>"
      ],
      "text/plain": [
       "                    UID  SQ1  SQ2  A1#1  A1#2 A1#ETC10  A2_1 A2_1#ETC4  A2_2  \\\n",
       "0  2012080964C51FADA0BB    2    1     4     3      NaN   NaN       NaN   NaN   \n",
       "1  201208101CC2B1B38E1A    5    1     2     4      NaN   NaN       NaN   3.0   \n",
       "2  201208109732058C1B6F    7    2     2     5      NaN   NaN       NaN   3.0   \n",
       "3  201208111F4AD56E8439    3    1     2     4      NaN   NaN       NaN   2.0   \n",
       "4  2012081342E07944430F    5    1     2     4      NaN   NaN       NaN   3.0   \n",
       "\n",
       "  A2_2#ETC5  ...  DQ2  DQ3  DQ3#ETC6 DQ4  MARRIAGE  FAMILY_SET_1 FAMILY_SET_2  \\\n",
       "0       NaN  ...    1    1       NaN   1         1             2          NaN   \n",
       "1       NaN  ...    1    2       NaN   4         2             3          6.0   \n",
       "2       NaN  ...    3    2       NaN   2         4             6          NaN   \n",
       "3       NaN  ...    6    3       NaN   2         1             2          5.0   \n",
       "4       NaN  ...    9    3       NaN   2         2             3          6.0   \n",
       "\n",
       "  FAMILY_SET_3 FAMILY_SET_4 FAMILY_SET_5  \n",
       "0          NaN          NaN          NaN  \n",
       "1          NaN          NaN          NaN  \n",
       "2          NaN          NaN          NaN  \n",
       "3          NaN          NaN          NaN  \n",
       "4          NaN          NaN          NaN  \n",
       "\n",
       "[5 rows x 151 columns]"
      ]
     },
     "execution_count": 14,
     "metadata": {},
     "output_type": "execute_result"
    }
   ],
   "source": [
    "purchase.head()"
   ]
  },
  {
   "cell_type": "code",
   "execution_count": 15,
   "metadata": {},
   "outputs": [
    {
     "data": {
      "text/plain": [
       "528"
      ]
     },
     "execution_count": 15,
     "metadata": {},
     "output_type": "execute_result"
    }
   ],
   "source": [
    "purchase.isna().sum()['A4_2_1']"
   ]
  },
  {
   "cell_type": "code",
   "execution_count": 16,
   "metadata": {},
   "outputs": [],
   "source": [
    "#가전제품 구입자(인터넷에서 정보를 얻은 사람들)\n",
    "purchase_가전제품 = purchase[(purchase['A4_2_1'] == 3) & ((purchase['A4_5'] == 3) | (purchase['A4_5'] == 4))]\n",
    "#패션의류/잡화 구입자(인터넷에서 정보를 얻은 사람들)\n",
    "purchase_패션 = purchase[(purchase['A5_2_1'] == 3) & ((purchase['A5_5'] == 3) | (purchase['A5_5'] == 4))]\n",
    "#화장품 구입자(인터넷에서 정보를 얻은 사람들)\n",
    "purchase_화장품 = purchase[(purchase['A6_2_1'] == 3) & ((purchase['A6_5'] == 3) | (purchase['A6_5'] == 4))]\n",
    "#186명이라 중순과 하순만 고려해야 할듯"
   ]
  },
  {
   "cell_type": "code",
   "execution_count": 17,
   "metadata": {},
   "outputs": [
    {
     "name": "stdout",
     "output_type": "stream",
     "text": [
      "(98, 151)\n",
      "(190, 151)\n",
      "(155, 151)\n"
     ]
    }
   ],
   "source": [
    "print(purchase_가전제품.shape)\n",
    "print(purchase_패션.shape)\n",
    "print(purchase_화장품.shape)"
   ]
  },
  {
   "cell_type": "code",
   "execution_count": 18,
   "metadata": {},
   "outputs": [],
   "source": [
    "data = pd.merge(data,purchase[['UID','A4_2_1','A4_2_2', 'A5_2_1','A5_2_2' ,'A6_2_1','A6_2_2' ,'A4_5', 'A5_5', 'A6_5']],\n",
    "                how = 'left',left_on = 'UID', right_on= 'UID')"
   ]
  },
  {
   "cell_type": "code",
   "execution_count": 19,
   "metadata": {},
   "outputs": [
    {
     "data": {
      "text/html": [
       "<div>\n",
       "<style scoped>\n",
       "    .dataframe tbody tr th:only-of-type {\n",
       "        vertical-align: middle;\n",
       "    }\n",
       "\n",
       "    .dataframe tbody tr th {\n",
       "        vertical-align: top;\n",
       "    }\n",
       "\n",
       "    .dataframe thead th {\n",
       "        text-align: right;\n",
       "    }\n",
       "</style>\n",
       "<table border=\"1\" class=\"dataframe\">\n",
       "  <thead>\n",
       "    <tr style=\"text-align: right;\">\n",
       "      <th></th>\n",
       "      <th>Unnamed: 0</th>\n",
       "      <th>UID</th>\n",
       "      <th>Domain_x</th>\n",
       "      <th>Time</th>\n",
       "      <th>category_1</th>\n",
       "      <th>category_2</th>\n",
       "      <th>PC</th>\n",
       "      <th>session_id</th>\n",
       "      <th>Domain_y</th>\n",
       "      <th>A4_2_1</th>\n",
       "      <th>A4_2_2</th>\n",
       "      <th>A5_2_1</th>\n",
       "      <th>A5_2_2</th>\n",
       "      <th>A6_2_1</th>\n",
       "      <th>A6_2_2</th>\n",
       "      <th>A4_5</th>\n",
       "      <th>A5_5</th>\n",
       "      <th>A6_5</th>\n",
       "    </tr>\n",
       "  </thead>\n",
       "  <tbody>\n",
       "    <tr>\n",
       "      <th>0</th>\n",
       "      <td>0</td>\n",
       "      <td>20120712210FAAE99B43</td>\n",
       "      <td>cjmall.com/</td>\n",
       "      <td>2014-06-01 14:07:26</td>\n",
       "      <td>5</td>\n",
       "      <td>237</td>\n",
       "      <td>0</td>\n",
       "      <td>0</td>\n",
       "      <td>1</td>\n",
       "      <td>1.0</td>\n",
       "      <td>2.0</td>\n",
       "      <td>3.0</td>\n",
       "      <td>2.0</td>\n",
       "      <td>4.0</td>\n",
       "      <td>1.0</td>\n",
       "      <td>5.0</td>\n",
       "      <td>2.0</td>\n",
       "      <td>1.0</td>\n",
       "    </tr>\n",
       "    <tr>\n",
       "      <th>1</th>\n",
       "      <td>1</td>\n",
       "      <td>20120712210FAAE99B43</td>\n",
       "      <td>uplus.co.kr/</td>\n",
       "      <td>2014-06-01 14:25:31</td>\n",
       "      <td>5</td>\n",
       "      <td>270</td>\n",
       "      <td>0</td>\n",
       "      <td>1</td>\n",
       "      <td>6</td>\n",
       "      <td>1.0</td>\n",
       "      <td>2.0</td>\n",
       "      <td>3.0</td>\n",
       "      <td>2.0</td>\n",
       "      <td>4.0</td>\n",
       "      <td>1.0</td>\n",
       "      <td>5.0</td>\n",
       "      <td>2.0</td>\n",
       "      <td>1.0</td>\n",
       "    </tr>\n",
       "    <tr>\n",
       "      <th>2</th>\n",
       "      <td>2</td>\n",
       "      <td>20120712210FAAE99B43</td>\n",
       "      <td>uplus.co.kr/</td>\n",
       "      <td>2014-06-01 14:25:34</td>\n",
       "      <td>5</td>\n",
       "      <td>270</td>\n",
       "      <td>0</td>\n",
       "      <td>1</td>\n",
       "      <td>6</td>\n",
       "      <td>1.0</td>\n",
       "      <td>2.0</td>\n",
       "      <td>3.0</td>\n",
       "      <td>2.0</td>\n",
       "      <td>4.0</td>\n",
       "      <td>1.0</td>\n",
       "      <td>5.0</td>\n",
       "      <td>2.0</td>\n",
       "      <td>1.0</td>\n",
       "    </tr>\n",
       "    <tr>\n",
       "      <th>3</th>\n",
       "      <td>3</td>\n",
       "      <td>20120712210FAAE99B43</td>\n",
       "      <td>uplus.co.kr/</td>\n",
       "      <td>2014-06-01 14:25:40</td>\n",
       "      <td>5</td>\n",
       "      <td>270</td>\n",
       "      <td>0</td>\n",
       "      <td>1</td>\n",
       "      <td>6</td>\n",
       "      <td>1.0</td>\n",
       "      <td>2.0</td>\n",
       "      <td>3.0</td>\n",
       "      <td>2.0</td>\n",
       "      <td>4.0</td>\n",
       "      <td>1.0</td>\n",
       "      <td>5.0</td>\n",
       "      <td>2.0</td>\n",
       "      <td>1.0</td>\n",
       "    </tr>\n",
       "    <tr>\n",
       "      <th>4</th>\n",
       "      <td>4</td>\n",
       "      <td>20120712210FAAE99B43</td>\n",
       "      <td>naver.com/</td>\n",
       "      <td>2014-06-01 14:25:46</td>\n",
       "      <td>13</td>\n",
       "      <td>211</td>\n",
       "      <td>0</td>\n",
       "      <td>1</td>\n",
       "      <td>6</td>\n",
       "      <td>1.0</td>\n",
       "      <td>2.0</td>\n",
       "      <td>3.0</td>\n",
       "      <td>2.0</td>\n",
       "      <td>4.0</td>\n",
       "      <td>1.0</td>\n",
       "      <td>5.0</td>\n",
       "      <td>2.0</td>\n",
       "      <td>1.0</td>\n",
       "    </tr>\n",
       "  </tbody>\n",
       "</table>\n",
       "</div>"
      ],
      "text/plain": [
       "   Unnamed: 0                   UID      Domain_x                Time  \\\n",
       "0           0  20120712210FAAE99B43   cjmall.com/ 2014-06-01 14:07:26   \n",
       "1           1  20120712210FAAE99B43  uplus.co.kr/ 2014-06-01 14:25:31   \n",
       "2           2  20120712210FAAE99B43  uplus.co.kr/ 2014-06-01 14:25:34   \n",
       "3           3  20120712210FAAE99B43  uplus.co.kr/ 2014-06-01 14:25:40   \n",
       "4           4  20120712210FAAE99B43    naver.com/ 2014-06-01 14:25:46   \n",
       "\n",
       "   category_1  category_2  PC  session_id  Domain_y  A4_2_1  A4_2_2  A5_2_1  \\\n",
       "0           5         237   0           0         1     1.0     2.0     3.0   \n",
       "1           5         270   0           1         6     1.0     2.0     3.0   \n",
       "2           5         270   0           1         6     1.0     2.0     3.0   \n",
       "3           5         270   0           1         6     1.0     2.0     3.0   \n",
       "4          13         211   0           1         6     1.0     2.0     3.0   \n",
       "\n",
       "   A5_2_2  A6_2_1  A6_2_2  A4_5  A5_5  A6_5  \n",
       "0     2.0     4.0     1.0   5.0   2.0   1.0  \n",
       "1     2.0     4.0     1.0   5.0   2.0   1.0  \n",
       "2     2.0     4.0     1.0   5.0   2.0   1.0  \n",
       "3     2.0     4.0     1.0   5.0   2.0   1.0  \n",
       "4     2.0     4.0     1.0   5.0   2.0   1.0  "
      ]
     },
     "execution_count": 19,
     "metadata": {},
     "output_type": "execute_result"
    }
   ],
   "source": [
    "data.head()"
   ]
  },
  {
   "cell_type": "markdown",
   "metadata": {},
   "source": [
    "## 가전제품 구입자 분류(0: 미구입, 1:6월 중순 구입, 2: 6월 하순 구입)"
   ]
  },
  {
   "cell_type": "code",
   "execution_count": 20,
   "metadata": {},
   "outputs": [],
   "source": [
    "data.drop('Unnamed: 0', axis= 1, inplace= True)"
   ]
  },
  {
   "cell_type": "code",
   "execution_count": 21,
   "metadata": {},
   "outputs": [
    {
     "data": {
      "text/plain": [
       "(37068659, 17)"
      ]
     },
     "execution_count": 21,
     "metadata": {},
     "output_type": "execute_result"
    }
   ],
   "source": [
    "data.shape"
   ]
  },
  {
   "cell_type": "code",
   "execution_count": 22,
   "metadata": {},
   "outputs": [
    {
     "data": {
      "text/plain": [
       "UID                  0\n",
       "Domain_x             0\n",
       "Time                 0\n",
       "category_1           0\n",
       "category_2           0\n",
       "PC                   0\n",
       "session_id           0\n",
       "Domain_y             0\n",
       "A4_2_1        20706379\n",
       "A4_2_2        20706379\n",
       "A5_2_1        14098152\n",
       "A5_2_2        14098152\n",
       "A6_2_1        17019260\n",
       "A6_2_2        17019260\n",
       "A4_5          20706379\n",
       "A5_5          14098152\n",
       "A6_5          17019260\n",
       "dtype: int64"
      ]
     },
     "execution_count": 22,
     "metadata": {},
     "output_type": "execute_result"
    }
   ],
   "source": [
    "data.isna().sum()"
   ]
  },
  {
   "cell_type": "code",
   "execution_count": 23,
   "metadata": {
    "scrolled": true
   },
   "outputs": [],
   "source": [
    "#결측값 0으로 대체\n",
    "data = data.fillna(0)"
   ]
  },
  {
   "cell_type": "code",
   "execution_count": 24,
   "metadata": {},
   "outputs": [],
   "source": [
    "data['가전제품구매'] = 0 "
   ]
  },
  {
   "cell_type": "code",
   "execution_count": 25,
   "metadata": {},
   "outputs": [],
   "source": [
    "#6월 중순 구입자\n",
    "data.loc[((data.A4_2_1==3) & (data.A4_2_2==2)), '가전제품구매'] = 1\n",
    "\n",
    "#6월 하순 구입자\n",
    "data.loc[((data.A4_2_1==3) & (data.A4_2_2==3)), '가전제품구매'] = 2"
   ]
  },
  {
   "cell_type": "code",
   "execution_count": 26,
   "metadata": {},
   "outputs": [],
   "source": [
    "data.rename(columns ={'Domain_y': '세션당_방문사이트수'}, inplace= True)"
   ]
  },
  {
   "cell_type": "code",
   "execution_count": 27,
   "metadata": {},
   "outputs": [
    {
     "data": {
      "text/html": [
       "<div>\n",
       "<style scoped>\n",
       "    .dataframe tbody tr th:only-of-type {\n",
       "        vertical-align: middle;\n",
       "    }\n",
       "\n",
       "    .dataframe tbody tr th {\n",
       "        vertical-align: top;\n",
       "    }\n",
       "\n",
       "    .dataframe thead th {\n",
       "        text-align: right;\n",
       "    }\n",
       "</style>\n",
       "<table border=\"1\" class=\"dataframe\">\n",
       "  <thead>\n",
       "    <tr style=\"text-align: right;\">\n",
       "      <th></th>\n",
       "      <th>UID</th>\n",
       "      <th>Domain_x</th>\n",
       "      <th>Time</th>\n",
       "      <th>category_1</th>\n",
       "      <th>category_2</th>\n",
       "      <th>PC</th>\n",
       "      <th>session_id</th>\n",
       "      <th>세션당_방문사이트수</th>\n",
       "      <th>A4_2_1</th>\n",
       "      <th>A4_2_2</th>\n",
       "      <th>A5_2_1</th>\n",
       "      <th>A5_2_2</th>\n",
       "      <th>A6_2_1</th>\n",
       "      <th>A6_2_2</th>\n",
       "      <th>A4_5</th>\n",
       "      <th>A5_5</th>\n",
       "      <th>A6_5</th>\n",
       "      <th>가전제품구매</th>\n",
       "    </tr>\n",
       "  </thead>\n",
       "  <tbody>\n",
       "    <tr>\n",
       "      <th>0</th>\n",
       "      <td>20120712210FAAE99B43</td>\n",
       "      <td>cjmall.com/</td>\n",
       "      <td>2014-06-01 14:07:26</td>\n",
       "      <td>5</td>\n",
       "      <td>237</td>\n",
       "      <td>0</td>\n",
       "      <td>0</td>\n",
       "      <td>1</td>\n",
       "      <td>1.0</td>\n",
       "      <td>2.0</td>\n",
       "      <td>3.0</td>\n",
       "      <td>2.0</td>\n",
       "      <td>4.0</td>\n",
       "      <td>1.0</td>\n",
       "      <td>5.0</td>\n",
       "      <td>2.0</td>\n",
       "      <td>1.0</td>\n",
       "      <td>0</td>\n",
       "    </tr>\n",
       "    <tr>\n",
       "      <th>1</th>\n",
       "      <td>20120712210FAAE99B43</td>\n",
       "      <td>uplus.co.kr/</td>\n",
       "      <td>2014-06-01 14:25:31</td>\n",
       "      <td>5</td>\n",
       "      <td>270</td>\n",
       "      <td>0</td>\n",
       "      <td>1</td>\n",
       "      <td>6</td>\n",
       "      <td>1.0</td>\n",
       "      <td>2.0</td>\n",
       "      <td>3.0</td>\n",
       "      <td>2.0</td>\n",
       "      <td>4.0</td>\n",
       "      <td>1.0</td>\n",
       "      <td>5.0</td>\n",
       "      <td>2.0</td>\n",
       "      <td>1.0</td>\n",
       "      <td>0</td>\n",
       "    </tr>\n",
       "    <tr>\n",
       "      <th>2</th>\n",
       "      <td>20120712210FAAE99B43</td>\n",
       "      <td>uplus.co.kr/</td>\n",
       "      <td>2014-06-01 14:25:34</td>\n",
       "      <td>5</td>\n",
       "      <td>270</td>\n",
       "      <td>0</td>\n",
       "      <td>1</td>\n",
       "      <td>6</td>\n",
       "      <td>1.0</td>\n",
       "      <td>2.0</td>\n",
       "      <td>3.0</td>\n",
       "      <td>2.0</td>\n",
       "      <td>4.0</td>\n",
       "      <td>1.0</td>\n",
       "      <td>5.0</td>\n",
       "      <td>2.0</td>\n",
       "      <td>1.0</td>\n",
       "      <td>0</td>\n",
       "    </tr>\n",
       "    <tr>\n",
       "      <th>3</th>\n",
       "      <td>20120712210FAAE99B43</td>\n",
       "      <td>uplus.co.kr/</td>\n",
       "      <td>2014-06-01 14:25:40</td>\n",
       "      <td>5</td>\n",
       "      <td>270</td>\n",
       "      <td>0</td>\n",
       "      <td>1</td>\n",
       "      <td>6</td>\n",
       "      <td>1.0</td>\n",
       "      <td>2.0</td>\n",
       "      <td>3.0</td>\n",
       "      <td>2.0</td>\n",
       "      <td>4.0</td>\n",
       "      <td>1.0</td>\n",
       "      <td>5.0</td>\n",
       "      <td>2.0</td>\n",
       "      <td>1.0</td>\n",
       "      <td>0</td>\n",
       "    </tr>\n",
       "    <tr>\n",
       "      <th>4</th>\n",
       "      <td>20120712210FAAE99B43</td>\n",
       "      <td>naver.com/</td>\n",
       "      <td>2014-06-01 14:25:46</td>\n",
       "      <td>13</td>\n",
       "      <td>211</td>\n",
       "      <td>0</td>\n",
       "      <td>1</td>\n",
       "      <td>6</td>\n",
       "      <td>1.0</td>\n",
       "      <td>2.0</td>\n",
       "      <td>3.0</td>\n",
       "      <td>2.0</td>\n",
       "      <td>4.0</td>\n",
       "      <td>1.0</td>\n",
       "      <td>5.0</td>\n",
       "      <td>2.0</td>\n",
       "      <td>1.0</td>\n",
       "      <td>0</td>\n",
       "    </tr>\n",
       "  </tbody>\n",
       "</table>\n",
       "</div>"
      ],
      "text/plain": [
       "                    UID      Domain_x                Time  category_1  \\\n",
       "0  20120712210FAAE99B43   cjmall.com/ 2014-06-01 14:07:26           5   \n",
       "1  20120712210FAAE99B43  uplus.co.kr/ 2014-06-01 14:25:31           5   \n",
       "2  20120712210FAAE99B43  uplus.co.kr/ 2014-06-01 14:25:34           5   \n",
       "3  20120712210FAAE99B43  uplus.co.kr/ 2014-06-01 14:25:40           5   \n",
       "4  20120712210FAAE99B43    naver.com/ 2014-06-01 14:25:46          13   \n",
       "\n",
       "   category_2  PC  session_id  세션당_방문사이트수  A4_2_1  A4_2_2  A5_2_1  A5_2_2  \\\n",
       "0         237   0           0           1     1.0     2.0     3.0     2.0   \n",
       "1         270   0           1           6     1.0     2.0     3.0     2.0   \n",
       "2         270   0           1           6     1.0     2.0     3.0     2.0   \n",
       "3         270   0           1           6     1.0     2.0     3.0     2.0   \n",
       "4         211   0           1           6     1.0     2.0     3.0     2.0   \n",
       "\n",
       "   A6_2_1  A6_2_2  A4_5  A5_5  A6_5  가전제품구매  \n",
       "0     4.0     1.0   5.0   2.0   1.0       0  \n",
       "1     4.0     1.0   5.0   2.0   1.0       0  \n",
       "2     4.0     1.0   5.0   2.0   1.0       0  \n",
       "3     4.0     1.0   5.0   2.0   1.0       0  \n",
       "4     4.0     1.0   5.0   2.0   1.0       0  "
      ]
     },
     "execution_count": 27,
     "metadata": {},
     "output_type": "execute_result"
    }
   ],
   "source": [
    "data.head()"
   ]
  },
  {
   "cell_type": "markdown",
   "metadata": {},
   "source": [
    "## 패션, 화장품 구입자들"
   ]
  },
  {
   "cell_type": "code",
   "execution_count": 28,
   "metadata": {},
   "outputs": [],
   "source": [
    "data['패션구매'] = 0\n",
    "data['화장품구매'] = 0"
   ]
  },
  {
   "cell_type": "code",
   "execution_count": 29,
   "metadata": {},
   "outputs": [],
   "source": [
    "#6월 중순 구입자\n",
    "data.loc[((data.A5_2_1==3) & (data.A5_2_2==2)), '패션구매'] = 1\n",
    "\n",
    "#6월 하순 구입자\n",
    "data.loc[((data.A5_2_1==3) & (data.A5_2_2==3)), '패션구매'] = 2\n",
    "\n",
    "#6월 중순 구입자\n",
    "data.loc[((data.A6_2_1==3) & (data.A6_2_2==2)), '화장품구매'] = 1\n",
    "\n",
    "#6월 하순 구입자\n",
    "data.loc[((data.A6_2_1==3) & (data.A6_2_2==3)), '화장품구매'] = 2"
   ]
  },
  {
   "cell_type": "markdown",
   "metadata": {},
   "source": [
    "### RNN을 위한 전처리"
   ]
  },
  {
   "cell_type": "code",
   "execution_count": 30,
   "metadata": {},
   "outputs": [],
   "source": [
    "def make_XY(df, category):\n",
    "    df = df.set_index('UID')\n",
    "    X = df[['category_1','세션당_방문사이트수']]\n",
    "    Y = df[[category + '구매']]\n",
    "    X = X.reset_index()\n",
    "    X = pd.concat([X,pd.get_dummies(X['category_1'])], axis = 1)\n",
    "    Y = Y.groupby(Y.index).first()\n",
    "    new_Y = Y[category + '구매']\n",
    "    return X,new_Y"
   ]
  },
  {
   "cell_type": "code",
   "execution_count": 31,
   "metadata": {},
   "outputs": [],
   "source": [
    "X_가전제품,Y_가전제품 = make_XY(data,'가전제품')\n",
    "X_패션,Y_패션 = make_XY(data, '패션')\n",
    "X_화장품,Y_화장품 = make_XY(data, '화장품')"
   ]
  },
  {
   "cell_type": "code",
   "execution_count": 32,
   "metadata": {
    "scrolled": true
   },
   "outputs": [
    {
     "data": {
      "text/html": [
       "<div>\n",
       "<style scoped>\n",
       "    .dataframe tbody tr th:only-of-type {\n",
       "        vertical-align: middle;\n",
       "    }\n",
       "\n",
       "    .dataframe tbody tr th {\n",
       "        vertical-align: top;\n",
       "    }\n",
       "\n",
       "    .dataframe thead th {\n",
       "        text-align: right;\n",
       "    }\n",
       "</style>\n",
       "<table border=\"1\" class=\"dataframe\">\n",
       "  <thead>\n",
       "    <tr style=\"text-align: right;\">\n",
       "      <th></th>\n",
       "      <th>UID</th>\n",
       "      <th>category_1</th>\n",
       "      <th>세션당_방문사이트수</th>\n",
       "      <th>0</th>\n",
       "      <th>1</th>\n",
       "      <th>2</th>\n",
       "      <th>3</th>\n",
       "      <th>4</th>\n",
       "      <th>5</th>\n",
       "      <th>6</th>\n",
       "      <th>7</th>\n",
       "      <th>8</th>\n",
       "      <th>9</th>\n",
       "      <th>10</th>\n",
       "      <th>11</th>\n",
       "      <th>12</th>\n",
       "      <th>13</th>\n",
       "      <th>14</th>\n",
       "    </tr>\n",
       "  </thead>\n",
       "  <tbody>\n",
       "    <tr>\n",
       "      <th>0</th>\n",
       "      <td>20120712210FAAE99B43</td>\n",
       "      <td>5</td>\n",
       "      <td>1</td>\n",
       "      <td>0</td>\n",
       "      <td>0</td>\n",
       "      <td>0</td>\n",
       "      <td>0</td>\n",
       "      <td>0</td>\n",
       "      <td>1</td>\n",
       "      <td>0</td>\n",
       "      <td>0</td>\n",
       "      <td>0</td>\n",
       "      <td>0</td>\n",
       "      <td>0</td>\n",
       "      <td>0</td>\n",
       "      <td>0</td>\n",
       "      <td>0</td>\n",
       "      <td>0</td>\n",
       "    </tr>\n",
       "    <tr>\n",
       "      <th>1</th>\n",
       "      <td>20120712210FAAE99B43</td>\n",
       "      <td>5</td>\n",
       "      <td>6</td>\n",
       "      <td>0</td>\n",
       "      <td>0</td>\n",
       "      <td>0</td>\n",
       "      <td>0</td>\n",
       "      <td>0</td>\n",
       "      <td>1</td>\n",
       "      <td>0</td>\n",
       "      <td>0</td>\n",
       "      <td>0</td>\n",
       "      <td>0</td>\n",
       "      <td>0</td>\n",
       "      <td>0</td>\n",
       "      <td>0</td>\n",
       "      <td>0</td>\n",
       "      <td>0</td>\n",
       "    </tr>\n",
       "    <tr>\n",
       "      <th>2</th>\n",
       "      <td>20120712210FAAE99B43</td>\n",
       "      <td>5</td>\n",
       "      <td>6</td>\n",
       "      <td>0</td>\n",
       "      <td>0</td>\n",
       "      <td>0</td>\n",
       "      <td>0</td>\n",
       "      <td>0</td>\n",
       "      <td>1</td>\n",
       "      <td>0</td>\n",
       "      <td>0</td>\n",
       "      <td>0</td>\n",
       "      <td>0</td>\n",
       "      <td>0</td>\n",
       "      <td>0</td>\n",
       "      <td>0</td>\n",
       "      <td>0</td>\n",
       "      <td>0</td>\n",
       "    </tr>\n",
       "    <tr>\n",
       "      <th>3</th>\n",
       "      <td>20120712210FAAE99B43</td>\n",
       "      <td>5</td>\n",
       "      <td>6</td>\n",
       "      <td>0</td>\n",
       "      <td>0</td>\n",
       "      <td>0</td>\n",
       "      <td>0</td>\n",
       "      <td>0</td>\n",
       "      <td>1</td>\n",
       "      <td>0</td>\n",
       "      <td>0</td>\n",
       "      <td>0</td>\n",
       "      <td>0</td>\n",
       "      <td>0</td>\n",
       "      <td>0</td>\n",
       "      <td>0</td>\n",
       "      <td>0</td>\n",
       "      <td>0</td>\n",
       "    </tr>\n",
       "    <tr>\n",
       "      <th>4</th>\n",
       "      <td>20120712210FAAE99B43</td>\n",
       "      <td>13</td>\n",
       "      <td>6</td>\n",
       "      <td>0</td>\n",
       "      <td>0</td>\n",
       "      <td>0</td>\n",
       "      <td>0</td>\n",
       "      <td>0</td>\n",
       "      <td>0</td>\n",
       "      <td>0</td>\n",
       "      <td>0</td>\n",
       "      <td>0</td>\n",
       "      <td>0</td>\n",
       "      <td>0</td>\n",
       "      <td>0</td>\n",
       "      <td>0</td>\n",
       "      <td>1</td>\n",
       "      <td>0</td>\n",
       "    </tr>\n",
       "  </tbody>\n",
       "</table>\n",
       "</div>"
      ],
      "text/plain": [
       "                    UID  category_1  세션당_방문사이트수  0  1  2  3  4  5  6  7  8  9  \\\n",
       "0  20120712210FAAE99B43           5           1  0  0  0  0  0  1  0  0  0  0   \n",
       "1  20120712210FAAE99B43           5           6  0  0  0  0  0  1  0  0  0  0   \n",
       "2  20120712210FAAE99B43           5           6  0  0  0  0  0  1  0  0  0  0   \n",
       "3  20120712210FAAE99B43           5           6  0  0  0  0  0  1  0  0  0  0   \n",
       "4  20120712210FAAE99B43          13           6  0  0  0  0  0  0  0  0  0  0   \n",
       "\n",
       "   10  11  12  13  14  \n",
       "0   0   0   0   0   0  \n",
       "1   0   0   0   0   0  \n",
       "2   0   0   0   0   0  \n",
       "3   0   0   0   0   0  \n",
       "4   0   0   0   1   0  "
      ]
     },
     "execution_count": 32,
     "metadata": {},
     "output_type": "execute_result"
    }
   ],
   "source": [
    "X_패션.head()"
   ]
  },
  {
   "cell_type": "markdown",
   "metadata": {},
   "source": [
    "#### 3차원 array로 만드는 과정"
   ]
  },
  {
   "cell_type": "code",
   "execution_count": 33,
   "metadata": {},
   "outputs": [],
   "source": [
    "def make_3D_array(X):\n",
    "    new_X = []\n",
    "    for UID in tqdm_notebook(X['UID'].unique()):\n",
    "        temp = X[X['UID'] == UID]\n",
    "        new_X.append(temp.iloc[:,2:].values)\n",
    "    new_X = np.asarray(new_X)\n",
    "    return new_X"
   ]
  },
  {
   "cell_type": "code",
   "execution_count": 34,
   "metadata": {},
   "outputs": [
    {
     "data": {
      "application/vnd.jupyter.widget-view+json": {
       "model_id": "f88e2f388caa4565a3ef689c14814668"
      }
     },
     "metadata": {},
     "output_type": "display_data"
    },
    {
     "name": "stdout",
     "output_type": "stream",
     "text": [
      "\n"
     ]
    }
   ],
   "source": [
    "new_X_화장품 = make_3D_array(X_화장품)"
   ]
  },
  {
   "cell_type": "code",
   "execution_count": 35,
   "metadata": {},
   "outputs": [
    {
     "data": {
      "application/vnd.jupyter.widget-view+json": {
       "model_id": "e03fa58e366745d8a26d8de2d168f9df"
      }
     },
     "metadata": {},
     "output_type": "display_data"
    },
    {
     "name": "stdout",
     "output_type": "stream",
     "text": [
      "\n"
     ]
    }
   ],
   "source": [
    "new_X_패션 = make_3D_array(X_패션)"
   ]
  },
  {
   "cell_type": "code",
   "execution_count": 36,
   "metadata": {},
   "outputs": [
    {
     "data": {
      "application/vnd.jupyter.widget-view+json": {
       "model_id": "70b2ecd267564e898f48f62b2ea69a8f"
      }
     },
     "metadata": {},
     "output_type": "display_data"
    },
    {
     "name": "stdout",
     "output_type": "stream",
     "text": [
      "\n"
     ]
    }
   ],
   "source": [
    "new_X_가전제품 = make_3D_array(X_가전제품)"
   ]
  },
  {
   "cell_type": "markdown",
   "metadata": {},
   "source": [
    "### 3d화 과정이 오래걸리니 csv파일로 저장"
   ]
  },
  {
   "cell_type": "code",
   "execution_count": 37,
   "metadata": {},
   "outputs": [],
   "source": [
    "pd.DataFrame(Y_가전제품).to_csv('Y_가전제품.csv')\n",
    "pd.DataFrame(Y_패션).to_csv('Y_패션.csv')\n",
    "pd.DataFrame(Y_화장품).to_csv('Y_화장품.csv')"
   ]
  },
  {
   "cell_type": "code",
   "execution_count": null,
   "metadata": {},
   "outputs": [],
   "source": []
  },
  {
   "cell_type": "markdown",
   "metadata": {},
   "source": [
    "### Oversampling"
   ]
  },
  {
   "cell_type": "code",
   "execution_count": 80,
   "metadata": {},
   "outputs": [
    {
     "data": {
      "text/plain": [
       "(2103, 5000, 16)"
      ]
     },
     "execution_count": 80,
     "metadata": {},
     "output_type": "execute_result"
    }
   ],
   "source": [
    "sequence.pad_sequences(new_X_화장품, maxlen= 5000).shape"
   ]
  },
  {
   "cell_type": "code",
   "execution_count": 38,
   "metadata": {},
   "outputs": [],
   "source": [
    "def make_padding_and_oversample(X, Y):\n",
    "    max_len = 5000\n",
    "    X_padding = sequence.pad_sequences(X, maxlen = max_len)\n",
    "    X_padding2 = X_padding.reshape(X.shape[0], max_len* X_padding.shape[2])\n",
    "    smote = SMOTE(random_state=0)\n",
    "    X_resampled, Y_resampled = smote.fit_resample(X_padding2, Y)\n",
    "    X_resampled = X_resampled.reshape(X_resampled.shape[0], max_len, X_padding.shape[2])\n",
    "    return X_padding, X_resampled, Y_resampled"
   ]
  },
  {
   "cell_type": "code",
   "execution_count": 39,
   "metadata": {},
   "outputs": [],
   "source": [
    "X_가전제품_padded, X_가전제품_resampled, Y_가전제품_resampled =make_padding_and_oversample(new_X_가전제품, Y_가전제품)\n",
    "X_패션_padded,X_패션_resampled, Y_패션_resampled =make_padding_and_oversample(new_X_패션, Y_패션)\n",
    "X_화장품_padded,X_화장품_resampled, Y_화장품_resampled =make_padding_and_oversample(new_X_화장품, Y_화장품)"
   ]
  },
  {
   "cell_type": "code",
   "execution_count": 40,
   "metadata": {},
   "outputs": [],
   "source": [
    "df1 = pd.DataFrame(X_패션_padded.reshape(2103, 5000*16))\n",
    "df1.to_csv('패션_3d_array.csv', index=False)\n",
    "df2 = pd.DataFrame(X_가전제품_padded.reshape(2103, 5000*16))\n",
    "df2.to_csv('가전제품_3d_array.csv', index=False)\n",
    "df3 = pd.DataFrame(X_화장품_padded.reshape(2103, 5000*16))\n",
    "df3.to_csv('화장품_3d_array.csv', index=False)"
   ]
  },
  {
   "cell_type": "markdown",
   "metadata": {},
   "source": [
    "### LSTM 가동"
   ]
  },
  {
   "cell_type": "code",
   "execution_count": 52,
   "metadata": {},
   "outputs": [],
   "source": [
    "from keras import backend as K\n",
    "\n",
    "def recall_m(y_true, y_pred):\n",
    "        true_positives = K.sum(K.round(K.clip(y_true * y_pred, 0, 1)))\n",
    "        possible_positives = K.sum(K.round(K.clip(y_true, 0, 1)))\n",
    "        recall = true_positives / (possible_positives + K.epsilon())\n",
    "        return recall\n",
    "\n",
    "def precision_m(y_true, y_pred):\n",
    "        true_positives = K.sum(K.round(K.clip(y_true * y_pred, 0, 1)))\n",
    "        predicted_positives = K.sum(K.round(K.clip(y_pred, 0, 1)))\n",
    "        precision = true_positives / (predicted_positives + K.epsilon())\n",
    "        return precision\n",
    "\n",
    "def f1_m(y_true, y_pred):\n",
    "    precision = precision_m(y_true, y_pred)\n",
    "    recall = recall_m(y_true, y_pred)\n",
    "    return 2*((precision*recall)/(precision+recall+K.epsilon()))"
   ]
  },
  {
   "cell_type": "markdown",
   "metadata": {},
   "source": [
    "#### 패션"
   ]
  },
  {
   "cell_type": "code",
   "execution_count": 53,
   "metadata": {},
   "outputs": [],
   "source": [
    "X_train, X_test, y_train, y_test = train_test_split(\n",
    "X_패션_resampled, Y_패션_resampled, test_size=0.3, random_state=42)"
   ]
  },
  {
   "cell_type": "code",
   "execution_count": 54,
   "metadata": {},
   "outputs": [],
   "source": [
    "\n",
    "y_train = to_categorical(y_train)\n",
    "y_test = to_categorical(y_test)"
   ]
  },
  {
   "cell_type": "code",
   "execution_count": 55,
   "metadata": {},
   "outputs": [
    {
     "data": {
      "text/plain": [
       "(3790, 5000, 16)"
      ]
     },
     "execution_count": 55,
     "metadata": {},
     "output_type": "execute_result"
    }
   ],
   "source": [
    "X_train.shape"
   ]
  },
  {
   "cell_type": "code",
   "execution_count": 48,
   "metadata": {},
   "outputs": [
    {
     "name": "stdout",
     "output_type": "stream",
     "text": [
      "_________________________________________________________________\n",
      "Layer (type)                 Output Shape              Param #   \n",
      "=================================================================\n",
      "masking_2 (Masking)          (None, 5000, 16)          0         \n",
      "_________________________________________________________________\n",
      "lstm_2 (LSTM)                (None, 64)                20736     \n",
      "_________________________________________________________________\n",
      "dense_4 (Dense)              (None, 32)                2080      \n",
      "_________________________________________________________________\n",
      "dropout_2 (Dropout)          (None, 32)                0         \n",
      "_________________________________________________________________\n",
      "dense_5 (Dense)              (None, 16)                528       \n",
      "_________________________________________________________________\n",
      "dense_6 (Dense)              (None, 3)                 51        \n",
      "=================================================================\n",
      "Total params: 23,395\n",
      "Trainable params: 23,395\n",
      "Non-trainable params: 0\n",
      "_________________________________________________________________\n",
      "None\n"
     ]
    }
   ],
   "source": [
    "#masking layer 추가(https://stackoverflow.com/questions/49670832/keras-lstm-with-masking-layer-for-variable-length-inputs)\n",
    "model = Sequential()\n",
    "model.add(Masking(mask_value=0., input_shape=(X_train.shape[1], X_train.shape[2])))\n",
    "model.add(LSTM(64,input_shape = (X_train.shape[1], X_train.shape[2])))\n",
    "model.add(Dense(32, activation= 'relu'))\n",
    "model.add(Dropout(0.2))\n",
    "model.add(Dense(16, activation= 'relu'))\n",
    "model.add(Dense(3, activation='sigmoid'))\n",
    "model.compile(loss='categorical_crossentropy', optimizer=RMSprop(lr= 0.001, rho = 0.9), metrics=['acc'])\n",
    "print(model.summary())"
   ]
  },
  {
   "cell_type": "code",
   "execution_count": 49,
   "metadata": {},
   "outputs": [
    {
     "name": "stdout",
     "output_type": "stream",
     "text": [
      "Train on 4130 samples, validate on 1771 samples\n",
      "Epoch 1/25\n",
      " - 78s - loss: 1.0931 - acc: 0.3753 - val_loss: 1.0687 - val_acc: 0.4365\n",
      "Epoch 2/25\n",
      " - 77s - loss: 1.0620 - acc: 0.4559 - val_loss: 1.0346 - val_acc: 0.5014\n",
      "Epoch 3/25\n",
      " - 76s - loss: 1.0333 - acc: 0.4879 - val_loss: 1.0044 - val_acc: 0.5110\n",
      "Epoch 4/25\n",
      " - 77s - loss: 1.0020 - acc: 0.5133 - val_loss: 0.9962 - val_acc: 0.5189\n",
      "Epoch 5/25\n",
      " - 77s - loss: 0.9707 - acc: 0.5431 - val_loss: 0.9008 - val_acc: 0.6002\n",
      "Epoch 6/25\n",
      " - 77s - loss: 0.8927 - acc: 0.6058 - val_loss: 0.9744 - val_acc: 0.4952\n",
      "Epoch 7/25\n",
      " - 76s - loss: 0.9199 - acc: 0.5538 - val_loss: 0.8197 - val_acc: 0.6217\n",
      "Epoch 8/25\n",
      " - 77s - loss: 0.8173 - acc: 0.6254 - val_loss: 0.7889 - val_acc: 0.6302\n",
      "Epoch 9/25\n",
      " - 77s - loss: 0.7974 - acc: 0.6254 - val_loss: 0.8906 - val_acc: 0.5381\n",
      "Epoch 10/25\n",
      " - 77s - loss: 0.8429 - acc: 0.5959 - val_loss: 0.7801 - val_acc: 0.6426\n",
      "Epoch 11/25\n",
      " - 77s - loss: 0.9150 - acc: 0.5518 - val_loss: 0.7505 - val_acc: 0.6584\n",
      "Epoch 12/25\n",
      " - 76s - loss: 0.7301 - acc: 0.6695 - val_loss: 0.7021 - val_acc: 0.6827\n",
      "Epoch 13/25\n",
      " - 76s - loss: 0.6961 - acc: 0.6714 - val_loss: 0.6740 - val_acc: 0.6883\n",
      "Epoch 14/25\n",
      " - 77s - loss: 0.7401 - acc: 0.6516 - val_loss: 0.6808 - val_acc: 0.6832\n",
      "Epoch 15/25\n",
      " - 76s - loss: 0.6704 - acc: 0.6794 - val_loss: 0.6474 - val_acc: 0.6968\n",
      "Epoch 16/25\n",
      " - 77s - loss: 0.6455 - acc: 0.6937 - val_loss: 0.6414 - val_acc: 0.6923\n",
      "Epoch 17/25\n",
      " - 76s - loss: 0.6909 - acc: 0.6680 - val_loss: 0.6843 - val_acc: 0.6793\n",
      "Epoch 18/25\n",
      " - 77s - loss: 0.6853 - acc: 0.6738 - val_loss: 0.6279 - val_acc: 0.7030\n",
      "Epoch 19/25\n",
      " - 76s - loss: 0.6287 - acc: 0.6884 - val_loss: 0.6160 - val_acc: 0.7064\n",
      "Epoch 20/25\n",
      " - 76s - loss: 0.6679 - acc: 0.6755 - val_loss: 1.0353 - val_acc: 0.5584\n",
      "Epoch 21/25\n",
      " - 77s - loss: 0.7390 - acc: 0.6603 - val_loss: 0.6233 - val_acc: 0.7075\n",
      "Epoch 22/25\n",
      " - 76s - loss: 0.6113 - acc: 0.6995 - val_loss: 0.6071 - val_acc: 0.7115\n",
      "Epoch 23/25\n",
      " - 77s - loss: 0.6016 - acc: 0.7056 - val_loss: 0.6066 - val_acc: 0.7132\n",
      "Epoch 24/25\n",
      " - 76s - loss: 0.5939 - acc: 0.7080 - val_loss: 0.6043 - val_acc: 0.7149\n",
      "Epoch 25/25\n",
      " - 76s - loss: 0.5882 - acc: 0.7058 - val_loss: 0.5990 - val_acc: 0.7188\n"
     ]
    }
   ],
   "source": [
    "history = model.fit(X_train, y_train, epochs=25, batch_size=1000, validation_data=(X_test, y_test), verbose=2, shuffle=False)"
   ]
  },
  {
   "cell_type": "code",
   "execution_count": 50,
   "metadata": {},
   "outputs": [],
   "source": [
    "loss, accuracy = model.evaluate(X_test, y_test, verbose=0)"
   ]
  },
  {
   "cell_type": "code",
   "execution_count": 51,
   "metadata": {},
   "outputs": [
    {
     "name": "stdout",
     "output_type": "stream",
     "text": [
      "0.7188029361269287\n"
     ]
    }
   ],
   "source": [
    "#가전제품 f1-score: 0.7819220343082984\n",
    "#패션 accuracy: 0.7188029361269287\n",
    "\n",
    "print(accuracy)"
   ]
  },
  {
   "cell_type": "markdown",
   "metadata": {},
   "source": [
    "#### 가전제품"
   ]
  },
  {
   "cell_type": "code",
   "execution_count": 94,
   "metadata": {},
   "outputs": [
    {
     "data": {
      "text/plain": [
       "(5415, 5000, 16)"
      ]
     },
     "execution_count": 94,
     "metadata": {},
     "output_type": "execute_result"
    }
   ],
   "source": [
    "X_가전제품_resampled.shape"
   ]
  },
  {
   "cell_type": "code",
   "execution_count": 95,
   "metadata": {},
   "outputs": [
    {
     "data": {
      "text/plain": [
       "(5901,)"
      ]
     },
     "execution_count": 95,
     "metadata": {},
     "output_type": "execute_result"
    }
   ],
   "source": [
    "Y_가전제품_resampled.shape"
   ]
  },
  {
   "cell_type": "code",
   "execution_count": 62,
   "metadata": {},
   "outputs": [],
   "source": [
    "X_train, X_test, y_train, y_test = train_test_split(\n",
    "X_가전제품_resampled, Y_가전제품_resampled, test_size=0.3, random_state=42)\n",
    "y_train = to_categorical(y_train)\n",
    "y_test = to_categorical(y_test)"
   ]
  },
  {
   "cell_type": "code",
   "execution_count": null,
   "metadata": {},
   "outputs": [
    {
     "name": "stdout",
     "output_type": "stream",
     "text": [
      "_________________________________________________________________\n",
      "Layer (type)                 Output Shape              Param #   \n",
      "=================================================================\n",
      "masking_4 (Masking)          (None, 5000, 16)          0         \n",
      "_________________________________________________________________\n",
      "lstm_4 (LSTM)                (None, 64)                20736     \n",
      "_________________________________________________________________\n",
      "dense_10 (Dense)             (None, 32)                2080      \n",
      "_________________________________________________________________\n",
      "dropout_4 (Dropout)          (None, 32)                0         \n",
      "_________________________________________________________________\n",
      "dense_11 (Dense)             (None, 16)                528       \n",
      "_________________________________________________________________\n",
      "dense_12 (Dense)             (None, 3)                 51        \n",
      "=================================================================\n",
      "Total params: 23,395\n",
      "Trainable params: 23,395\n",
      "Non-trainable params: 0\n",
      "_________________________________________________________________\n",
      "None\n"
     ]
    }
   ],
   "source": [
    "#masking layer 추가(https://stackoverflow.com/questions/49670832/keras-lstm-with-masking-layer-for-variable-length-inputs)\n",
    "model = Sequential()\n",
    "model.add(Masking(mask_value=0., input_shape=(X_train.shape[1], X_train.shape[2])))\n",
    "model.add(LSTM(64,input_shape = (X_train.shape[1], X_train.shape[2])))\n",
    "model.add(Dense(32, activation= 'relu'))\n",
    "model.add(Dropout(0.2))\n",
    "model.add(Dense(16, activation= 'relu'))\n",
    "model.add(Dense(3, activation='sigmoid'))\n",
    "model.compile(loss='categorical_crossentropy', optimizer=RMSprop(lr= 0.001, rho = 0.9), metrics=['acc'])\n",
    "print(model.summary())"
   ]
  },
  {
   "cell_type": "code",
   "execution_count": null,
   "metadata": {},
   "outputs": [
    {
     "name": "stdout",
     "output_type": "stream",
     "text": [
      "Train on 4130 samples, validate on 1771 samples\n",
      "Epoch 1/50\n",
      " - 60s - loss: 1.0900 - acc: 0.3889 - val_loss: 1.0737 - val_acc: 0.4178\n",
      "Epoch 2/50\n",
      " - 59s - loss: 1.0695 - acc: 0.4073 - val_loss: 1.0501 - val_acc: 0.4190\n",
      "Epoch 3/50\n",
      " - 59s - loss: 1.0445 - acc: 0.4317 - val_loss: 1.0212 - val_acc: 0.5150\n",
      "Epoch 4/50\n",
      " - 57s - loss: 1.0100 - acc: 0.4952 - val_loss: 0.9886 - val_acc: 0.5353\n",
      "Epoch 5/50\n",
      " - 60s - loss: 0.9797 - acc: 0.5143 - val_loss: 0.9621 - val_acc: 0.5551\n",
      "Epoch 6/50\n",
      " - 61s - loss: 0.9343 - acc: 0.5508 - val_loss: 0.9309 - val_acc: 0.5539\n",
      "Epoch 7/50\n",
      " - 64s - loss: 0.9189 - acc: 0.5535 - val_loss: 0.8388 - val_acc: 0.6200\n",
      "Epoch 8/50\n",
      " - 60s - loss: 0.9078 - acc: 0.5576 - val_loss: 0.8137 - val_acc: 0.6364\n",
      "Epoch 9/50\n",
      " - 60s - loss: 0.8435 - acc: 0.5881 - val_loss: 0.7790 - val_acc: 0.6477\n",
      "Epoch 10/50\n",
      " - 60s - loss: 0.7786 - acc: 0.6177 - val_loss: 0.7865 - val_acc: 0.6318\n",
      "Epoch 11/50\n",
      " - 60s - loss: 0.8252 - acc: 0.5969 - val_loss: 0.7268 - val_acc: 0.6612\n",
      "Epoch 12/50\n",
      " - 59s - loss: 0.8096 - acc: 0.5988 - val_loss: 0.7184 - val_acc: 0.6663\n",
      "Epoch 13/50\n",
      " - 59s - loss: 0.7045 - acc: 0.6409 - val_loss: 0.6924 - val_acc: 0.6669\n",
      "Epoch 14/50\n",
      " - 57s - loss: 0.6868 - acc: 0.6508 - val_loss: 1.0805 - val_acc: 0.4884\n",
      "Epoch 15/50\n",
      " - 58s - loss: 0.8257 - acc: 0.6015 - val_loss: 0.6881 - val_acc: 0.6714\n",
      "Epoch 16/50\n",
      " - 59s - loss: 0.6591 - acc: 0.6676 - val_loss: 0.6637 - val_acc: 0.6765\n",
      "Epoch 17/50\n",
      " - 60s - loss: 0.6467 - acc: 0.6666 - val_loss: 0.6581 - val_acc: 0.6804\n",
      "Epoch 18/50\n",
      " - 57s - loss: 0.6347 - acc: 0.6644 - val_loss: 0.6520 - val_acc: 0.6815\n",
      "Epoch 19/50\n",
      " - 58s - loss: 0.6571 - acc: 0.6707 - val_loss: 1.1113 - val_acc: 0.5477\n",
      "Epoch 20/50\n",
      " - 57s - loss: 0.7645 - acc: 0.6378 - val_loss: 0.6370 - val_acc: 0.6872\n",
      "Epoch 21/50\n",
      " - 57s - loss: 0.6277 - acc: 0.6690 - val_loss: 0.6292 - val_acc: 0.6906\n",
      "Epoch 22/50\n",
      " - 58s - loss: 0.6213 - acc: 0.6770 - val_loss: 0.6293 - val_acc: 0.6917\n",
      "Epoch 23/50\n",
      " - 58s - loss: 0.6141 - acc: 0.6768 - val_loss: 0.6497 - val_acc: 0.6832\n",
      "Epoch 24/50\n",
      " - 58s - loss: 0.6151 - acc: 0.6724 - val_loss: 0.6183 - val_acc: 0.6985\n",
      "Epoch 25/50\n",
      " - 57s - loss: 0.6047 - acc: 0.6741 - val_loss: 0.6913 - val_acc: 0.6669\n",
      "Epoch 26/50\n",
      " - 57s - loss: 0.9017 - acc: 0.6104 - val_loss: 0.6261 - val_acc: 0.6877\n",
      "Epoch 27/50\n",
      " - 58s - loss: 0.6033 - acc: 0.6850 - val_loss: 0.6114 - val_acc: 0.6951\n",
      "Epoch 28/50\n",
      " - 56s - loss: 0.5987 - acc: 0.6964 - val_loss: 0.6113 - val_acc: 0.7041\n",
      "Epoch 29/50\n"
     ]
    }
   ],
   "source": [
    "history = model.fit(X_train, y_train, epochs=50, batch_size=500, validation_data=(X_test, y_test), verbose=2, shuffle=False)"
   ]
  },
  {
   "cell_type": "code",
   "execution_count": 52,
   "metadata": {},
   "outputs": [
    {
     "data": {
      "image/png": "[encoded data removed]",
      "text/plain": [
       "<Figure size 432x288 with 1 Axes>"
      ]
     },
     "metadata": {},
     "output_type": "display_data"
    }
   ],
   "source": [
    "# plot history\n",
    "plt.plot(history.history['loss'], label='train')\n",
    "plt.plot(history.history['val_loss'], label='test')\n",
    "plt.legend()                                       \n",
    "plt.show()                       "
   ]
  },
  {
   "cell_type": "code",
   "execution_count": 53,
   "metadata": {},
   "outputs": [],
   "source": [
    "loss, accuracy = model.evaluate(X_test, y_test, verbose=0)"
   ]
  },
  {
   "cell_type": "code",
   "execution_count": 56,
   "metadata": {},
   "outputs": [
    {
     "name": "stdout",
     "output_type": "stream",
     "text": [
      "0.7188029361269287\n"
     ]
    }
   ],
   "source": [
    "#가전제품 f1-score: 0.7819220343082984\n",
    "\n",
    "print(accuracy)"
   ]
  },
  {
   "cell_type": "markdown",
   "metadata": {},
   "source": [
    "#### 화장품"
   ]
  },
  {
   "cell_type": "code",
   "execution_count": 57,
   "metadata": {},
   "outputs": [],
   "source": [
    "X_train, X_test, y_train, y_test = train_test_split(\n",
    "X_화장품_resampled, Y_화장품_resampled, test_size=0.3, random_state=42)\n",
    "y_train = to_categorical(y_train)\n",
    "y_test = to_categorical(y_test)"
   ]
  },
  {
   "cell_type": "code",
   "execution_count": 58,
   "metadata": {},
   "outputs": [
    {
     "name": "stdout",
     "output_type": "stream",
     "text": [
      "_________________________________________________________________\n",
      "Layer (type)                 Output Shape              Param #   \n",
      "=================================================================\n",
      "masking_3 (Masking)          (None, 5000, 16)          0         \n",
      "_________________________________________________________________\n",
      "lstm_3 (LSTM)                (None, 64)                20736     \n",
      "_________________________________________________________________\n",
      "dense_7 (Dense)              (None, 32)                2080      \n",
      "_________________________________________________________________\n",
      "dropout_3 (Dropout)          (None, 32)                0         \n",
      "_________________________________________________________________\n",
      "dense_8 (Dense)              (None, 16)                528       \n",
      "_________________________________________________________________\n",
      "dense_9 (Dense)              (None, 3)                 51        \n",
      "=================================================================\n",
      "Total params: 23,395\n",
      "Trainable params: 23,395\n",
      "Non-trainable params: 0\n",
      "_________________________________________________________________\n",
      "None\n"
     ]
    }
   ],
   "source": [
    "#masking layer 추가(https://stackoverflow.com/questions/49670832/keras-lstm-with-masking-layer-for-variable-length-inputs)\n",
    "model = Sequential()\n",
    "model.add(Masking(mask_value=0., input_shape=(X_train.shape[1], X_train.shape[2])))\n",
    "model.add(LSTM(64,input_shape = (X_train.shape[1], X_train.shape[2])))\n",
    "model.add(Dense(32, activation= 'relu'))\n",
    "model.add(Dropout(0.2))\n",
    "model.add(Dense(16, activation= 'relu'))\n",
    "model.add(Dense(3, activation='sigmoid'))\n",
    "model.compile(loss='categorical_crossentropy', optimizer=RMSprop(lr= 0.001, rho = 0.9), metrics=['acc'])\n",
    "print(model.summary())"
   ]
  },
  {
   "cell_type": "code",
   "execution_count": 61,
   "metadata": {},
   "outputs": [
    {
     "name": "stdout",
     "output_type": "stream",
     "text": [
      "Train on 3916 samples, validate on 1679 samples\n",
      "Epoch 1/50\n",
      " - 51s - loss: 0.6749 - acc: 0.6338 - val_loss: 0.6493 - val_acc: 0.6367\n",
      "Epoch 2/50\n",
      " - 51s - loss: 0.6732 - acc: 0.6404 - val_loss: 0.6465 - val_acc: 0.6355\n",
      "Epoch 3/50\n",
      " - 52s - loss: 0.6689 - acc: 0.6456 - val_loss: 0.6563 - val_acc: 0.6403\n",
      "Epoch 4/50\n",
      " - 51s - loss: 0.6811 - acc: 0.6369 - val_loss: 0.6383 - val_acc: 0.6504\n",
      "Epoch 5/50\n",
      " - 51s - loss: 0.6599 - acc: 0.6435 - val_loss: 0.6382 - val_acc: 0.6403\n",
      "Epoch 6/50\n",
      " - 51s - loss: 0.7159 - acc: 0.6353 - val_loss: 0.9163 - val_acc: 0.5789\n",
      "Epoch 7/50\n",
      " - 52s - loss: 0.8036 - acc: 0.5858 - val_loss: 0.6506 - val_acc: 0.6397\n",
      "Epoch 8/50\n",
      " - 51s - loss: 0.6615 - acc: 0.6417 - val_loss: 0.6379 - val_acc: 0.6498\n",
      "Epoch 9/50\n",
      " - 51s - loss: 0.6544 - acc: 0.6468 - val_loss: 0.6329 - val_acc: 0.6546\n",
      "Epoch 10/50\n",
      " - 51s - loss: 0.6560 - acc: 0.6394 - val_loss: 0.6314 - val_acc: 0.6528\n",
      "Epoch 11/50\n",
      " - 51s - loss: 0.6553 - acc: 0.6453 - val_loss: 0.6297 - val_acc: 0.6546\n",
      "Epoch 12/50\n",
      " - 54s - loss: 0.6474 - acc: 0.6547 - val_loss: 0.6276 - val_acc: 0.6575\n",
      "Epoch 13/50\n",
      " - 55s - loss: 0.6509 - acc: 0.6445 - val_loss: 0.6292 - val_acc: 0.6492\n",
      "Epoch 14/50\n",
      " - 55s - loss: 0.9290 - acc: 0.5868 - val_loss: 0.6556 - val_acc: 0.6391\n",
      "Epoch 15/50\n",
      " - 55s - loss: 0.6671 - acc: 0.6394 - val_loss: 0.6372 - val_acc: 0.6534\n",
      "Epoch 16/50\n",
      " - 55s - loss: 0.6524 - acc: 0.6547 - val_loss: 0.6312 - val_acc: 0.6563\n",
      "Epoch 17/50\n",
      " - 55s - loss: 0.6502 - acc: 0.6479 - val_loss: 0.6281 - val_acc: 0.6629\n",
      "Epoch 18/50\n",
      " - 55s - loss: 0.6464 - acc: 0.6583 - val_loss: 0.6261 - val_acc: 0.6617\n",
      "Epoch 19/50\n",
      " - 74s - loss: 0.6439 - acc: 0.6668 - val_loss: 0.6251 - val_acc: 0.6677\n",
      "Epoch 20/50\n",
      " - 77s - loss: 0.6414 - acc: 0.6609 - val_loss: 0.6229 - val_acc: 0.6665\n",
      "Epoch 21/50\n",
      " - 78s - loss: 0.6356 - acc: 0.6632 - val_loss: 0.6222 - val_acc: 0.6671\n",
      "Epoch 22/50\n",
      " - 77s - loss: 0.6428 - acc: 0.6604 - val_loss: 0.6207 - val_acc: 0.6689\n",
      "Epoch 23/50\n",
      " - 78s - loss: 0.6357 - acc: 0.6691 - val_loss: 0.6185 - val_acc: 0.6730\n",
      "Epoch 24/50\n",
      " - 77s - loss: 0.6368 - acc: 0.6604 - val_loss: 0.6146 - val_acc: 0.6706\n",
      "Epoch 25/50\n",
      " - 77s - loss: 0.6874 - acc: 0.6484 - val_loss: 1.2780 - val_acc: 0.4777\n",
      "Epoch 26/50\n",
      " - 77s - loss: 0.8583 - acc: 0.5981 - val_loss: 0.6347 - val_acc: 0.6534\n",
      "Epoch 27/50\n",
      " - 77s - loss: 0.6374 - acc: 0.6752 - val_loss: 0.6196 - val_acc: 0.6683\n",
      "Epoch 28/50\n",
      " - 77s - loss: 0.6306 - acc: 0.6701 - val_loss: 0.6179 - val_acc: 0.6718\n",
      "Epoch 29/50\n",
      " - 78s - loss: 0.6310 - acc: 0.6688 - val_loss: 0.6165 - val_acc: 0.6700\n",
      "Epoch 30/50\n",
      " - 78s - loss: 0.6286 - acc: 0.6749 - val_loss: 0.6134 - val_acc: 0.6712\n",
      "Epoch 31/50\n",
      " - 78s - loss: 0.6312 - acc: 0.6688 - val_loss: 0.6166 - val_acc: 0.6748\n",
      "Epoch 32/50\n",
      " - 77s - loss: 0.6239 - acc: 0.6765 - val_loss: 0.6157 - val_acc: 0.6730\n",
      "Epoch 33/50\n",
      " - 78s - loss: 0.6267 - acc: 0.6744 - val_loss: 0.6141 - val_acc: 0.6730\n",
      "Epoch 34/50\n",
      " - 71s - loss: 0.6265 - acc: 0.6731 - val_loss: 0.6094 - val_acc: 0.6766\n",
      "Epoch 35/50\n",
      " - 54s - loss: 0.6267 - acc: 0.6767 - val_loss: 0.6139 - val_acc: 0.6754\n",
      "Epoch 36/50\n",
      " - 55s - loss: 0.6264 - acc: 0.6772 - val_loss: 0.6122 - val_acc: 0.6790\n",
      "Epoch 37/50\n",
      " - 54s - loss: 0.6195 - acc: 0.6752 - val_loss: 0.6098 - val_acc: 0.6700\n",
      "Epoch 38/50\n",
      " - 54s - loss: 1.0024 - acc: 0.6027 - val_loss: 0.7837 - val_acc: 0.6200\n",
      "Epoch 39/50\n",
      " - 54s - loss: 0.7097 - acc: 0.6468 - val_loss: 0.6243 - val_acc: 0.6694\n",
      "Epoch 40/50\n",
      " - 55s - loss: 0.6436 - acc: 0.6637 - val_loss: 0.6209 - val_acc: 0.6706\n",
      "Epoch 41/50\n",
      " - 54s - loss: 0.6360 - acc: 0.6696 - val_loss: 0.6181 - val_acc: 0.6700\n",
      "Epoch 42/50\n",
      " - 55s - loss: 0.6288 - acc: 0.6660 - val_loss: 0.6143 - val_acc: 0.6718\n",
      "Epoch 43/50\n",
      " - 54s - loss: 0.6283 - acc: 0.6713 - val_loss: 0.6134 - val_acc: 0.6760\n",
      "Epoch 44/50\n",
      " - 55s - loss: 0.6233 - acc: 0.6688 - val_loss: 0.6121 - val_acc: 0.6760\n",
      "Epoch 45/50\n",
      " - 54s - loss: 0.6234 - acc: 0.6680 - val_loss: 0.6108 - val_acc: 0.6772\n",
      "Epoch 46/50\n",
      " - 55s - loss: 0.6213 - acc: 0.6685 - val_loss: 0.6100 - val_acc: 0.6802\n",
      "Epoch 47/50\n",
      " - 54s - loss: 0.6259 - acc: 0.6647 - val_loss: 0.6063 - val_acc: 0.6814\n",
      "Epoch 48/50\n",
      " - 54s - loss: 0.6210 - acc: 0.6665 - val_loss: 0.6062 - val_acc: 0.6802\n",
      "Epoch 49/50\n",
      " - 53s - loss: 0.6140 - acc: 0.6747 - val_loss: 0.6055 - val_acc: 0.6748\n",
      "Epoch 50/50\n",
      " - 54s - loss: 0.7345 - acc: 0.6530 - val_loss: 1.1365 - val_acc: 0.5003\n"
     ]
    }
   ],
   "source": [
    "history = model.fit(X_train, y_train, epochs=50, batch_size=1000, validation_data=(X_test, y_test), verbose=2, shuffle=False)"
   ]
  },
  {
   "cell_type": "markdown",
   "metadata": {},
   "source": []
  }
 ],
 "metadata": {
  "kernelspec": {
   "display_name": "Python 3",
   "language": "python",
   "name": "python3"
  },
  "language_info": {
   "codemirror_mode": {
    "name": "ipython",
    "version": 3
   },
   "file_extension": ".py",
   "mimetype": "text/x-python",
   "name": "python",
   "nbconvert_exporter": "python",
   "pygments_lexer": "ipython3",
   "version": "3.6.8"
  }
 },
 "nbformat": 4,
 "nbformat_minor": 2
}
