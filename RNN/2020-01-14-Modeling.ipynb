{
 "cells": [
  {
   "cell_type": "code",
   "execution_count": 1,
   "metadata": {
    "scrolled": true
   },
   "outputs": [
    {
     "name": "stderr",
     "output_type": "stream",
     "text": [
      "/usr/local/lib/python3.6/dist-packages/tensorflow/python/framework/dtypes.py:516: FutureWarning: Passing (type, 1) or '1type' as a synonym of type is deprecated; in a future version of numpy, it will be understood as (type, (1,)) / '(1,)type'.\n",
      "  _np_qint8 = np.dtype([(\"qint8\", np.int8, 1)])\n",
      "/usr/local/lib/python3.6/dist-packages/tensorflow/python/framework/dtypes.py:517: FutureWarning: Passing (type, 1) or '1type' as a synonym of type is deprecated; in a future version of numpy, it will be understood as (type, (1,)) / '(1,)type'.\n",
      "  _np_quint8 = np.dtype([(\"quint8\", np.uint8, 1)])\n",
      "/usr/local/lib/python3.6/dist-packages/tensorflow/python/framework/dtypes.py:518: FutureWarning: Passing (type, 1) or '1type' as a synonym of type is deprecated; in a future version of numpy, it will be understood as (type, (1,)) / '(1,)type'.\n",
      "  _np_qint16 = np.dtype([(\"qint16\", np.int16, 1)])\n",
      "/usr/local/lib/python3.6/dist-packages/tensorflow/python/framework/dtypes.py:519: FutureWarning: Passing (type, 1) or '1type' as a synonym of type is deprecated; in a future version of numpy, it will be understood as (type, (1,)) / '(1,)type'.\n",
      "  _np_quint16 = np.dtype([(\"quint16\", np.uint16, 1)])\n",
      "/usr/local/lib/python3.6/dist-packages/tensorflow/python/framework/dtypes.py:520: FutureWarning: Passing (type, 1) or '1type' as a synonym of type is deprecated; in a future version of numpy, it will be understood as (type, (1,)) / '(1,)type'.\n",
      "  _np_qint32 = np.dtype([(\"qint32\", np.int32, 1)])\n",
      "/usr/local/lib/python3.6/dist-packages/tensorflow/python/framework/dtypes.py:525: FutureWarning: Passing (type, 1) or '1type' as a synonym of type is deprecated; in a future version of numpy, it will be understood as (type, (1,)) / '(1,)type'.\n",
      "  np_resource = np.dtype([(\"resource\", np.ubyte, 1)])\n",
      "/usr/local/lib/python3.6/dist-packages/tensorboard/compat/tensorflow_stub/dtypes.py:541: FutureWarning: Passing (type, 1) or '1type' as a synonym of type is deprecated; in a future version of numpy, it will be understood as (type, (1,)) / '(1,)type'.\n",
      "  _np_qint8 = np.dtype([(\"qint8\", np.int8, 1)])\n",
      "/usr/local/lib/python3.6/dist-packages/tensorboard/compat/tensorflow_stub/dtypes.py:542: FutureWarning: Passing (type, 1) or '1type' as a synonym of type is deprecated; in a future version of numpy, it will be understood as (type, (1,)) / '(1,)type'.\n",
      "  _np_quint8 = np.dtype([(\"quint8\", np.uint8, 1)])\n",
      "/usr/local/lib/python3.6/dist-packages/tensorboard/compat/tensorflow_stub/dtypes.py:543: FutureWarning: Passing (type, 1) or '1type' as a synonym of type is deprecated; in a future version of numpy, it will be understood as (type, (1,)) / '(1,)type'.\n",
      "  _np_qint16 = np.dtype([(\"qint16\", np.int16, 1)])\n",
      "/usr/local/lib/python3.6/dist-packages/tensorboard/compat/tensorflow_stub/dtypes.py:544: FutureWarning: Passing (type, 1) or '1type' as a synonym of type is deprecated; in a future version of numpy, it will be understood as (type, (1,)) / '(1,)type'.\n",
      "  _np_quint16 = np.dtype([(\"quint16\", np.uint16, 1)])\n",
      "/usr/local/lib/python3.6/dist-packages/tensorboard/compat/tensorflow_stub/dtypes.py:545: FutureWarning: Passing (type, 1) or '1type' as a synonym of type is deprecated; in a future version of numpy, it will be understood as (type, (1,)) / '(1,)type'.\n",
      "  _np_qint32 = np.dtype([(\"qint32\", np.int32, 1)])\n",
      "/usr/local/lib/python3.6/dist-packages/tensorboard/compat/tensorflow_stub/dtypes.py:550: FutureWarning: Passing (type, 1) or '1type' as a synonym of type is deprecated; in a future version of numpy, it will be understood as (type, (1,)) / '(1,)type'.\n",
      "  np_resource = np.dtype([(\"resource\", np.ubyte, 1)])\n",
      "Using TensorFlow backend.\n"
     ]
    }
   ],
   "source": [
    "import pandas as pd\n",
    "import tensorflow as tf\n",
    "from sklearn.preprocessing import LabelEncoder\n",
    "import datetime\n",
    "import numpy as np\n",
    "from keras.models import Sequential\n",
    "from keras.layers import Dense\n",
    "from keras.layers import LSTM\n",
    "from keras.optimizers import RMSprop\n",
    "from sklearn.model_selection import train_test_split\n",
    "from keras.preprocessing import sequence\n",
    "from matplotlib import pyplot as plt\n",
    "from keras.layers.embeddings import Embedding\n",
    "from keras.layers import Dropout\n",
    "from keras.layers import Masking\n",
    "from tqdm import tqdm_notebook\n",
    "from imblearn.over_sampling import SMOTE, ADASYN\n",
    "from imblearn.over_sampling import RandomOverSampler\n",
    "from keras.utils import to_categorical"
   ]
  },
  {
   "cell_type": "markdown",
   "metadata": {},
   "source": [
    "### data 불러오기"
   ]
  },
  {
   "cell_type": "code",
   "execution_count": 2,
   "metadata": {},
   "outputs": [],
   "source": [
    "Y_가전제품 = pd.read_csv('Y_가전제품.csv')\n",
    "Y_화장품 = pd.read_csv('Y_화장품.csv')\n",
    "Y_패션 = pd.read_csv('Y_패션.csv')"
   ]
  },
  {
   "cell_type": "code",
   "execution_count": 3,
   "metadata": {},
   "outputs": [],
   "source": [
    "Y_가전제품= Y_가전제품['가전제품구매']\n",
    "Y_화장품= Y_화장품['화장품구매']\n",
    "Y_패션= Y_패션['패션구매']"
   ]
  },
  {
   "cell_type": "code",
   "execution_count": 4,
   "metadata": {},
   "outputs": [],
   "source": [
    "X_가전제품 = pd.read_csv('가전제품_3d_array.csv')\n",
    "X_화장품 = pd.read_csv('화장품_3d_array.csv')\n",
    "X_패션 = pd.read_csv('패션_3d_array.csv')"
   ]
  },
  {
   "cell_type": "code",
   "execution_count": 5,
   "metadata": {},
   "outputs": [],
   "source": [
    "X_가전제품 = np.asarray(X_가전제품)\n",
    "X_화장품 = np.asarray(X_화장품)\n",
    "X_패션 = np.asarray(X_패션)"
   ]
  },
  {
   "cell_type": "markdown",
   "metadata": {},
   "source": [
    "### Oversampling"
   ]
  },
  {
   "cell_type": "code",
   "execution_count": 6,
   "metadata": {},
   "outputs": [
    {
     "data": {
      "text/plain": [
       "(2103, 80000)"
      ]
     },
     "execution_count": 6,
     "metadata": {},
     "output_type": "execute_result"
    }
   ],
   "source": [
    "X_가전제품.shape"
   ]
  },
  {
   "cell_type": "code",
   "execution_count": 7,
   "metadata": {},
   "outputs": [],
   "source": [
    "smote = SMOTE()"
   ]
  },
  {
   "cell_type": "code",
   "execution_count": 8,
   "metadata": {},
   "outputs": [],
   "source": [
    "def oversample(X, Y):\n",
    "    max_len = 5000\n",
    "    X_resampled, Y_resampled = smote.fit_resample(X, Y)\n",
    "    X_resampled = X_resampled.reshape(X_resampled.shape[0], max_len, int(X_resampled.shape[1]/max_len))\n",
    "    return X_resampled, Y_resampled"
   ]
  },
  {
   "cell_type": "code",
   "execution_count": 9,
   "metadata": {},
   "outputs": [],
   "source": [
    "X_가전제품_resampled, Y_가전제품_resampled =oversample(X_가전제품, Y_가전제품)\n",
    "X_패션_resampled, Y_패션_resampled = oversample(X_패션, Y_패션)\n",
    "X_화장품_resampled, Y_화장품_resampled = oversample(X_화장품, Y_화장품)"
   ]
  },
  {
   "cell_type": "markdown",
   "metadata": {},
   "source": [
    "### LSTM 가동"
   ]
  },
  {
   "cell_type": "code",
   "execution_count": 10,
   "metadata": {},
   "outputs": [],
   "source": [
    "from keras import backend as K\n",
    "\n",
    "def recall_m(y_true, y_pred):\n",
    "        true_positives = K.sum(K.round(K.clip(y_true * y_pred, 0, 1)))\n",
    "        possible_positives = K.sum(K.round(K.clip(y_true, 0, 1)))\n",
    "        recall = true_positives / (possible_positives + K.epsilon())\n",
    "        return recall\n",
    "\n",
    "def precision_m(y_true, y_pred):\n",
    "        true_positives = K.sum(K.round(K.clip(y_true * y_pred, 0, 1)))\n",
    "        predicted_positives = K.sum(K.round(K.clip(y_pred, 0, 1)))\n",
    "        precision = true_positives / (predicted_positives + K.epsilon())\n",
    "        return precision\n",
    "\n",
    "def f1_m(y_true, y_pred):\n",
    "    precision = precision_m(y_true, y_pred)\n",
    "    recall = recall_m(y_true, y_pred)\n",
    "    return 2*((precision*recall)/(precision+recall+K.epsilon()))"
   ]
  },
  {
   "cell_type": "markdown",
   "metadata": {},
   "source": [
    "#### 패션"
   ]
  },
  {
   "cell_type": "code",
   "execution_count": 11,
   "metadata": {},
   "outputs": [],
   "source": [
    "X_train, X_test, y_train, y_test = train_test_split(\n",
    "X_패션_resampled, Y_패션_resampled, test_size=0.3, random_state=42)"
   ]
  },
  {
   "cell_type": "code",
   "execution_count": 12,
   "metadata": {},
   "outputs": [],
   "source": [
    "y_train = to_categorical(y_train)\n",
    "y_test = to_categorical(y_test)"
   ]
  },
  {
   "cell_type": "code",
   "execution_count": 13,
   "metadata": {},
   "outputs": [
    {
     "data": {
      "text/plain": [
       "(3790, 5000, 16)"
      ]
     },
     "execution_count": 13,
     "metadata": {},
     "output_type": "execute_result"
    }
   ],
   "source": [
    "X_train.shape"
   ]
  },
  {
   "cell_type": "code",
   "execution_count": 14,
   "metadata": {},
   "outputs": [
    {
     "name": "stderr",
     "output_type": "stream",
     "text": [
      "WARNING: Logging before flag parsing goes to stderr.\n",
      "W0114 13:37:07.790207 140181705480000 deprecation_wrapper.py:119] From /usr/local/lib/python3.6/dist-packages/keras/backend/tensorflow_backend.py:63: The name tf.get_default_graph is deprecated. Please use tf.compat.v1.get_default_graph instead.\n",
      "\n",
      "W0114 13:37:07.805617 140181705480000 deprecation_wrapper.py:119] From /usr/local/lib/python3.6/dist-packages/keras/backend/tensorflow_backend.py:492: The name tf.placeholder is deprecated. Please use tf.compat.v1.placeholder instead.\n",
      "\n",
      "W0114 13:37:07.809621 140181705480000 deprecation.py:506] From /usr/local/lib/python3.6/dist-packages/keras/backend/tensorflow_backend.py:1359: calling reduce_any_v1 (from tensorflow.python.ops.math_ops) with keep_dims is deprecated and will be removed in a future version.\n",
      "Instructions for updating:\n",
      "keep_dims is deprecated, use keepdims instead\n",
      "W0114 13:37:07.814324 140181705480000 deprecation_wrapper.py:119] From /usr/local/lib/python3.6/dist-packages/keras/backend/tensorflow_backend.py:3630: The name tf.random_uniform is deprecated. Please use tf.random.uniform instead.\n",
      "\n",
      "W0114 13:37:07.872861 140181705480000 deprecation.py:506] From /usr/local/lib/python3.6/dist-packages/keras/backend/tensorflow_backend.py:1242: calling reduce_sum_v1 (from tensorflow.python.ops.math_ops) with keep_dims is deprecated and will be removed in a future version.\n",
      "Instructions for updating:\n",
      "keep_dims is deprecated, use keepdims instead\n",
      "W0114 13:37:07.955703 140181705480000 deprecation.py:323] From /usr/local/lib/python3.6/dist-packages/keras/backend/tensorflow_backend.py:2608: add_dispatch_support.<locals>.wrapper (from tensorflow.python.ops.array_ops) is deprecated and will be removed in a future version.\n",
      "Instructions for updating:\n",
      "Use tf.where in 2.0, which has the same broadcast rule as np.where\n",
      "W0114 13:37:07.992032 140181705480000 deprecation_wrapper.py:119] From /usr/local/lib/python3.6/dist-packages/keras/optimizers.py:711: The name tf.train.Optimizer is deprecated. Please use tf.compat.v1.train.Optimizer instead.\n",
      "\n",
      "W0114 13:37:07.996639 140181705480000 deprecation_wrapper.py:119] From /usr/local/lib/python3.6/dist-packages/keras/backend/tensorflow_backend.py:2884: The name tf.log is deprecated. Please use tf.math.log instead.\n",
      "\n"
     ]
    },
    {
     "name": "stdout",
     "output_type": "stream",
     "text": [
      "_________________________________________________________________\n",
      "Layer (type)                 Output Shape              Param #   \n",
      "=================================================================\n",
      "masking_1 (Masking)          (None, 5000, 16)          0         \n",
      "_________________________________________________________________\n",
      "lstm_1 (LSTM)                (None, 64)                20736     \n",
      "_________________________________________________________________\n",
      "dense_1 (Dense)              (None, 32)                2080      \n",
      "_________________________________________________________________\n",
      "dense_2 (Dense)              (None, 16)                528       \n",
      "_________________________________________________________________\n",
      "dense_3 (Dense)              (None, 3)                 51        \n",
      "=================================================================\n",
      "Total params: 23,395\n",
      "Trainable params: 23,395\n",
      "Non-trainable params: 0\n",
      "_________________________________________________________________\n",
      "None\n"
     ]
    }
   ],
   "source": [
    "#masking layer 추가(https://stackoverflow.com/questions/49670832/keras-lstm-with-masking-layer-for-variable-length-inputs)\n",
    "model = Sequential()\n",
    "model.add(Masking(mask_value=0., input_shape=(X_train.shape[1], X_train.shape[2])))\n",
    "model.add(LSTM(64,input_shape = (X_train.shape[1], X_train.shape[2])))\n",
    "model.add(Dense(32, activation= 'relu'))\n",
    "#model.add(Dropout(0.2))\n",
    "model.add(Dense(16, activation= 'relu'))\n",
    "model.add(Dense(3, activation='sigmoid'))\n",
    "model.compile(loss='categorical_crossentropy', optimizer=RMSprop(lr= 0.001, rho = 0.9), metrics=['acc'])\n",
    "print(model.summary())"
   ]
  },
  {
   "cell_type": "code",
   "execution_count": 15,
   "metadata": {},
   "outputs": [
    {
     "name": "stderr",
     "output_type": "stream",
     "text": [
      "W0114 13:37:08.397533 140181705480000 deprecation.py:506] From /usr/local/lib/python3.6/dist-packages/keras/backend/tensorflow_backend.py:675: calling Constant.__init__ (from tensorflow.python.ops.init_ops) with dtype is deprecated and will be removed in a future version.\n",
      "Instructions for updating:\n",
      "Call initializer instance with the dtype argument instead of passing it to the constructor\n",
      "W0114 13:37:08.414020 140181705480000 deprecation_wrapper.py:119] From /usr/local/lib/python3.6/dist-packages/keras/backend/tensorflow_backend.py:953: The name tf.assign_add is deprecated. Please use tf.compat.v1.assign_add instead.\n",
      "\n"
     ]
    },
    {
     "name": "stdout",
     "output_type": "stream",
     "text": [
      "Train on 3790 samples, validate on 1625 samples\n",
      "Epoch 1/30\n",
      " - 122s - loss: 1.0729 - acc: 0.3501 - val_loss: 1.0662 - val_acc: 0.3483\n",
      "Epoch 2/30\n",
      " - 106s - loss: 1.0318 - acc: 0.4121 - val_loss: 1.0991 - val_acc: 0.3471\n",
      "Epoch 3/30\n",
      " - 115s - loss: 1.0169 - acc: 0.4580 - val_loss: 1.0196 - val_acc: 0.5151\n",
      "Epoch 4/30\n",
      " - 120s - loss: 0.9712 - acc: 0.5198 - val_loss: 1.0511 - val_acc: 0.4468\n",
      "Epoch 5/30\n",
      " - 120s - loss: 0.9873 - acc: 0.5135 - val_loss: 1.0000 - val_acc: 0.5662\n",
      "Epoch 6/30\n",
      " - 118s - loss: 0.9403 - acc: 0.5884 - val_loss: 0.9302 - val_acc: 0.5945\n",
      "Epoch 7/30\n",
      " - 107s - loss: 0.9789 - acc: 0.5361 - val_loss: 0.9498 - val_acc: 0.5514\n",
      "Epoch 8/30\n",
      " - 119s - loss: 0.9227 - acc: 0.6066 - val_loss: 1.4886 - val_acc: 0.3625\n",
      "Epoch 9/30\n",
      " - 107s - loss: 0.9834 - acc: 0.5963 - val_loss: 0.9217 - val_acc: 0.6191\n",
      "Epoch 10/30\n",
      " - 114s - loss: 0.9013 - acc: 0.6356 - val_loss: 0.9037 - val_acc: 0.6332\n",
      "Epoch 11/30\n",
      " - 119s - loss: 0.9073 - acc: 0.6282 - val_loss: 0.8889 - val_acc: 0.6357\n",
      "Epoch 12/30\n",
      " - 119s - loss: 0.9678 - acc: 0.5974 - val_loss: 0.9059 - val_acc: 0.6302\n",
      "Epoch 13/30\n",
      " - 86s - loss: 0.8961 - acc: 0.6301 - val_loss: 0.8873 - val_acc: 0.6308\n",
      "Epoch 14/30\n",
      " - 82s - loss: 0.8949 - acc: 0.6269 - val_loss: 0.8874 - val_acc: 0.6394\n",
      "Epoch 15/30\n",
      " - 82s - loss: 0.8988 - acc: 0.6311 - val_loss: 0.8771 - val_acc: 0.6388\n",
      "Epoch 16/30\n",
      " - 82s - loss: 0.9125 - acc: 0.6142 - val_loss: 0.8733 - val_acc: 0.6505\n",
      "Epoch 17/30\n",
      " - 82s - loss: 0.8657 - acc: 0.6459 - val_loss: 0.9093 - val_acc: 0.6234\n",
      "Epoch 18/30\n",
      " - 82s - loss: 0.8882 - acc: 0.6298 - val_loss: 0.8638 - val_acc: 0.6505\n",
      "Epoch 19/30\n",
      " - 82s - loss: 0.8570 - acc: 0.6493 - val_loss: 0.8557 - val_acc: 0.6597\n",
      "Epoch 20/30\n",
      " - 82s - loss: 0.8728 - acc: 0.6303 - val_loss: 0.8529 - val_acc: 0.6517\n",
      "Epoch 21/30\n",
      " - 82s - loss: 0.8790 - acc: 0.6356 - val_loss: 0.8515 - val_acc: 0.6511\n",
      "Epoch 22/30\n",
      " - 81s - loss: 0.8489 - acc: 0.6470 - val_loss: 0.8484 - val_acc: 0.6517\n",
      "Epoch 23/30\n",
      " - 82s - loss: 0.8850 - acc: 0.6256 - val_loss: 0.9025 - val_acc: 0.6265\n",
      "Epoch 24/30\n",
      " - 82s - loss: 0.8494 - acc: 0.6456 - val_loss: 0.8491 - val_acc: 0.6492\n",
      "Epoch 25/30\n",
      " - 82s - loss: 0.8374 - acc: 0.6541 - val_loss: 0.8445 - val_acc: 0.6529\n",
      "Epoch 26/30\n",
      " - 81s - loss: 0.8349 - acc: 0.6573 - val_loss: 0.8367 - val_acc: 0.6578\n",
      "Epoch 27/30\n",
      " - 81s - loss: 0.8711 - acc: 0.6219 - val_loss: 0.8385 - val_acc: 0.6548\n",
      "Epoch 28/30\n",
      " - 81s - loss: 0.8300 - acc: 0.6573 - val_loss: 0.8325 - val_acc: 0.6548\n",
      "Epoch 29/30\n",
      " - 82s - loss: 0.8245 - acc: 0.6565 - val_loss: 0.8847 - val_acc: 0.6338\n",
      "Epoch 30/30\n",
      " - 82s - loss: 0.8224 - acc: 0.6462 - val_loss: 0.7895 - val_acc: 0.6560\n"
     ]
    }
   ],
   "source": [
    "history = model.fit(X_train, y_train, epochs=30, batch_size=500, validation_data=(X_test, y_test), verbose=2, shuffle=False)"
   ]
  },
  {
   "cell_type": "code",
   "execution_count": null,
   "metadata": {},
   "outputs": [],
   "source": [
    "loss, accuracy = model.evaluate(X_test, y_test, verbose=0)"
   ]
  },
  {
   "cell_type": "code",
   "execution_count": null,
   "metadata": {},
   "outputs": [],
   "source": [
    "#가전제품 f1-score: 0.7819220343082984\n",
    "#패션 accuracy: 0.7188029361269287\n",
    "\n",
    "print(accuracy)"
   ]
  },
  {
   "cell_type": "markdown",
   "metadata": {},
   "source": [
    "#### 가전제품"
   ]
  },
  {
   "cell_type": "code",
   "execution_count": 16,
   "metadata": {},
   "outputs": [],
   "source": [
    "X_train, X_test, y_train, y_test = train_test_split(\n",
    "X_가전제품_resampled, Y_가전제품_resampled, test_size=0.3, random_state=42)\n",
    "y_train = to_categorical(y_train)\n",
    "y_test = to_categorical(y_test)"
   ]
  },
  {
   "cell_type": "code",
   "execution_count": null,
   "metadata": {},
   "outputs": [],
   "source": [
    "#masking layer 추가(https://stackoverflow.com/questions/49670832/keras-lstm-with-masking-layer-for-variable-length-inputs)\n",
    "model = Sequential()\n",
    "model.add(Masking(mask_value=0., input_shape=(X_train.shape[1], X_train.shape[2])))\n",
    "model.add(LSTM(64,input_shape = (X_train.shape[1], X_train.shape[2])))\n",
    "model.add(Dense(32, activation= 'relu'))\n",
    "#model.add(Dropout(0.2))\n",
    "model.add(Dense(16, activation= 'relu'))\n",
    "model.add(Dense(3, activation='sigmoid'))\n",
    "model.compile(loss='categorical_crossentropy', optimizer=RMSprop(lr= 0.001, rho = 0.9), metrics=['acc'])\n",
    "print(model.summary())"
   ]
  },
  {
   "cell_type": "code",
   "execution_count": null,
   "metadata": {},
   "outputs": [],
   "source": [
    "history = model.fit(X_train, y_train, epochs=30, batch_size=500, validation_data=(X_test, y_test), verbose=2, shuffle=False)"
   ]
  },
  {
   "cell_type": "code",
   "execution_count": 52,
   "metadata": {},
   "outputs": [
    {
     "data": {
      "image/png": "[encoded data removed]",
      "text/plain": [
       "<Figure size 432x288 with 1 Axes>"
      ]
     },
     "metadata": {},
     "output_type": "display_data"
    }
   ],
   "source": [
    "# plot history\n",
    "plt.plot(history.history['loss'], label='train')\n",
    "plt.plot(history.history['val_loss'], label='test')\n",
    "plt.legend()                                       \n",
    "plt.show()                       "
   ]
  },
  {
   "cell_type": "code",
   "execution_count": 53,
   "metadata": {},
   "outputs": [],
   "source": [
    "loss, accuracy = model.evaluate(X_test, y_test, verbose=0)"
   ]
  },
  {
   "cell_type": "code",
   "execution_count": 56,
   "metadata": {},
   "outputs": [
    {
     "name": "stdout",
     "output_type": "stream",
     "text": [
      "0.7188029361269287\n"
     ]
    }
   ],
   "source": [
    "#가전제품 f1-score: 0.7819220343082984\n",
    "\n",
    "print(accuracy)"
   ]
  },
  {
   "cell_type": "markdown",
   "metadata": {},
   "source": [
    "#### 화장품"
   ]
  },
  {
   "cell_type": "code",
   "execution_count": 57,
   "metadata": {},
   "outputs": [],
   "source": [
    "X_train, X_test, y_train, y_test = train_test_split(\n",
    "X_화장품_resampled, Y_화장품_resampled, test_size=0.3, random_state=42)\n",
    "y_train = to_categorical(y_train)\n",
    "y_test = to_categorical(y_test)"
   ]
  },
  {
   "cell_type": "code",
   "execution_count": 58,
   "metadata": {},
   "outputs": [
    {
     "name": "stdout",
     "output_type": "stream",
     "text": [
      "_________________________________________________________________\n",
      "Layer (type)                 Output Shape              Param #   \n",
      "=================================================================\n",
      "masking_3 (Masking)          (None, 5000, 16)          0         \n",
      "_________________________________________________________________\n",
      "lstm_3 (LSTM)                (None, 64)                20736     \n",
      "_________________________________________________________________\n",
      "dense_7 (Dense)              (None, 32)                2080      \n",
      "_________________________________________________________________\n",
      "dropout_3 (Dropout)          (None, 32)                0         \n",
      "_________________________________________________________________\n",
      "dense_8 (Dense)              (None, 16)                528       \n",
      "_________________________________________________________________\n",
      "dense_9 (Dense)              (None, 3)                 51        \n",
      "=================================================================\n",
      "Total params: 23,395\n",
      "Trainable params: 23,395\n",
      "Non-trainable params: 0\n",
      "_________________________________________________________________\n",
      "None\n"
     ]
    }
   ],
   "source": [
    "#masking layer 추가(https://stackoverflow.com/questions/49670832/keras-lstm-with-masking-layer-for-variable-length-inputs)\n",
    "model = Sequential()\n",
    "model.add(Masking(mask_value=0., input_shape=(X_train.shape[1], X_train.shape[2])))\n",
    "model.add(LSTM(64,input_shape = (X_train.shape[1], X_train.shape[2])))\n",
    "model.add(Dense(32, activation= 'relu'))\n",
    "model.add(Dropout(0.2))\n",
    "model.add(Dense(16, activation= 'relu'))\n",
    "model.add(Dense(3, activation='sigmoid'))\n",
    "model.compile(loss='categorical_crossentropy', optimizer=RMSprop(lr= 0.001, rho = 0.9), metrics=['acc'])\n",
    "print(model.summary())"
   ]
  },
  {
   "cell_type": "code",
   "execution_count": 61,
   "metadata": {},
   "outputs": [
    {
     "name": "stdout",
     "output_type": "stream",
     "text": [
      "Train on 3916 samples, validate on 1679 samples\n",
      "Epoch 1/50\n",
      " - 51s - loss: 0.6749 - acc: 0.6338 - val_loss: 0.6493 - val_acc: 0.6367\n",
      "Epoch 2/50\n",
      " - 51s - loss: 0.6732 - acc: 0.6404 - val_loss: 0.6465 - val_acc: 0.6355\n",
      "Epoch 3/50\n",
      " - 52s - loss: 0.6689 - acc: 0.6456 - val_loss: 0.6563 - val_acc: 0.6403\n",
      "Epoch 4/50\n",
      " - 51s - loss: 0.6811 - acc: 0.6369 - val_loss: 0.6383 - val_acc: 0.6504\n",
      "Epoch 5/50\n",
      " - 51s - loss: 0.6599 - acc: 0.6435 - val_loss: 0.6382 - val_acc: 0.6403\n",
      "Epoch 6/50\n",
      " - 51s - loss: 0.7159 - acc: 0.6353 - val_loss: 0.9163 - val_acc: 0.5789\n",
      "Epoch 7/50\n",
      " - 52s - loss: 0.8036 - acc: 0.5858 - val_loss: 0.6506 - val_acc: 0.6397\n",
      "Epoch 8/50\n",
      " - 51s - loss: 0.6615 - acc: 0.6417 - val_loss: 0.6379 - val_acc: 0.6498\n",
      "Epoch 9/50\n",
      " - 51s - loss: 0.6544 - acc: 0.6468 - val_loss: 0.6329 - val_acc: 0.6546\n",
      "Epoch 10/50\n",
      " - 51s - loss: 0.6560 - acc: 0.6394 - val_loss: 0.6314 - val_acc: 0.6528\n",
      "Epoch 11/50\n",
      " - 51s - loss: 0.6553 - acc: 0.6453 - val_loss: 0.6297 - val_acc: 0.6546\n",
      "Epoch 12/50\n",
      " - 54s - loss: 0.6474 - acc: 0.6547 - val_loss: 0.6276 - val_acc: 0.6575\n",
      "Epoch 13/50\n",
      " - 55s - loss: 0.6509 - acc: 0.6445 - val_loss: 0.6292 - val_acc: 0.6492\n",
      "Epoch 14/50\n",
      " - 55s - loss: 0.9290 - acc: 0.5868 - val_loss: 0.6556 - val_acc: 0.6391\n",
      "Epoch 15/50\n",
      " - 55s - loss: 0.6671 - acc: 0.6394 - val_loss: 0.6372 - val_acc: 0.6534\n",
      "Epoch 16/50\n",
      " - 55s - loss: 0.6524 - acc: 0.6547 - val_loss: 0.6312 - val_acc: 0.6563\n",
      "Epoch 17/50\n",
      " - 55s - loss: 0.6502 - acc: 0.6479 - val_loss: 0.6281 - val_acc: 0.6629\n",
      "Epoch 18/50\n",
      " - 55s - loss: 0.6464 - acc: 0.6583 - val_loss: 0.6261 - val_acc: 0.6617\n",
      "Epoch 19/50\n",
      " - 74s - loss: 0.6439 - acc: 0.6668 - val_loss: 0.6251 - val_acc: 0.6677\n",
      "Epoch 20/50\n",
      " - 77s - loss: 0.6414 - acc: 0.6609 - val_loss: 0.6229 - val_acc: 0.6665\n",
      "Epoch 21/50\n",
      " - 78s - loss: 0.6356 - acc: 0.6632 - val_loss: 0.6222 - val_acc: 0.6671\n",
      "Epoch 22/50\n",
      " - 77s - loss: 0.6428 - acc: 0.6604 - val_loss: 0.6207 - val_acc: 0.6689\n",
      "Epoch 23/50\n",
      " - 78s - loss: 0.6357 - acc: 0.6691 - val_loss: 0.6185 - val_acc: 0.6730\n",
      "Epoch 24/50\n",
      " - 77s - loss: 0.6368 - acc: 0.6604 - val_loss: 0.6146 - val_acc: 0.6706\n",
      "Epoch 25/50\n",
      " - 77s - loss: 0.6874 - acc: 0.6484 - val_loss: 1.2780 - val_acc: 0.4777\n",
      "Epoch 26/50\n",
      " - 77s - loss: 0.8583 - acc: 0.5981 - val_loss: 0.6347 - val_acc: 0.6534\n",
      "Epoch 27/50\n",
      " - 77s - loss: 0.6374 - acc: 0.6752 - val_loss: 0.6196 - val_acc: 0.6683\n",
      "Epoch 28/50\n",
      " - 77s - loss: 0.6306 - acc: 0.6701 - val_loss: 0.6179 - val_acc: 0.6718\n",
      "Epoch 29/50\n",
      " - 78s - loss: 0.6310 - acc: 0.6688 - val_loss: 0.6165 - val_acc: 0.6700\n",
      "Epoch 30/50\n",
      " - 78s - loss: 0.6286 - acc: 0.6749 - val_loss: 0.6134 - val_acc: 0.6712\n",
      "Epoch 31/50\n",
      " - 78s - loss: 0.6312 - acc: 0.6688 - val_loss: 0.6166 - val_acc: 0.6748\n",
      "Epoch 32/50\n",
      " - 77s - loss: 0.6239 - acc: 0.6765 - val_loss: 0.6157 - val_acc: 0.6730\n",
      "Epoch 33/50\n",
      " - 78s - loss: 0.6267 - acc: 0.6744 - val_loss: 0.6141 - val_acc: 0.6730\n",
      "Epoch 34/50\n",
      " - 71s - loss: 0.6265 - acc: 0.6731 - val_loss: 0.6094 - val_acc: 0.6766\n",
      "Epoch 35/50\n",
      " - 54s - loss: 0.6267 - acc: 0.6767 - val_loss: 0.6139 - val_acc: 0.6754\n",
      "Epoch 36/50\n",
      " - 55s - loss: 0.6264 - acc: 0.6772 - val_loss: 0.6122 - val_acc: 0.6790\n",
      "Epoch 37/50\n",
      " - 54s - loss: 0.6195 - acc: 0.6752 - val_loss: 0.6098 - val_acc: 0.6700\n",
      "Epoch 38/50\n",
      " - 54s - loss: 1.0024 - acc: 0.6027 - val_loss: 0.7837 - val_acc: 0.6200\n",
      "Epoch 39/50\n",
      " - 54s - loss: 0.7097 - acc: 0.6468 - val_loss: 0.6243 - val_acc: 0.6694\n",
      "Epoch 40/50\n",
      " - 55s - loss: 0.6436 - acc: 0.6637 - val_loss: 0.6209 - val_acc: 0.6706\n",
      "Epoch 41/50\n",
      " - 54s - loss: 0.6360 - acc: 0.6696 - val_loss: 0.6181 - val_acc: 0.6700\n",
      "Epoch 42/50\n",
      " - 55s - loss: 0.6288 - acc: 0.6660 - val_loss: 0.6143 - val_acc: 0.6718\n",
      "Epoch 43/50\n",
      " - 54s - loss: 0.6283 - acc: 0.6713 - val_loss: 0.6134 - val_acc: 0.6760\n",
      "Epoch 44/50\n",
      " - 55s - loss: 0.6233 - acc: 0.6688 - val_loss: 0.6121 - val_acc: 0.6760\n",
      "Epoch 45/50\n",
      " - 54s - loss: 0.6234 - acc: 0.6680 - val_loss: 0.6108 - val_acc: 0.6772\n",
      "Epoch 46/50\n",
      " - 55s - loss: 0.6213 - acc: 0.6685 - val_loss: 0.6100 - val_acc: 0.6802\n",
      "Epoch 47/50\n",
      " - 54s - loss: 0.6259 - acc: 0.6647 - val_loss: 0.6063 - val_acc: 0.6814\n",
      "Epoch 48/50\n",
      " - 54s - loss: 0.6210 - acc: 0.6665 - val_loss: 0.6062 - val_acc: 0.6802\n",
      "Epoch 49/50\n",
      " - 53s - loss: 0.6140 - acc: 0.6747 - val_loss: 0.6055 - val_acc: 0.6748\n",
      "Epoch 50/50\n",
      " - 54s - loss: 0.7345 - acc: 0.6530 - val_loss: 1.1365 - val_acc: 0.5003\n"
     ]
    }
   ],
   "source": [
    "history = model.fit(X_train, y_train, epochs=50, batch_size=500, validation_data=(X_test, y_test), verbose=2, shuffle=False)"
   ]
  },
  {
   "cell_type": "markdown",
   "metadata": {},
   "source": []
  }
 ],
 "metadata": {
  "kernelspec": {
   "display_name": "Python 3",
   "language": "python",
   "name": "python3"
  },
  "language_info": {
   "codemirror_mode": {
    "name": "ipython",
    "version": 3
   },
   "file_extension": ".py",
   "mimetype": "text/x-python",
   "name": "python",
   "nbconvert_exporter": "python",
   "pygments_lexer": "ipython3",
   "version": "3.6.8"
  }
 },
 "nbformat": 4,
 "nbformat_minor": 2
}
