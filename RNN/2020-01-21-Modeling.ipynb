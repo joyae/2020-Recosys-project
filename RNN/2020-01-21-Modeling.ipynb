{
 "cells": [
  {
   "cell_type": "code",
   "execution_count": 1,
   "metadata": {},
   "outputs": [],
   "source": [
    "#import os\n",
    "#os.environ['CUDA_VISIBLE_DEVICES'] = '-1'"
   ]
  },
  {
   "cell_type": "code",
   "execution_count": 2,
   "metadata": {
    "scrolled": true
   },
   "outputs": [
    {
     "name": "stderr",
     "output_type": "stream",
     "text": [
      "/usr/local/lib/python3.6/dist-packages/tensorflow/python/framework/dtypes.py:516: FutureWarning: Passing (type, 1) or '1type' as a synonym of type is deprecated; in a future version of numpy, it will be understood as (type, (1,)) / '(1,)type'.\n",
      "  _np_qint8 = np.dtype([(\"qint8\", np.int8, 1)])\n",
      "/usr/local/lib/python3.6/dist-packages/tensorflow/python/framework/dtypes.py:517: FutureWarning: Passing (type, 1) or '1type' as a synonym of type is deprecated; in a future version of numpy, it will be understood as (type, (1,)) / '(1,)type'.\n",
      "  _np_quint8 = np.dtype([(\"quint8\", np.uint8, 1)])\n",
      "/usr/local/lib/python3.6/dist-packages/tensorflow/python/framework/dtypes.py:518: FutureWarning: Passing (type, 1) or '1type' as a synonym of type is deprecated; in a future version of numpy, it will be understood as (type, (1,)) / '(1,)type'.\n",
      "  _np_qint16 = np.dtype([(\"qint16\", np.int16, 1)])\n",
      "/usr/local/lib/python3.6/dist-packages/tensorflow/python/framework/dtypes.py:519: FutureWarning: Passing (type, 1) or '1type' as a synonym of type is deprecated; in a future version of numpy, it will be understood as (type, (1,)) / '(1,)type'.\n",
      "  _np_quint16 = np.dtype([(\"quint16\", np.uint16, 1)])\n",
      "/usr/local/lib/python3.6/dist-packages/tensorflow/python/framework/dtypes.py:520: FutureWarning: Passing (type, 1) or '1type' as a synonym of type is deprecated; in a future version of numpy, it will be understood as (type, (1,)) / '(1,)type'.\n",
      "  _np_qint32 = np.dtype([(\"qint32\", np.int32, 1)])\n",
      "/usr/local/lib/python3.6/dist-packages/tensorflow/python/framework/dtypes.py:525: FutureWarning: Passing (type, 1) or '1type' as a synonym of type is deprecated; in a future version of numpy, it will be understood as (type, (1,)) / '(1,)type'.\n",
      "  np_resource = np.dtype([(\"resource\", np.ubyte, 1)])\n",
      "/usr/local/lib/python3.6/dist-packages/tensorboard/compat/tensorflow_stub/dtypes.py:541: FutureWarning: Passing (type, 1) or '1type' as a synonym of type is deprecated; in a future version of numpy, it will be understood as (type, (1,)) / '(1,)type'.\n",
      "  _np_qint8 = np.dtype([(\"qint8\", np.int8, 1)])\n",
      "/usr/local/lib/python3.6/dist-packages/tensorboard/compat/tensorflow_stub/dtypes.py:542: FutureWarning: Passing (type, 1) or '1type' as a synonym of type is deprecated; in a future version of numpy, it will be understood as (type, (1,)) / '(1,)type'.\n",
      "  _np_quint8 = np.dtype([(\"quint8\", np.uint8, 1)])\n",
      "/usr/local/lib/python3.6/dist-packages/tensorboard/compat/tensorflow_stub/dtypes.py:543: FutureWarning: Passing (type, 1) or '1type' as a synonym of type is deprecated; in a future version of numpy, it will be understood as (type, (1,)) / '(1,)type'.\n",
      "  _np_qint16 = np.dtype([(\"qint16\", np.int16, 1)])\n",
      "/usr/local/lib/python3.6/dist-packages/tensorboard/compat/tensorflow_stub/dtypes.py:544: FutureWarning: Passing (type, 1) or '1type' as a synonym of type is deprecated; in a future version of numpy, it will be understood as (type, (1,)) / '(1,)type'.\n",
      "  _np_quint16 = np.dtype([(\"quint16\", np.uint16, 1)])\n",
      "/usr/local/lib/python3.6/dist-packages/tensorboard/compat/tensorflow_stub/dtypes.py:545: FutureWarning: Passing (type, 1) or '1type' as a synonym of type is deprecated; in a future version of numpy, it will be understood as (type, (1,)) / '(1,)type'.\n",
      "  _np_qint32 = np.dtype([(\"qint32\", np.int32, 1)])\n",
      "/usr/local/lib/python3.6/dist-packages/tensorboard/compat/tensorflow_stub/dtypes.py:550: FutureWarning: Passing (type, 1) or '1type' as a synonym of type is deprecated; in a future version of numpy, it will be understood as (type, (1,)) / '(1,)type'.\n",
      "  np_resource = np.dtype([(\"resource\", np.ubyte, 1)])\n",
      "Using TensorFlow backend.\n",
      "/usr/local/lib/python3.6/dist-packages/sklearn/utils/deprecation.py:144: FutureWarning: The sklearn.metrics.scorer module is  deprecated in version 0.22 and will be removed in version 0.24. The corresponding classes / functions should instead be imported from sklearn.metrics. Anything that cannot be imported from sklearn.metrics is now part of the private API.\n",
      "  warnings.warn(message, FutureWarning)\n",
      "/usr/local/lib/python3.6/dist-packages/sklearn/utils/deprecation.py:144: FutureWarning: The sklearn.feature_selection.base module is  deprecated in version 0.22 and will be removed in version 0.24. The corresponding classes / functions should instead be imported from sklearn.feature_selection. Anything that cannot be imported from sklearn.feature_selection is now part of the private API.\n",
      "  warnings.warn(message, FutureWarning)\n"
     ]
    }
   ],
   "source": [
    "import pandas as pd\n",
    "import tensorflow as tf\n",
    "from sklearn.preprocessing import LabelEncoder\n",
    "import datetime\n",
    "import numpy as np\n",
    "from keras.models import Sequential\n",
    "from keras.layers import Dense\n",
    "from keras.layers import LSTM\n",
    "from keras.optimizers import RMSprop\n",
    "from sklearn.model_selection import train_test_split\n",
    "from keras.preprocessing import sequence\n",
    "from matplotlib import pyplot as plt\n",
    "from keras.layers.embeddings import Embedding\n",
    "from keras.layers import Dropout\n",
    "from keras.layers import Masking\n",
    "from tqdm import tqdm_notebook\n",
    "from imblearn.over_sampling import SMOTE, ADASYN\n",
    "from imblearn.over_sampling import RandomOverSampler\n",
    "from keras.utils import to_categorical\n",
    "from eli5.sklearn import PermutationImportance"
   ]
  },
  {
   "cell_type": "code",
   "execution_count": 3,
   "metadata": {},
   "outputs": [
    {
     "name": "stdout",
     "output_type": "stream",
     "text": [
      "[name: \"/device:CPU:0\"\n",
      "device_type: \"CPU\"\n",
      "memory_limit: 268435456\n",
      "locality {\n",
      "}\n",
      "incarnation: 673194290245745449\n",
      ", name: \"/device:XLA_GPU:0\"\n",
      "device_type: \"XLA_GPU\"\n",
      "memory_limit: 17179869184\n",
      "locality {\n",
      "}\n",
      "incarnation: 6700998385222685573\n",
      "physical_device_desc: \"device: XLA_GPU device\"\n",
      ", name: \"/device:XLA_CPU:0\"\n",
      "device_type: \"XLA_CPU\"\n",
      "memory_limit: 17179869184\n",
      "locality {\n",
      "}\n",
      "incarnation: 6685550442572346285\n",
      "physical_device_desc: \"device: XLA_CPU device\"\n",
      ", name: \"/device:GPU:0\"\n",
      "device_type: \"GPU\"\n",
      "memory_limit: 5811535872\n",
      "locality {\n",
      "  bus_id: 1\n",
      "  links {\n",
      "  }\n",
      "}\n",
      "incarnation: 7956821867374047407\n",
      "physical_device_desc: \"device: 0, name: GeForce RTX 2060, pci bus id: 0000:65:00.0, compute capability: 7.5\"\n",
      "]\n"
     ]
    }
   ],
   "source": [
    "from tensorflow.python.client import device_lib\n",
    "\n",
    "print(device_lib.list_local_devices())"
   ]
  },
  {
   "cell_type": "code",
   "execution_count": 4,
   "metadata": {},
   "outputs": [
    {
     "data": {
      "text/plain": [
       "['/job:localhost/replica:0/task:0/device:GPU:0']"
      ]
     },
     "execution_count": 4,
     "metadata": {},
     "output_type": "execute_result"
    }
   ],
   "source": [
    "from keras import backend as K\n",
    "\n",
    "K.tensorflow_backend._get_available_gpus()"
   ]
  },
  {
   "cell_type": "markdown",
   "metadata": {},
   "source": [
    "### data 불러오기"
   ]
  },
  {
   "cell_type": "code",
   "execution_count": 5,
   "metadata": {},
   "outputs": [],
   "source": [
    "Y_가전제품 = pd.read_csv('Y_가전제품.csv')\n",
    "Y_화장품 = pd.read_csv('Y_화장품.csv')\n",
    "Y_패션 = pd.read_csv('Y_패션.csv')"
   ]
  },
  {
   "cell_type": "code",
   "execution_count": 6,
   "metadata": {},
   "outputs": [],
   "source": [
    "Y_가전제품= Y_가전제품['가전제품구매']\n",
    "Y_화장품= Y_화장품['화장품구매']\n",
    "Y_패션= Y_패션['패션구매']"
   ]
  },
  {
   "cell_type": "code",
   "execution_count": 7,
   "metadata": {},
   "outputs": [],
   "source": [
    "X_가전제품 = pd.read_csv('가전제품_3d_array.csv')\n",
    "X_화장품 = pd.read_csv('화장품_3d_array.csv')\n",
    "X_패션 = pd.read_csv('패션_3d_array.csv')"
   ]
  },
  {
   "cell_type": "code",
   "execution_count": 8,
   "metadata": {},
   "outputs": [
    {
     "data": {
      "text/html": [
       "<div>\n",
       "<style scoped>\n",
       "    .dataframe tbody tr th:only-of-type {\n",
       "        vertical-align: middle;\n",
       "    }\n",
       "\n",
       "    .dataframe tbody tr th {\n",
       "        vertical-align: top;\n",
       "    }\n",
       "\n",
       "    .dataframe thead th {\n",
       "        text-align: right;\n",
       "    }\n",
       "</style>\n",
       "<table border=\"1\" class=\"dataframe\">\n",
       "  <thead>\n",
       "    <tr style=\"text-align: right;\">\n",
       "      <th></th>\n",
       "      <th>0</th>\n",
       "      <th>1</th>\n",
       "      <th>2</th>\n",
       "      <th>3</th>\n",
       "      <th>4</th>\n",
       "      <th>5</th>\n",
       "      <th>6</th>\n",
       "      <th>7</th>\n",
       "      <th>8</th>\n",
       "      <th>9</th>\n",
       "      <th>...</th>\n",
       "      <th>94990</th>\n",
       "      <th>94991</th>\n",
       "      <th>94992</th>\n",
       "      <th>94993</th>\n",
       "      <th>94994</th>\n",
       "      <th>94995</th>\n",
       "      <th>94996</th>\n",
       "      <th>94997</th>\n",
       "      <th>94998</th>\n",
       "      <th>94999</th>\n",
       "    </tr>\n",
       "  </thead>\n",
       "  <tbody>\n",
       "    <tr>\n",
       "      <th>0</th>\n",
       "      <td>1754</td>\n",
       "      <td>29010</td>\n",
       "      <td>0</td>\n",
       "      <td>0</td>\n",
       "      <td>0</td>\n",
       "      <td>0</td>\n",
       "      <td>1</td>\n",
       "      <td>0</td>\n",
       "      <td>0</td>\n",
       "      <td>0</td>\n",
       "      <td>...</td>\n",
       "      <td>0</td>\n",
       "      <td>0</td>\n",
       "      <td>0</td>\n",
       "      <td>0</td>\n",
       "      <td>0</td>\n",
       "      <td>0</td>\n",
       "      <td>0</td>\n",
       "      <td>0</td>\n",
       "      <td>1</td>\n",
       "      <td>0</td>\n",
       "    </tr>\n",
       "    <tr>\n",
       "      <th>1</th>\n",
       "      <td>308</td>\n",
       "      <td>10185</td>\n",
       "      <td>0</td>\n",
       "      <td>0</td>\n",
       "      <td>0</td>\n",
       "      <td>0</td>\n",
       "      <td>1</td>\n",
       "      <td>0</td>\n",
       "      <td>0</td>\n",
       "      <td>0</td>\n",
       "      <td>...</td>\n",
       "      <td>0</td>\n",
       "      <td>0</td>\n",
       "      <td>0</td>\n",
       "      <td>0</td>\n",
       "      <td>0</td>\n",
       "      <td>0</td>\n",
       "      <td>0</td>\n",
       "      <td>0</td>\n",
       "      <td>1</td>\n",
       "      <td>0</td>\n",
       "    </tr>\n",
       "    <tr>\n",
       "      <th>2</th>\n",
       "      <td>24</td>\n",
       "      <td>314</td>\n",
       "      <td>0</td>\n",
       "      <td>0</td>\n",
       "      <td>0</td>\n",
       "      <td>0</td>\n",
       "      <td>0</td>\n",
       "      <td>0</td>\n",
       "      <td>0</td>\n",
       "      <td>0</td>\n",
       "      <td>...</td>\n",
       "      <td>0</td>\n",
       "      <td>0</td>\n",
       "      <td>0</td>\n",
       "      <td>0</td>\n",
       "      <td>0</td>\n",
       "      <td>0</td>\n",
       "      <td>0</td>\n",
       "      <td>0</td>\n",
       "      <td>1</td>\n",
       "      <td>0</td>\n",
       "    </tr>\n",
       "    <tr>\n",
       "      <th>3</th>\n",
       "      <td>1302</td>\n",
       "      <td>29956</td>\n",
       "      <td>0</td>\n",
       "      <td>0</td>\n",
       "      <td>0</td>\n",
       "      <td>0</td>\n",
       "      <td>0</td>\n",
       "      <td>0</td>\n",
       "      <td>0</td>\n",
       "      <td>1</td>\n",
       "      <td>...</td>\n",
       "      <td>0</td>\n",
       "      <td>0</td>\n",
       "      <td>0</td>\n",
       "      <td>0</td>\n",
       "      <td>0</td>\n",
       "      <td>0</td>\n",
       "      <td>1</td>\n",
       "      <td>0</td>\n",
       "      <td>0</td>\n",
       "      <td>0</td>\n",
       "    </tr>\n",
       "    <tr>\n",
       "      <th>4</th>\n",
       "      <td>1361</td>\n",
       "      <td>7985</td>\n",
       "      <td>0</td>\n",
       "      <td>0</td>\n",
       "      <td>0</td>\n",
       "      <td>0</td>\n",
       "      <td>0</td>\n",
       "      <td>0</td>\n",
       "      <td>0</td>\n",
       "      <td>1</td>\n",
       "      <td>...</td>\n",
       "      <td>0</td>\n",
       "      <td>0</td>\n",
       "      <td>0</td>\n",
       "      <td>0</td>\n",
       "      <td>0</td>\n",
       "      <td>0</td>\n",
       "      <td>0</td>\n",
       "      <td>0</td>\n",
       "      <td>1</td>\n",
       "      <td>0</td>\n",
       "    </tr>\n",
       "  </tbody>\n",
       "</table>\n",
       "<p>5 rows × 95000 columns</p>\n",
       "</div>"
      ],
      "text/plain": [
       "      0      1  2  3  4  5  6  7  8  9  ...  94990  94991  94992  94993  \\\n",
       "0  1754  29010  0  0  0  0  1  0  0  0  ...      0      0      0      0   \n",
       "1   308  10185  0  0  0  0  1  0  0  0  ...      0      0      0      0   \n",
       "2    24    314  0  0  0  0  0  0  0  0  ...      0      0      0      0   \n",
       "3  1302  29956  0  0  0  0  0  0  0  1  ...      0      0      0      0   \n",
       "4  1361   7985  0  0  0  0  0  0  0  1  ...      0      0      0      0   \n",
       "\n",
       "   94994  94995  94996  94997  94998  94999  \n",
       "0      0      0      0      0      1      0  \n",
       "1      0      0      0      0      1      0  \n",
       "2      0      0      0      0      1      0  \n",
       "3      0      0      1      0      0      0  \n",
       "4      0      0      0      0      1      0  \n",
       "\n",
       "[5 rows x 95000 columns]"
      ]
     },
     "execution_count": 8,
     "metadata": {},
     "output_type": "execute_result"
    }
   ],
   "source": [
    "X_가전제품.head()"
   ]
  },
  {
   "cell_type": "code",
   "execution_count": 9,
   "metadata": {},
   "outputs": [],
   "source": [
    "X_가전제품 = np.asarray(X_가전제품)\n",
    "X_화장품 = np.asarray(X_화장품)\n",
    "X_패션 = np.asarray(X_패션)"
   ]
  },
  {
   "cell_type": "markdown",
   "metadata": {},
   "source": [
    "### Oversampling"
   ]
  },
  {
   "cell_type": "code",
   "execution_count": 10,
   "metadata": {},
   "outputs": [
    {
     "data": {
      "text/plain": [
       "(1063, 95000)"
      ]
     },
     "execution_count": 10,
     "metadata": {},
     "output_type": "execute_result"
    }
   ],
   "source": [
    "X_가전제품.shape"
   ]
  },
  {
   "cell_type": "code",
   "execution_count": 11,
   "metadata": {},
   "outputs": [],
   "source": [
    "smote = SMOTE()"
   ]
  },
  {
   "cell_type": "code",
   "execution_count": 12,
   "metadata": {},
   "outputs": [],
   "source": [
    "#5000일때 자꾸 커널이 죽음\n",
    "def oversample(X, Y):\n",
    "    max_len = 5000\n",
    "    X_resampled, Y_resampled = smote.fit_resample(X, Y)\n",
    "    X_resampled = X_resampled.reshape(X_resampled.shape[0], max_len, int(X_resampled.shape[1]/max_len))\n",
    "    return X_resampled, Y_resampled"
   ]
  },
  {
   "cell_type": "code",
   "execution_count": 13,
   "metadata": {},
   "outputs": [],
   "source": [
    "X_가전제품_resampled, Y_가전제품_resampled =oversample(X_가전제품, Y_가전제품)\n",
    "X_패션_resampled, Y_패션_resampled = oversample(X_패션, Y_패션)\n",
    "X_화장품_resampled, Y_화장품_resampled = oversample(X_화장품, Y_화장품)"
   ]
  },
  {
   "cell_type": "markdown",
   "metadata": {},
   "source": [
    "### LSTM 가동"
   ]
  },
  {
   "cell_type": "code",
   "execution_count": 14,
   "metadata": {},
   "outputs": [],
   "source": [
    "from keras import backend as K\n",
    "\n",
    "def recall_m(y_true, y_pred):\n",
    "        true_positives = K.sum(K.round(K.clip(y_true * y_pred, 0, 1)))\n",
    "        possible_positives = K.sum(K.round(K.clip(y_true, 0, 1)))\n",
    "        recall = true_positives / (possible_positives + K.epsilon())\n",
    "        return recall\n",
    "\n",
    "def precision_m(y_true, y_pred):\n",
    "        true_positives = K.sum(K.round(K.clip(y_true * y_pred, 0, 1)))\n",
    "        predicted_positives = K.sum(K.round(K.clip(y_pred, 0, 1)))\n",
    "        precision = true_positives / (predicted_positives + K.epsilon())\n",
    "        return precision\n",
    "\n",
    "def f1_m(y_true, y_pred):\n",
    "    precision = precision_m(y_true, y_pred)\n",
    "    recall = recall_m(y_true, y_pred)\n",
    "    return 2*((precision*recall)/(precision+recall+K.epsilon()))"
   ]
  },
  {
   "cell_type": "markdown",
   "metadata": {},
   "source": [
    "#### 패션"
   ]
  },
  {
   "cell_type": "code",
   "execution_count": 15,
   "metadata": {},
   "outputs": [],
   "source": [
    "X_train, X_test, y_train, y_test = train_test_split(\n",
    "X_패션_resampled, Y_패션_resampled, test_size=0.3, random_state=42)"
   ]
  },
  {
   "cell_type": "code",
   "execution_count": 16,
   "metadata": {},
   "outputs": [],
   "source": [
    "y_train = to_categorical(y_train)\n",
    "y_test = to_categorical(y_test)"
   ]
  },
  {
   "cell_type": "code",
   "execution_count": 17,
   "metadata": {},
   "outputs": [
    {
     "data": {
      "text/plain": [
       "(1606, 5000, 19)"
      ]
     },
     "execution_count": 17,
     "metadata": {},
     "output_type": "execute_result"
    }
   ],
   "source": [
    "X_train.shape"
   ]
  },
  {
   "cell_type": "code",
   "execution_count": 18,
   "metadata": {},
   "outputs": [
    {
     "name": "stderr",
     "output_type": "stream",
     "text": [
      "WARNING: Logging before flag parsing goes to stderr.\n",
      "W0120 15:56:23.525620 140037974812480 deprecation.py:323] From /usr/local/lib/python3.6/dist-packages/tensorflow/python/keras/backend.py:3794: add_dispatch_support.<locals>.wrapper (from tensorflow.python.ops.array_ops) is deprecated and will be removed in a future version.\n",
      "Instructions for updating:\n",
      "Use tf.where in 2.0, which has the same broadcast rule as np.where\n"
     ]
    },
    {
     "name": "stdout",
     "output_type": "stream",
     "text": [
      "Model: \"sequential_1\"\n",
      "_________________________________________________________________\n",
      "Layer (type)                 Output Shape              Param #   \n",
      "=================================================================\n",
      "masking_1 (Masking)          (None, 5000, 19)          0         \n",
      "_________________________________________________________________\n",
      "lstm_1 (LSTM)                (None, 64)                21504     \n",
      "_________________________________________________________________\n",
      "dense_1 (Dense)              (None, 32)                2080      \n",
      "_________________________________________________________________\n",
      "dense_2 (Dense)              (None, 16)                528       \n",
      "_________________________________________________________________\n",
      "dense_3 (Dense)              (None, 3)                 51        \n",
      "=================================================================\n",
      "Total params: 24,163\n",
      "Trainable params: 24,163\n",
      "Non-trainable params: 0\n",
      "_________________________________________________________________\n",
      "None\n"
     ]
    }
   ],
   "source": [
    "#masking layer 추가(https://stackoverflow.com/questions/49670832/keras-lstm-with-masking-layer-for-variable-length-inputs)\n",
    "model = Sequential()\n",
    "model.add(Masking(mask_value=0., input_shape=(X_train.shape[1], X_train.shape[2])))\n",
    "model.add(LSTM(64,input_shape = (X_train.shape[1], X_train.shape[2])))\n",
    "model.add(Dense(32, activation= 'relu'))\n",
    "#model.add(Dropout(0.2))\n",
    "model.add(Dense(16, activation= 'relu'))\n",
    "model.add(Dense(3, activation='sigmoid'))\n",
    "model.compile(loss='categorical_crossentropy', optimizer=RMSprop(lr= 0.001, rho = 0.9), metrics=['acc'])\n",
    "print(model.summary())"
   ]
  },
  {
   "cell_type": "code",
   "execution_count": 19,
   "metadata": {},
   "outputs": [
    {
     "name": "stderr",
     "output_type": "stream",
     "text": [
      "W0120 15:56:25.005447 140037974812480 deprecation_wrapper.py:119] From /usr/local/lib/python3.6/dist-packages/keras/backend/tensorflow_backend.py:422: The name tf.global_variables is deprecated. Please use tf.compat.v1.global_variables instead.\n",
      "\n"
     ]
    },
    {
     "name": "stdout",
     "output_type": "stream",
     "text": [
      "Train on 1606 samples, validate on 689 samples\n",
      "Epoch 1/30\n",
      " - 98s - loss: 1.0741 - acc: 0.4166 - val_loss: 1.0368 - val_acc: 0.5254\n",
      "Epoch 2/30\n",
      " - 98s - loss: 1.0148 - acc: 0.5430 - val_loss: 0.9806 - val_acc: 0.5544\n",
      "Epoch 3/30\n",
      " - 98s - loss: 0.9538 - acc: 0.5560 - val_loss: 0.9207 - val_acc: 0.5472\n",
      "Epoch 4/30\n",
      " - 98s - loss: 0.9106 - acc: 0.5585 - val_loss: 0.8915 - val_acc: 0.5443\n",
      "Epoch 5/30\n",
      " - 98s - loss: 0.8750 - acc: 0.5716 - val_loss: 0.8587 - val_acc: 0.5660\n",
      "Epoch 6/30\n",
      " - 98s - loss: 0.8497 - acc: 0.5909 - val_loss: 0.8367 - val_acc: 0.5951\n",
      "Epoch 7/30\n",
      " - 98s - loss: 0.8354 - acc: 0.5978 - val_loss: 0.8297 - val_acc: 0.5980\n",
      "Epoch 8/30\n",
      " - 98s - loss: 0.8230 - acc: 0.6052 - val_loss: 0.8188 - val_acc: 0.6154\n",
      "Epoch 9/30\n",
      " - 98s - loss: 0.8102 - acc: 0.6146 - val_loss: 0.8236 - val_acc: 0.6125\n",
      "Epoch 10/30\n",
      " - 98s - loss: 0.8047 - acc: 0.6096 - val_loss: 0.8084 - val_acc: 0.6168\n",
      "Epoch 11/30\n",
      " - 99s - loss: 0.7946 - acc: 0.6208 - val_loss: 0.8295 - val_acc: 0.6096\n",
      "Epoch 12/30\n",
      " - 98s - loss: 0.7881 - acc: 0.6245 - val_loss: 0.8515 - val_acc: 0.5994\n",
      "Epoch 13/30\n",
      " - 98s - loss: 0.7821 - acc: 0.6320 - val_loss: 0.8438 - val_acc: 0.5965\n",
      "Epoch 14/30\n",
      " - 98s - loss: 0.7743 - acc: 0.6370 - val_loss: 0.8467 - val_acc: 0.6067\n",
      "Epoch 15/30\n",
      " - 98s - loss: 0.7731 - acc: 0.6413 - val_loss: 0.8222 - val_acc: 0.6226\n",
      "Epoch 16/30\n",
      " - 97s - loss: 0.7635 - acc: 0.6451 - val_loss: 0.8207 - val_acc: 0.6168\n",
      "Epoch 17/30\n",
      " - 98s - loss: 0.7573 - acc: 0.6526 - val_loss: 0.8669 - val_acc: 0.6096\n",
      "Epoch 18/30\n",
      " - 98s - loss: 0.7572 - acc: 0.6432 - val_loss: 0.8165 - val_acc: 0.6096\n",
      "Epoch 19/30\n",
      " - 99s - loss: 0.7501 - acc: 0.6476 - val_loss: 0.8300 - val_acc: 0.6052\n",
      "Epoch 20/30\n",
      " - 98s - loss: 0.7486 - acc: 0.6494 - val_loss: 0.8211 - val_acc: 0.6096\n",
      "Epoch 21/30\n",
      " - 99s - loss: 0.7407 - acc: 0.6563 - val_loss: 0.8929 - val_acc: 0.5878\n",
      "Epoch 22/30\n",
      " - 99s - loss: 0.7387 - acc: 0.6526 - val_loss: 0.8048 - val_acc: 0.6183\n",
      "Epoch 23/30\n",
      " - 99s - loss: 0.7292 - acc: 0.6625 - val_loss: 0.8294 - val_acc: 0.6067\n",
      "Epoch 24/30\n",
      " - 98s - loss: 0.7304 - acc: 0.6594 - val_loss: 0.8214 - val_acc: 0.6067\n",
      "Epoch 25/30\n",
      " - 98s - loss: 0.7359 - acc: 0.6445 - val_loss: 0.8169 - val_acc: 0.6038\n",
      "Epoch 26/30\n",
      " - 98s - loss: 0.7225 - acc: 0.6700 - val_loss: 0.8033 - val_acc: 0.6154\n",
      "Epoch 27/30\n",
      " - 98s - loss: 0.7201 - acc: 0.6712 - val_loss: 0.8136 - val_acc: 0.6197\n",
      "Epoch 28/30\n",
      " - 98s - loss: 0.7085 - acc: 0.6812 - val_loss: 0.8051 - val_acc: 0.6197\n",
      "Epoch 29/30\n",
      " - 99s - loss: 0.7097 - acc: 0.6663 - val_loss: 0.8061 - val_acc: 0.6139\n",
      "Epoch 30/30\n",
      " - 98s - loss: 0.6966 - acc: 0.6756 - val_loss: 0.8176 - val_acc: 0.6154\n"
     ]
    }
   ],
   "source": [
    "history = model.fit(X_train, y_train, epochs=30, batch_size=100, validation_data=(X_test, y_test), verbose=2, shuffle=False)"
   ]
  },
  {
   "cell_type": "code",
   "execution_count": 20,
   "metadata": {},
   "outputs": [],
   "source": [
    "#perm = PermutationImportance(model, random_state=1).fit(X_test,y_test)\n",
    "#eli5.show_weights(perm, feature_names = X_test.columns.tolist())"
   ]
  },
  {
   "cell_type": "code",
   "execution_count": 21,
   "metadata": {},
   "outputs": [],
   "source": [
    "loss, accuracy = model.evaluate(X_test, y_test, verbose=0)"
   ]
  },
  {
   "cell_type": "code",
   "execution_count": 22,
   "metadata": {},
   "outputs": [
    {
     "name": "stdout",
     "output_type": "stream",
     "text": [
      "0.6153846383094788\n"
     ]
    }
   ],
   "source": [
    "#가전제품 f1-score: 0.7819220343082984\n",
    "#패션 accuracy: 0.7188029361269287\n",
    "\n",
    "print(accuracy)"
   ]
  },
  {
   "cell_type": "markdown",
   "metadata": {},
   "source": [
    "#### 가전제품"
   ]
  },
  {
   "cell_type": "code",
   "execution_count": 23,
   "metadata": {},
   "outputs": [],
   "source": [
    "X_train, X_test, y_train, y_test = train_test_split(\n",
    "X_가전제품_resampled, Y_가전제품_resampled, test_size=0.3, random_state=42)\n",
    "y_train = to_categorical(y_train)\n",
    "y_test = to_categorical(y_test)"
   ]
  },
  {
   "cell_type": "code",
   "execution_count": 24,
   "metadata": {},
   "outputs": [
    {
     "name": "stdout",
     "output_type": "stream",
     "text": [
      "Model: \"sequential_2\"\n",
      "_________________________________________________________________\n",
      "Layer (type)                 Output Shape              Param #   \n",
      "=================================================================\n",
      "masking_2 (Masking)          (None, 5000, 19)          0         \n",
      "_________________________________________________________________\n",
      "lstm_2 (LSTM)                (None, 64)                21504     \n",
      "_________________________________________________________________\n",
      "dense_4 (Dense)              (None, 32)                2080      \n",
      "_________________________________________________________________\n",
      "dense_5 (Dense)              (None, 16)                528       \n",
      "_________________________________________________________________\n",
      "dense_6 (Dense)              (None, 3)                 51        \n",
      "=================================================================\n",
      "Total params: 24,163\n",
      "Trainable params: 24,163\n",
      "Non-trainable params: 0\n",
      "_________________________________________________________________\n",
      "None\n"
     ]
    }
   ],
   "source": [
    "#masking layer 추가(https://stackoverflow.com/questions/49670832/keras-lstm-with-masking-layer-for-variable-length-inputs)\n",
    "model = Sequential()\n",
    "model.add(Masking(mask_value=0., input_shape=(X_train.shape[1], X_train.shape[2])))\n",
    "model.add(LSTM(64,input_shape = (X_train.shape[1], X_train.shape[2])))\n",
    "model.add(Dense(32, activation= 'relu'))\n",
    "#model.add(Dropout(0.2))\n",
    "model.add(Dense(16, activation= 'relu'))\n",
    "model.add(Dense(3, activation='sigmoid'))\n",
    "model.compile(loss='categorical_crossentropy', optimizer=RMSprop(lr= 0.001, rho = 0.9), metrics=['acc'])\n",
    "print(model.summary())"
   ]
  },
  {
   "cell_type": "code",
   "execution_count": 25,
   "metadata": {},
   "outputs": [
    {
     "name": "stdout",
     "output_type": "stream",
     "text": [
      "Train on 1946 samples, validate on 835 samples\n",
      "Epoch 1/30\n",
      " - 30s - loss: 1.0938 - acc: 0.3510 - val_loss: 1.0553 - val_acc: 0.4311\n",
      "Epoch 2/30\n",
      " - 29s - loss: 1.0380 - acc: 0.4959 - val_loss: 1.0181 - val_acc: 0.5102\n",
      "Epoch 3/30\n",
      " - 28s - loss: 0.9959 - acc: 0.5591 - val_loss: 0.9789 - val_acc: 0.5269\n",
      "Epoch 4/30\n",
      " - 29s - loss: 0.9479 - acc: 0.5910 - val_loss: 0.9385 - val_acc: 0.5353\n",
      "Epoch 5/30\n",
      " - 29s - loss: 0.8881 - acc: 0.6048 - val_loss: 0.8840 - val_acc: 0.5653\n",
      "Epoch 6/30\n",
      " - 29s - loss: 0.8390 - acc: 0.6238 - val_loss: 0.8510 - val_acc: 0.5713\n",
      "Epoch 7/30\n",
      " - 29s - loss: 0.8076 - acc: 0.6429 - val_loss: 0.8196 - val_acc: 0.5988\n",
      "Epoch 8/30\n",
      " - 29s - loss: 0.7747 - acc: 0.6588 - val_loss: 0.7935 - val_acc: 0.6132\n",
      "Epoch 9/30\n",
      " - 30s - loss: 0.7495 - acc: 0.6706 - val_loss: 0.7859 - val_acc: 0.6048\n",
      "Epoch 10/30\n",
      " - 29s - loss: 0.7486 - acc: 0.6511 - val_loss: 0.7672 - val_acc: 0.6144\n",
      "Epoch 11/30\n",
      " - 29s - loss: 0.7181 - acc: 0.6727 - val_loss: 0.7497 - val_acc: 0.6395\n",
      "Epoch 12/30\n",
      " - 29s - loss: 0.7020 - acc: 0.6906 - val_loss: 0.7332 - val_acc: 0.6599\n",
      "Epoch 13/30\n",
      " - 30s - loss: 0.6863 - acc: 0.6999 - val_loss: 0.7255 - val_acc: 0.6611\n",
      "Epoch 14/30\n",
      " - 29s - loss: 0.6986 - acc: 0.6937 - val_loss: 0.7417 - val_acc: 0.6335\n",
      "Epoch 15/30\n",
      " - 29s - loss: 0.6723 - acc: 0.7091 - val_loss: 0.7140 - val_acc: 0.6695\n",
      "Epoch 16/30\n",
      " - 29s - loss: 0.6578 - acc: 0.7261 - val_loss: 0.7043 - val_acc: 0.6886\n",
      "Epoch 17/30\n",
      " - 29s - loss: 0.6511 - acc: 0.7271 - val_loss: 0.7017 - val_acc: 0.6731\n",
      "Epoch 18/30\n",
      " - 29s - loss: 0.6595 - acc: 0.7240 - val_loss: 0.7183 - val_acc: 0.6766\n",
      "Epoch 19/30\n",
      " - 29s - loss: 0.6454 - acc: 0.7276 - val_loss: 0.6968 - val_acc: 0.7030\n",
      "Epoch 20/30\n",
      " - 29s - loss: 0.6468 - acc: 0.7189 - val_loss: 0.7146 - val_acc: 0.6874\n",
      "Epoch 21/30\n",
      " - 29s - loss: 0.6645 - acc: 0.7107 - val_loss: 0.6969 - val_acc: 0.7054\n",
      "Epoch 22/30\n",
      " - 29s - loss: 0.6168 - acc: 0.7384 - val_loss: 0.6905 - val_acc: 0.7018\n",
      "Epoch 23/30\n",
      " - 29s - loss: 0.6162 - acc: 0.7369 - val_loss: 0.6875 - val_acc: 0.7042\n",
      "Epoch 24/30\n",
      " - 29s - loss: 0.6144 - acc: 0.7400 - val_loss: 0.6880 - val_acc: 0.7006\n",
      "Epoch 25/30\n",
      " - 29s - loss: 0.6072 - acc: 0.7436 - val_loss: 0.6818 - val_acc: 0.7030\n",
      "Epoch 26/30\n",
      " - 29s - loss: 0.6014 - acc: 0.7456 - val_loss: 0.6792 - val_acc: 0.7102\n",
      "Epoch 27/30\n",
      " - 30s - loss: 0.6345 - acc: 0.7359 - val_loss: 0.6795 - val_acc: 0.7186\n",
      "Epoch 28/30\n",
      " - 29s - loss: 0.5982 - acc: 0.7508 - val_loss: 0.6754 - val_acc: 0.7257\n",
      "Epoch 29/30\n",
      " - 29s - loss: 0.5856 - acc: 0.7590 - val_loss: 0.6715 - val_acc: 0.7162\n",
      "Epoch 30/30\n",
      " - 29s - loss: 0.5781 - acc: 0.7590 - val_loss: 0.6700 - val_acc: 0.7198\n"
     ]
    }
   ],
   "source": [
    "history = model.fit(X_train, y_train, epochs=30, batch_size=500, validation_data=(X_test, y_test), verbose=2, shuffle=False)"
   ]
  },
  {
   "cell_type": "code",
   "execution_count": 26,
   "metadata": {},
   "outputs": [
    {
     "data": {
      "image/png": "[encoded data removed]",
      "text/plain": [
       "<Figure size 432x288 with 1 Axes>"
      ]
     },
     "metadata": {},
     "output_type": "display_data"
    }
   ],
   "source": [
    "# plot history\n",
    "plt.plot(history.history['loss'], label='train')\n",
    "plt.plot(history.history['val_loss'], label='test')\n",
    "plt.legend()                                       \n",
    "plt.show()                       "
   ]
  },
  {
   "cell_type": "code",
   "execution_count": 27,
   "metadata": {},
   "outputs": [],
   "source": [
    "loss, accuracy = model.evaluate(X_test, y_test, verbose=0)"
   ]
  },
  {
   "cell_type": "code",
   "execution_count": 28,
   "metadata": {},
   "outputs": [
    {
     "name": "stdout",
     "output_type": "stream",
     "text": [
      "0.7197604775428772\n"
     ]
    }
   ],
   "source": [
    "#가전제품 f1-score: 0.7819220343082984\n",
    "\n",
    "print(accuracy)"
   ]
  },
  {
   "cell_type": "markdown",
   "metadata": {},
   "source": [
    "#### 화장품"
   ]
  },
  {
   "cell_type": "code",
   "execution_count": 29,
   "metadata": {},
   "outputs": [],
   "source": [
    "X_train, X_test, y_train, y_test = train_test_split(\n",
    "X_화장품_resampled, Y_화장품_resampled, test_size=0.3, random_state=42)\n",
    "y_train = to_categorical(y_train)\n",
    "y_test = to_categorical(y_test)"
   ]
  },
  {
   "cell_type": "code",
   "execution_count": 30,
   "metadata": {},
   "outputs": [
    {
     "name": "stdout",
     "output_type": "stream",
     "text": [
      "Model: \"sequential_3\"\n",
      "_________________________________________________________________\n",
      "Layer (type)                 Output Shape              Param #   \n",
      "=================================================================\n",
      "masking_3 (Masking)          (None, 5000, 19)          0         \n",
      "_________________________________________________________________\n",
      "lstm_3 (LSTM)                (None, 64)                21504     \n",
      "_________________________________________________________________\n",
      "dense_7 (Dense)              (None, 32)                2080      \n",
      "_________________________________________________________________\n",
      "dropout_1 (Dropout)          (None, 32)                0         \n",
      "_________________________________________________________________\n",
      "dense_8 (Dense)              (None, 16)                528       \n",
      "_________________________________________________________________\n",
      "dense_9 (Dense)              (None, 3)                 51        \n",
      "=================================================================\n",
      "Total params: 24,163\n",
      "Trainable params: 24,163\n",
      "Non-trainable params: 0\n",
      "_________________________________________________________________\n",
      "None\n"
     ]
    }
   ],
   "source": [
    "#masking layer 추가(https://stackoverflow.com/questions/49670832/keras-lstm-with-masking-layer-for-variable-length-inputs)\n",
    "model = Sequential()\n",
    "model.add(Masking(mask_value=0., input_shape=(X_train.shape[1], X_train.shape[2])))\n",
    "model.add(LSTM(64,input_shape = (X_train.shape[1], X_train.shape[2])))\n",
    "model.add(Dense(32, activation= 'relu'))\n",
    "model.add(Dropout(0.2))\n",
    "model.add(Dense(16, activation= 'relu'))\n",
    "model.add(Dense(3, activation='sigmoid'))\n",
    "model.compile(loss='categorical_crossentropy', optimizer=RMSprop(lr= 0.001, rho = 0.9), metrics=['acc'])\n",
    "print(model.summary())"
   ]
  },
  {
   "cell_type": "code",
   "execution_count": 31,
   "metadata": {},
   "outputs": [
    {
     "name": "stdout",
     "output_type": "stream",
     "text": [
      "Train on 1732 samples, validate on 743 samples\n",
      "Epoch 1/50\n",
      " - 27s - loss: 1.1026 - acc: 0.3458 - val_loss: 1.0818 - val_acc: 0.4576\n",
      "Epoch 2/50\n",
      " - 27s - loss: 1.0733 - acc: 0.4353 - val_loss: 1.0429 - val_acc: 0.5316\n",
      "Epoch 3/50\n",
      " - 27s - loss: 1.0409 - acc: 0.4925 - val_loss: 1.0125 - val_acc: 0.5532\n",
      "Epoch 4/50\n",
      " - 27s - loss: 1.0158 - acc: 0.5300 - val_loss: 0.9910 - val_acc: 0.5505\n",
      "Epoch 5/50\n",
      " - 26s - loss: 0.9908 - acc: 0.5543 - val_loss: 0.9674 - val_acc: 0.5734\n",
      "Epoch 6/50\n",
      " - 27s - loss: 0.9755 - acc: 0.5554 - val_loss: 0.9484 - val_acc: 0.5774\n",
      "Epoch 7/50\n",
      " - 27s - loss: 0.9510 - acc: 0.5716 - val_loss: 0.9300 - val_acc: 0.5841\n",
      "Epoch 8/50\n",
      " - 27s - loss: 0.9399 - acc: 0.5779 - val_loss: 0.9183 - val_acc: 0.5908\n",
      "Epoch 9/50\n",
      " - 26s - loss: 0.9288 - acc: 0.5889 - val_loss: 0.8980 - val_acc: 0.5949\n",
      "Epoch 10/50\n",
      " - 27s - loss: 0.9128 - acc: 0.5930 - val_loss: 0.8819 - val_acc: 0.6137\n",
      "Epoch 11/50\n",
      " - 27s - loss: 0.8934 - acc: 0.5872 - val_loss: 0.8783 - val_acc: 0.6178\n",
      "Epoch 12/50\n",
      " - 27s - loss: 0.8926 - acc: 0.5872 - val_loss: 0.8616 - val_acc: 0.6151\n",
      "Epoch 13/50\n",
      " - 27s - loss: 0.8737 - acc: 0.6085 - val_loss: 0.8553 - val_acc: 0.6151\n",
      "Epoch 14/50\n",
      " - 26s - loss: 0.8659 - acc: 0.6033 - val_loss: 0.8454 - val_acc: 0.6501\n",
      "Epoch 15/50\n",
      " - 27s - loss: 0.8553 - acc: 0.6166 - val_loss: 0.8350 - val_acc: 0.6433\n",
      "Epoch 16/50\n",
      " - 27s - loss: 0.8412 - acc: 0.6103 - val_loss: 0.8296 - val_acc: 0.6474\n",
      "Epoch 17/50\n",
      " - 27s - loss: 0.8328 - acc: 0.6120 - val_loss: 0.8211 - val_acc: 0.6433\n",
      "Epoch 18/50\n",
      " - 27s - loss: 0.8291 - acc: 0.6143 - val_loss: 0.8179 - val_acc: 0.6487\n",
      "Epoch 19/50\n",
      " - 27s - loss: 0.8226 - acc: 0.6212 - val_loss: 0.8223 - val_acc: 0.6433\n",
      "Epoch 20/50\n",
      " - 26s - loss: 0.8209 - acc: 0.6184 - val_loss: 0.8079 - val_acc: 0.6447\n",
      "Epoch 21/50\n",
      " - 27s - loss: 0.8080 - acc: 0.6143 - val_loss: 0.8067 - val_acc: 0.6420\n",
      "Epoch 22/50\n",
      " - 27s - loss: 0.8017 - acc: 0.6270 - val_loss: 0.8140 - val_acc: 0.6406\n",
      "Epoch 23/50\n",
      " - 27s - loss: 0.8058 - acc: 0.6299 - val_loss: 0.7999 - val_acc: 0.6474\n",
      "Epoch 24/50\n",
      " - 27s - loss: 0.7990 - acc: 0.6236 - val_loss: 0.7990 - val_acc: 0.6514\n",
      "Epoch 25/50\n",
      " - 27s - loss: 0.7883 - acc: 0.6230 - val_loss: 0.8018 - val_acc: 0.6528\n",
      "Epoch 26/50\n",
      " - 27s - loss: 0.7831 - acc: 0.6276 - val_loss: 0.8211 - val_acc: 0.6447\n",
      "Epoch 27/50\n",
      " - 27s - loss: 0.7840 - acc: 0.6345 - val_loss: 0.8031 - val_acc: 0.6649\n",
      "Epoch 28/50\n",
      " - 27s - loss: 0.7833 - acc: 0.6363 - val_loss: 0.7921 - val_acc: 0.6703\n",
      "Epoch 29/50\n",
      " - 27s - loss: 0.7762 - acc: 0.6282 - val_loss: 0.7935 - val_acc: 0.6649\n",
      "Epoch 30/50\n",
      " - 27s - loss: 0.7671 - acc: 0.6403 - val_loss: 0.8617 - val_acc: 0.6231\n",
      "Epoch 31/50\n",
      " - 27s - loss: 0.7928 - acc: 0.6299 - val_loss: 0.7911 - val_acc: 0.6581\n",
      "Epoch 32/50\n",
      " - 27s - loss: 0.7601 - acc: 0.6461 - val_loss: 0.7921 - val_acc: 0.6635\n",
      "Epoch 33/50\n",
      " - 27s - loss: 0.7603 - acc: 0.6357 - val_loss: 0.7894 - val_acc: 0.6676\n",
      "Epoch 34/50\n",
      " - 27s - loss: 0.7550 - acc: 0.6495 - val_loss: 0.7891 - val_acc: 0.6649\n",
      "Epoch 35/50\n",
      " - 27s - loss: 0.7507 - acc: 0.6415 - val_loss: 0.7944 - val_acc: 0.6649\n",
      "Epoch 36/50\n",
      " - 27s - loss: 0.7476 - acc: 0.6524 - val_loss: 0.7924 - val_acc: 0.6622\n",
      "Epoch 37/50\n",
      " - 27s - loss: 0.7437 - acc: 0.6559 - val_loss: 0.7925 - val_acc: 0.6703\n",
      "Epoch 38/50\n",
      " - 27s - loss: 0.7595 - acc: 0.6420 - val_loss: 0.7901 - val_acc: 0.6662\n",
      "Epoch 39/50\n",
      " - 27s - loss: 0.7315 - acc: 0.6559 - val_loss: 0.7922 - val_acc: 0.6595\n",
      "Epoch 40/50\n",
      " - 27s - loss: 0.7479 - acc: 0.6397 - val_loss: 0.7931 - val_acc: 0.6743\n",
      "Epoch 41/50\n",
      " - 27s - loss: 0.7361 - acc: 0.6645 - val_loss: 0.7907 - val_acc: 0.6635\n",
      "Epoch 42/50\n",
      " - 27s - loss: 0.7228 - acc: 0.6669 - val_loss: 0.7872 - val_acc: 0.6608\n",
      "Epoch 43/50\n",
      " - 27s - loss: 0.7370 - acc: 0.6628 - val_loss: 0.7979 - val_acc: 0.6608\n",
      "Epoch 44/50\n",
      " - 27s - loss: 0.7417 - acc: 0.6484 - val_loss: 0.7988 - val_acc: 0.6568\n",
      "Epoch 45/50\n",
      " - 27s - loss: 0.7283 - acc: 0.6536 - val_loss: 0.7878 - val_acc: 0.6703\n",
      "Epoch 46/50\n",
      " - 27s - loss: 0.7122 - acc: 0.6749 - val_loss: 0.7891 - val_acc: 0.6581\n",
      "Epoch 47/50\n",
      " - 27s - loss: 0.7193 - acc: 0.6796 - val_loss: 0.8049 - val_acc: 0.6541\n",
      "Epoch 48/50\n",
      " - 27s - loss: 0.7572 - acc: 0.6455 - val_loss: 0.7949 - val_acc: 0.6676\n",
      "Epoch 49/50\n",
      " - 27s - loss: 0.7300 - acc: 0.6669 - val_loss: 0.7893 - val_acc: 0.6649\n",
      "Epoch 50/50\n",
      " - 27s - loss: 0.7086 - acc: 0.6749 - val_loss: 0.7908 - val_acc: 0.6649\n"
     ]
    }
   ],
   "source": [
    "history = model.fit(X_train, y_train, epochs=50, batch_size=500, validation_data=(X_test, y_test), verbose=2, shuffle=False)"
   ]
  },
  {
   "cell_type": "markdown",
   "metadata": {},
   "source": []
  }
 ],
 "metadata": {
  "kernelspec": {
   "display_name": "Python 3",
   "language": "python",
   "name": "python3"
  },
  "language_info": {
   "codemirror_mode": {
    "name": "ipython",
    "version": 3
   },
   "file_extension": ".py",
   "mimetype": "text/x-python",
   "name": "python",
   "nbconvert_exporter": "python",
   "pygments_lexer": "ipython3",
   "version": "3.6.8"
  }
 },
 "nbformat": 4,
 "nbformat_minor": 2
}
