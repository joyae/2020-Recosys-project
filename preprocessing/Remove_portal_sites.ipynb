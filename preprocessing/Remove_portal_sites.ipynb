{
 "cells": [
  {
   "cell_type": "code",
   "execution_count": 35,
   "metadata": {},
   "outputs": [],
   "source": [
    "import pandas as pd\n",
    "from tqdm import tqdm_notebook"
   ]
  },
  {
   "cell_type": "code",
   "execution_count": 36,
   "metadata": {},
   "outputs": [
    {
     "name": "stderr",
     "output_type": "stream",
     "text": [
      "/usr/lib/python3/dist-packages/IPython/core/interactiveshell.py:2718: DtypeWarning: Columns (2,6,7,8,9,10,11,12,13,14,15) have mixed types. Specify dtype option on import or set low_memory=False.\n",
      "  interactivity=interactivity, compiler=compiler, result=result)\n"
     ]
    }
   ],
   "source": [
    "data = pd.read_csv('PC_20140601_with_sessions.csv')"
   ]
  },
  {
   "cell_type": "code",
   "execution_count": 37,
   "metadata": {},
   "outputs": [],
   "source": [
    "#UID와 타임 기준 정렬\n",
    "data = data.sort_values(by = ['UID', 'Time'])"
   ]
  },
  {
   "cell_type": "code",
   "execution_count": 38,
   "metadata": {},
   "outputs": [
    {
     "data": {
      "text/html": [
       "<div>\n",
       "<style scoped>\n",
       "    .dataframe tbody tr th:only-of-type {\n",
       "        vertical-align: middle;\n",
       "    }\n",
       "\n",
       "    .dataframe tbody tr th {\n",
       "        vertical-align: top;\n",
       "    }\n",
       "\n",
       "    .dataframe thead th {\n",
       "        text-align: right;\n",
       "    }\n",
       "</style>\n",
       "<table border=\"1\" class=\"dataframe\">\n",
       "  <thead>\n",
       "    <tr style=\"text-align: right;\">\n",
       "      <th></th>\n",
       "      <th>UID</th>\n",
       "      <th>URL</th>\n",
       "      <th>Site</th>\n",
       "      <th>Domain</th>\n",
       "      <th>Time</th>\n",
       "      <th>Title</th>\n",
       "      <th>keyword_p</th>\n",
       "      <th>keyword_t</th>\n",
       "      <th>category_1</th>\n",
       "      <th>category_2</th>\n",
       "      <th>category_3</th>\n",
       "      <th>category_4</th>\n",
       "      <th>category_5</th>\n",
       "      <th>category_6</th>\n",
       "      <th>ownership_1</th>\n",
       "      <th>ownership_2</th>\n",
       "      <th>PC</th>\n",
       "      <th>session_id</th>\n",
       "    </tr>\n",
       "  </thead>\n",
       "  <tbody>\n",
       "    <tr>\n",
       "      <td>0</td>\n",
       "      <td>20120712210FAAE99B43</td>\n",
       "      <td>http://mw.cjmall.com/cjupload/cjmall/planshop/...</td>\n",
       "      <td>오트랜드</td>\n",
       "      <td>cjmall.com/</td>\n",
       "      <td>2014-06-01 14:07:26</td>\n",
       "      <td>CJmall</td>\n",
       "      <td>NaN</td>\n",
       "      <td>NaN</td>\n",
       "      <td>비즈니스/쇼핑</td>\n",
       "      <td>종합쇼핑몰</td>\n",
       "      <td>홈쇼핑</td>\n",
       "      <td>CJ오쇼핑</td>\n",
       "      <td>NaN</td>\n",
       "      <td>NaN</td>\n",
       "      <td>Retailer</td>\n",
       "      <td>홈쇼핑</td>\n",
       "      <td>0</td>\n",
       "      <td>0</td>\n",
       "    </tr>\n",
       "    <tr>\n",
       "      <td>1</td>\n",
       "      <td>20120712210FAAE99B43</td>\n",
       "      <td>http://page.uplus.co.kr/index.html?v=MjAxMzEwM...</td>\n",
       "      <td>LG유플러스</td>\n",
       "      <td>uplus.co.kr/</td>\n",
       "      <td>2014-06-01 14:25:31</td>\n",
       "      <td>U+Page</td>\n",
       "      <td>NaN</td>\n",
       "      <td>NaN</td>\n",
       "      <td>비즈니스/쇼핑</td>\n",
       "      <td>통신/네트워크</td>\n",
       "      <td>무선/이동통신</td>\n",
       "      <td>LG유플러스</td>\n",
       "      <td>NaN</td>\n",
       "      <td>NaN</td>\n",
       "      <td>Maker</td>\n",
       "      <td>무선/이동통신</td>\n",
       "      <td>0</td>\n",
       "      <td>1</td>\n",
       "    </tr>\n",
       "    <tr>\n",
       "      <td>2</td>\n",
       "      <td>20120712210FAAE99B43</td>\n",
       "      <td>http://page.uplus.co.kr/</td>\n",
       "      <td>U+Page 모바일</td>\n",
       "      <td>uplus.co.kr/</td>\n",
       "      <td>2014-06-01 14:25:34</td>\n",
       "      <td>http://page.uplus.co.kr/</td>\n",
       "      <td>NaN</td>\n",
       "      <td>NaN</td>\n",
       "      <td>비즈니스/쇼핑</td>\n",
       "      <td>통신/네트워크</td>\n",
       "      <td>무선/이동통신</td>\n",
       "      <td>LG유플러스</td>\n",
       "      <td>NaN</td>\n",
       "      <td>NaN</td>\n",
       "      <td>Maker</td>\n",
       "      <td>무선/이동통신</td>\n",
       "      <td>0</td>\n",
       "      <td>1</td>\n",
       "    </tr>\n",
       "    <tr>\n",
       "      <td>3</td>\n",
       "      <td>20120712210FAAE99B43</td>\n",
       "      <td>http://page.uplus.co.kr/index.html?v=MjAxMzEwM...</td>\n",
       "      <td>LG유플러스</td>\n",
       "      <td>uplus.co.kr/</td>\n",
       "      <td>2014-06-01 14:25:40</td>\n",
       "      <td>U+Page</td>\n",
       "      <td>NaN</td>\n",
       "      <td>NaN</td>\n",
       "      <td>비즈니스/쇼핑</td>\n",
       "      <td>통신/네트워크</td>\n",
       "      <td>무선/이동통신</td>\n",
       "      <td>LG유플러스</td>\n",
       "      <td>NaN</td>\n",
       "      <td>NaN</td>\n",
       "      <td>Maker</td>\n",
       "      <td>무선/이동통신</td>\n",
       "      <td>0</td>\n",
       "      <td>1</td>\n",
       "    </tr>\n",
       "    <tr>\n",
       "      <td>4</td>\n",
       "      <td>20120712210FAAE99B43</td>\n",
       "      <td>http://m.naver.com/</td>\n",
       "      <td>네이버 모바일</td>\n",
       "      <td>naver.com/</td>\n",
       "      <td>2014-06-01 14:25:46</td>\n",
       "      <td>NAVER</td>\n",
       "      <td>NaN</td>\n",
       "      <td>NaN</td>\n",
       "      <td>컴퓨터/인터넷</td>\n",
       "      <td>인터넷</td>\n",
       "      <td>포털</td>\n",
       "      <td>네이버</td>\n",
       "      <td>NaN</td>\n",
       "      <td>NaN</td>\n",
       "      <td>Portal</td>\n",
       "      <td>네이버</td>\n",
       "      <td>0</td>\n",
       "      <td>1</td>\n",
       "    </tr>\n",
       "  </tbody>\n",
       "</table>\n",
       "</div>"
      ],
      "text/plain": [
       "                    UID                                                URL  \\\n",
       "0  20120712210FAAE99B43  http://mw.cjmall.com/cjupload/cjmall/planshop/...   \n",
       "1  20120712210FAAE99B43  http://page.uplus.co.kr/index.html?v=MjAxMzEwM...   \n",
       "2  20120712210FAAE99B43                           http://page.uplus.co.kr/   \n",
       "3  20120712210FAAE99B43  http://page.uplus.co.kr/index.html?v=MjAxMzEwM...   \n",
       "4  20120712210FAAE99B43                                http://m.naver.com/   \n",
       "\n",
       "         Site        Domain                 Time                     Title  \\\n",
       "0        오트랜드   cjmall.com/  2014-06-01 14:07:26                    CJmall   \n",
       "1      LG유플러스  uplus.co.kr/  2014-06-01 14:25:31                    U+Page   \n",
       "2  U+Page 모바일  uplus.co.kr/  2014-06-01 14:25:34  http://page.uplus.co.kr/   \n",
       "3      LG유플러스  uplus.co.kr/  2014-06-01 14:25:40                    U+Page   \n",
       "4     네이버 모바일    naver.com/  2014-06-01 14:25:46                     NAVER   \n",
       "\n",
       "  keyword_p keyword_t category_1 category_2 category_3 category_4 category_5  \\\n",
       "0       NaN       NaN    비즈니스/쇼핑      종합쇼핑몰        홈쇼핑      CJ오쇼핑        NaN   \n",
       "1       NaN       NaN    비즈니스/쇼핑    통신/네트워크    무선/이동통신     LG유플러스        NaN   \n",
       "2       NaN       NaN    비즈니스/쇼핑    통신/네트워크    무선/이동통신     LG유플러스        NaN   \n",
       "3       NaN       NaN    비즈니스/쇼핑    통신/네트워크    무선/이동통신     LG유플러스        NaN   \n",
       "4       NaN       NaN    컴퓨터/인터넷        인터넷         포털        네이버        NaN   \n",
       "\n",
       "  category_6 ownership_1 ownership_2  PC  session_id  \n",
       "0        NaN    Retailer         홈쇼핑   0           0  \n",
       "1        NaN       Maker     무선/이동통신   0           1  \n",
       "2        NaN       Maker     무선/이동통신   0           1  \n",
       "3        NaN       Maker     무선/이동통신   0           1  \n",
       "4        NaN      Portal         네이버   0           1  "
      ]
     },
     "execution_count": 38,
     "metadata": {},
     "output_type": "execute_result"
    }
   ],
   "source": [
    "data.head()"
   ]
  },
  {
   "cell_type": "code",
   "execution_count": 39,
   "metadata": {},
   "outputs": [
    {
     "data": {
      "application/vnd.jupyter.widget-view+json": {
       "model_id": "ecf1d1be16934f73a5494527c02f7c3a"
      }
     },
     "metadata": {},
     "output_type": "display_data"
    }
   ],
   "source": [
    "portal = ['naver.com/', 'google.co.kr/', 'daum.net/', 'nate.com/', 'm.naver.com/']\n",
    "#data1 = pd.DataFrame()\n",
    "portal_index= []\n",
    "for ID in tqdm_notebook(data.UID.unique()):\n",
    "    temp = data[data.UID == ID]\n",
    "    for session in temp.session_id.unique():\n",
    "        \n",
    "        temp1 = temp[temp['session_id'] == session]\n",
    "        temp1 = temp1.reset_index()\n",
    "        if temp1['Domain'][0] not in portal:\n",
    "            #data1 = pd.concat([data1, temp1])\n",
    "            continue\n",
    "        else:\n",
    "            for i in range(len(temp1['Domain'])-1):\n",
    "                if temp1['Domain'][i] != temp1['Domain'][i+1]:\n",
    "                    break\n",
    "                else:\n",
    "                    portal_index.append(int(temp1['index'][i]))\n",
    "            \n",
    "        #if portal_index:\n",
    "data.drop(portal_index,inplace= True)\n",
    "        #data1 = pd.concat([data1, temp1])"
   ]
  },
  {
   "cell_type": "code",
   "execution_count": null,
   "metadata": {},
   "outputs": [],
   "source": [
    "data1.shape"
   ]
  },
  {
   "cell_type": "code",
   "execution_count": 41,
   "metadata": {},
   "outputs": [],
   "source": [
    "data.to_csv('preprocessed_data.csv')"
   ]
  },
  {
   "cell_type": "code",
   "execution_count": null,
   "metadata": {},
   "outputs": [],
   "source": []
  }
 ],
 "metadata": {
  "kernelspec": {
   "display_name": "Python 3",
   "language": "python",
   "name": "python3"
  },
  "language_info": {
   "codemirror_mode": {
    "name": "ipython",
    "version": 3
   },
   "file_extension": ".py",
   "mimetype": "text/x-python",
   "name": "python",
   "nbconvert_exporter": "python",
   "pygments_lexer": "ipython3",
   "version": "3.6.8"
  }
 },
 "nbformat": 4,
 "nbformat_minor": 2
}
