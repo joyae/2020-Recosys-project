{
 "cells": [
  {
   "cell_type": "code",
   "execution_count": 1,
   "metadata": {},
   "outputs": [],
   "source": [
    "import pandas as pd"
   ]
  },
  {
   "cell_type": "markdown",
   "metadata": {},
   "source": [
    "## Load data"
   ]
  },
  {
   "cell_type": "markdown",
   "metadata": {},
   "source": [
    "#### Mobile Log data"
   ]
  },
  {
   "cell_type": "code",
   "execution_count": 2,
   "metadata": {},
   "outputs": [],
   "source": [
    "# Mobile\n",
    "mobile = pd.read_csv(\"./data(다운로드금지)/PCMB공통수집패널로그_MB_201406.csv\", low_memory=False, header=None)"
   ]
  },
  {
   "cell_type": "code",
   "execution_count": 3,
   "metadata": {},
   "outputs": [],
   "source": [
    "mobile.columns = [\"UID\",\"Full_URL\",\"Site\",\"Domain\",\"Time\", \"Title\",\n",
    "              \"keyword_p\",\"keyword_t\",\n",
    "              \"category_1\",\"category_2\",\"category_3\",\"category_4\",\"category_5\",\"category_6\",\n",
    "              \"ownership_1\",\"ownership_2\"]"
   ]
  },
  {
   "cell_type": "code",
   "execution_count": 4,
   "metadata": {},
   "outputs": [],
   "source": [
    "mobile.UID = mobile.UID.map(lambda x: x.replace(\" \",\"\"))"
   ]
  },
  {
   "cell_type": "markdown",
   "metadata": {},
   "source": [
    "#### PC Log data"
   ]
  },
  {
   "cell_type": "code",
   "execution_count": 5,
   "metadata": {},
   "outputs": [],
   "source": [
    "# PC\n",
    "pc1 = pd.read_csv(\"/home/da/jupyter/김현준/PCMB공통수집패널로그_PC_20140601_10.csv\", header=None, low_memory=False)\n",
    "pc2 = pd.read_csv(\"/home/da/jupyter/김현준/PCMB공통수집패널로그_PC_20140611_20.csv\", header=None, low_memory=False)\n",
    "pc3 = pd.read_csv(\"/home/da/jupyter/김현준/PCMB공통수집패널로그_PC_20140621_30.csv\", header=None, low_memory=False)"
   ]
  },
  {
   "cell_type": "code",
   "execution_count": 6,
   "metadata": {},
   "outputs": [],
   "source": [
    "pc1.columns = [\"UID\",\"Full_URL\",\"Site\",\"Domain\",\"Time\", \"Title\",\n",
    "              \"keyword_p\",\"keyword_t\",\n",
    "              \"category_1\",\"category_2\",\"category_3\",\"category_4\",\"category_5\",\"category_6\",\n",
    "              \"ownership_1\",\"ownership_2\"]\n",
    "pc2.columns = [\"UID\",\"Full_URL\",\"Site\",\"Domain\",\"Time\", \"Title\",\n",
    "              \"keyword_p\",\"keyword_t\",\n",
    "              \"category_1\",\"category_2\",\"category_3\",\"category_4\",\"category_5\",\"category_6\",\n",
    "              \"ownership_1\",\"ownership_2\"]\n",
    "pc3.columns = [\"UID\",\"Full_URL\",\"Site\",\"Domain\",\"Time\", \"Title\",\n",
    "              \"keyword_p\",\"keyword_t\",\n",
    "              \"category_1\",\"category_2\",\"category_3\",\"category_4\",\"category_5\",\"category_6\",\n",
    "              \"ownership_1\",\"ownership_2\"]"
   ]
  },
  {
   "cell_type": "code",
   "execution_count": 7,
   "metadata": {},
   "outputs": [],
   "source": [
    "pc1.UID = pc1.UID.map(lambda x: x.replace(\" \",\"\"))\n",
    "pc2.UID = pc2.UID.map(lambda x: x.replace(\" \",\"\"))\n",
    "pc3.UID = pc3.UID.map(lambda x: x.replace(\" \",\"\"))"
   ]
  },
  {
   "cell_type": "code",
   "execution_count": 10,
   "metadata": {},
   "outputs": [],
   "source": [
    "pc = pd.concat([pc1, pc2, pc3], axis=0)"
   ]
  },
  {
   "cell_type": "markdown",
   "metadata": {},
   "source": [
    "#### Survey data"
   ]
  },
  {
   "cell_type": "code",
   "execution_count": 8,
   "metadata": {},
   "outputs": [
    {
     "name": "stdout",
     "output_type": "stream",
     "text": [
      "서베이의 총 UID 개수: 1066\n"
     ]
    }
   ],
   "source": [
    "# 패널 서베이\n",
    "survey = pd.read_excel(\"./data(다운로드금지)/140716_SSK 구매행태 조사 Raw Data_F.xlsx\")\n",
    "survey.UID = survey.UID.map(lambda x: x.replace(\" \",\"\"))\n",
    "print(\"서베이의 총 UID 개수:\", survey.UID.nunique())"
   ]
  },
  {
   "cell_type": "code",
   "execution_count": 18,
   "metadata": {},
   "outputs": [],
   "source": [
    "uid_list = survey.UID.unique().tolist()"
   ]
  },
  {
   "cell_type": "code",
   "execution_count": 16,
   "metadata": {},
   "outputs": [],
   "source": [
    "# Mobile/PC 여부 컬럼 추가\n",
    "# 1 = PC\n",
    "# 0 = Mobile\n",
    "mob_sample[\"PC\"] = 0\n",
    "pc_sample[\"PC\"] = 1"
   ]
  },
  {
   "cell_type": "markdown",
   "metadata": {},
   "source": [
    "## Mobile/PC to one dataframe"
   ]
  },
  {
   "cell_type": "code",
   "execution_count": 11,
   "metadata": {},
   "outputs": [],
   "source": [
    "mobile[\"PC\"] = 0\n",
    "pc[\"PC\"] = 1"
   ]
  },
  {
   "cell_type": "code",
   "execution_count": 12,
   "metadata": {},
   "outputs": [],
   "source": [
    "data = pd.concat([mobile, pc], axis=0)"
   ]
  },
  {
   "cell_type": "code",
   "execution_count": 13,
   "metadata": {},
   "outputs": [],
   "source": [
    "data.reset_index(drop=True, inplace=True)"
   ]
  },
  {
   "cell_type": "code",
   "execution_count": 14,
   "metadata": {},
   "outputs": [],
   "source": [
    "# Time 데이터 속성 변경\n",
    "data[\"Time\"] = data[\"Time\"].astype(\"datetime64\")"
   ]
  },
  {
   "cell_type": "code",
   "execution_count": 15,
   "metadata": {},
   "outputs": [],
   "source": [
    "# 안쓰는 컬럼 삭제\n",
    "data.drop([\"Site\",\"Title\",\"keyword_p\",\"keyword_t\",\n",
    "             \"category_1\", \"category_2\", \"category_3\", \"category_4\", \"category_5\", \"category_6\"],\n",
    "             axis=1, inplace=True)"
   ]
  },
  {
   "cell_type": "code",
   "execution_count": 16,
   "metadata": {},
   "outputs": [
    {
     "name": "stdout",
     "output_type": "stream",
     "text": [
      "# of rows: 50999038\n"
     ]
    }
   ],
   "source": [
    "print(\"# of rows:\", len(data))"
   ]
  },
  {
   "cell_type": "code",
   "execution_count": 17,
   "metadata": {
    "scrolled": true
   },
   "outputs": [
    {
     "name": "stdout",
     "output_type": "stream",
     "text": [
      "# of unique UIDs: 2103\n"
     ]
    }
   ],
   "source": [
    "print(\"# of unique UIDs:\", data.UID.nunique())"
   ]
  },
  {
   "cell_type": "markdown",
   "metadata": {},
   "source": [
    "## 서베이에 참여한 패널들만 sample"
   ]
  },
  {
   "cell_type": "code",
   "execution_count": 20,
   "metadata": {},
   "outputs": [],
   "source": [
    "sample = data[data[\"UID\"].isin(uid_list)].copy()"
   ]
  },
  {
   "cell_type": "code",
   "execution_count": 22,
   "metadata": {},
   "outputs": [],
   "source": [
    "sample.reset_index(drop=True, inplace=True)"
   ]
  },
  {
   "cell_type": "code",
   "execution_count": 23,
   "metadata": {
    "scrolled": false
   },
   "outputs": [
    {
     "data": {
      "text/html": [
       "<div>\n",
       "<style scoped>\n",
       "    .dataframe tbody tr th:only-of-type {\n",
       "        vertical-align: middle;\n",
       "    }\n",
       "\n",
       "    .dataframe tbody tr th {\n",
       "        vertical-align: top;\n",
       "    }\n",
       "\n",
       "    .dataframe thead th {\n",
       "        text-align: right;\n",
       "    }\n",
       "</style>\n",
       "<table border=\"1\" class=\"dataframe\">\n",
       "  <thead>\n",
       "    <tr style=\"text-align: right;\">\n",
       "      <th></th>\n",
       "      <th>UID</th>\n",
       "      <th>Full_URL</th>\n",
       "      <th>Domain</th>\n",
       "      <th>Time</th>\n",
       "      <th>ownership_1</th>\n",
       "      <th>ownership_2</th>\n",
       "      <th>PC</th>\n",
       "    </tr>\n",
       "  </thead>\n",
       "  <tbody>\n",
       "    <tr>\n",
       "      <th>0</th>\n",
       "      <td>20130820A574A4005D61</td>\n",
       "      <td>http://www.koreapas.com/m/view.php?id=pashion&amp;...</td>\n",
       "      <td>koreapas.com/</td>\n",
       "      <td>2014-06-01 22:26:59</td>\n",
       "      <td>NaN</td>\n",
       "      <td>NaN</td>\n",
       "      <td>0</td>\n",
       "    </tr>\n",
       "    <tr>\n",
       "      <th>1</th>\n",
       "      <td>20130923D5653FF28FD9</td>\n",
       "      <td>http://www.swimdoctormall.co.kr/?mode=PC</td>\n",
       "      <td>swimdoctormall.co.kr/</td>\n",
       "      <td>2014-06-05 21:59:00</td>\n",
       "      <td>NaN</td>\n",
       "      <td>NaN</td>\n",
       "      <td>0</td>\n",
       "    </tr>\n",
       "    <tr>\n",
       "      <th>2</th>\n",
       "      <td>20130820A574A4005D61</td>\n",
       "      <td>http://www.koreapas.com/m/view.php?id=pashion&amp;...</td>\n",
       "      <td>koreapas.com/</td>\n",
       "      <td>2014-06-01 22:27:28</td>\n",
       "      <td>NaN</td>\n",
       "      <td>NaN</td>\n",
       "      <td>0</td>\n",
       "    </tr>\n",
       "    <tr>\n",
       "      <th>3</th>\n",
       "      <td>20130923D5653FF28FD9</td>\n",
       "      <td>http://www.swimdoctormall.co.kr/mall/index.php</td>\n",
       "      <td>swimdoctormall.co.kr/</td>\n",
       "      <td>2014-06-05 21:59:09</td>\n",
       "      <td>NaN</td>\n",
       "      <td>NaN</td>\n",
       "      <td>0</td>\n",
       "    </tr>\n",
       "    <tr>\n",
       "      <th>4</th>\n",
       "      <td>20130923D5653FF28FD9</td>\n",
       "      <td>http://www.swimdoctor.com/bbs/bbs_view.php?cod...</td>\n",
       "      <td>swimdoctor.com/</td>\n",
       "      <td>2014-06-06 02:40:15</td>\n",
       "      <td>NaN</td>\n",
       "      <td>NaN</td>\n",
       "      <td>0</td>\n",
       "    </tr>\n",
       "  </tbody>\n",
       "</table>\n",
       "</div>"
      ],
      "text/plain": [
       "                    UID                                           Full_URL  \\\n",
       "0  20130820A574A4005D61  http://www.koreapas.com/m/view.php?id=pashion&...   \n",
       "1  20130923D5653FF28FD9           http://www.swimdoctormall.co.kr/?mode=PC   \n",
       "2  20130820A574A4005D61  http://www.koreapas.com/m/view.php?id=pashion&...   \n",
       "3  20130923D5653FF28FD9     http://www.swimdoctormall.co.kr/mall/index.php   \n",
       "4  20130923D5653FF28FD9  http://www.swimdoctor.com/bbs/bbs_view.php?cod...   \n",
       "\n",
       "                  Domain                Time ownership_1 ownership_2  PC  \n",
       "0          koreapas.com/ 2014-06-01 22:26:59         NaN         NaN   0  \n",
       "1  swimdoctormall.co.kr/ 2014-06-05 21:59:00         NaN         NaN   0  \n",
       "2          koreapas.com/ 2014-06-01 22:27:28         NaN         NaN   0  \n",
       "3  swimdoctormall.co.kr/ 2014-06-05 21:59:09         NaN         NaN   0  \n",
       "4        swimdoctor.com/ 2014-06-06 02:40:15         NaN         NaN   0  "
      ]
     },
     "execution_count": 23,
     "metadata": {},
     "output_type": "execute_result"
    }
   ],
   "source": [
    "sample.head()"
   ]
  },
  {
   "cell_type": "code",
   "execution_count": 24,
   "metadata": {},
   "outputs": [],
   "source": [
    "# 데이터프레임 저장\n",
    "sample.to_csv(\"./data(다운로드금지)/0120_PC&Mob_06.csv\", index=False)"
   ]
  }
 ],
 "metadata": {
  "kernelspec": {
   "display_name": "Python 3",
   "language": "python",
   "name": "python3"
  },
  "language_info": {
   "codemirror_mode": {
    "name": "ipython",
    "version": 3
   },
   "file_extension": ".py",
   "mimetype": "text/x-python",
   "name": "python",
   "nbconvert_exporter": "python",
   "pygments_lexer": "ipython3",
   "version": "3.6.8"
  }
 },
 "nbformat": 4,
 "nbformat_minor": 2
}
